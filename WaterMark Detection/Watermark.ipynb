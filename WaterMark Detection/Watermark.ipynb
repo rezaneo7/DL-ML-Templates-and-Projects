{
  "nbformat": 4,
  "nbformat_minor": 0,
  "metadata": {
    "colab": {
      "name": "q2_new.ipynb",
      "provenance": [],
      "collapsed_sections": []
    },
    "kernelspec": {
      "name": "python3",
      "display_name": "Python 3"
    },
    "language_info": {
      "name": "python"
    },
    "accelerator": "GPU",
    "widgets": {
      "application/vnd.jupyter.widget-state+json": {
        "25bf89c96c0c45afb66a9ea2d31235d2": {
          "model_module": "@jupyter-widgets/controls",
          "model_name": "HBoxModel",
          "model_module_version": "1.5.0",
          "state": {
            "_view_name": "HBoxView",
            "_dom_classes": [],
            "_model_name": "HBoxModel",
            "_view_module": "@jupyter-widgets/controls",
            "_model_module_version": "1.5.0",
            "_view_count": null,
            "_view_module_version": "1.5.0",
            "box_style": "",
            "layout": "IPY_MODEL_83ad50d410244fceac7b02248a6e9f60",
            "_model_module": "@jupyter-widgets/controls",
            "children": [
              "IPY_MODEL_8974ee7defd14101970b203343dfafc6",
              "IPY_MODEL_c5cce5840af24629bacf43aeb1708780",
              "IPY_MODEL_c6b4f991cf514da397d09aa3164826a1"
            ]
          }
        },
        "83ad50d410244fceac7b02248a6e9f60": {
          "model_module": "@jupyter-widgets/base",
          "model_name": "LayoutModel",
          "model_module_version": "1.2.0",
          "state": {
            "_view_name": "LayoutView",
            "grid_template_rows": null,
            "right": null,
            "justify_content": null,
            "_view_module": "@jupyter-widgets/base",
            "overflow": null,
            "_model_module_version": "1.2.0",
            "_view_count": null,
            "flex_flow": null,
            "width": null,
            "min_width": null,
            "border": null,
            "align_items": null,
            "bottom": null,
            "_model_module": "@jupyter-widgets/base",
            "top": null,
            "grid_column": null,
            "overflow_y": null,
            "overflow_x": null,
            "grid_auto_flow": null,
            "grid_area": null,
            "grid_template_columns": null,
            "flex": null,
            "_model_name": "LayoutModel",
            "justify_items": null,
            "grid_row": null,
            "max_height": null,
            "align_content": null,
            "visibility": null,
            "align_self": null,
            "height": null,
            "min_height": null,
            "padding": null,
            "grid_auto_rows": null,
            "grid_gap": null,
            "max_width": null,
            "order": null,
            "_view_module_version": "1.2.0",
            "grid_template_areas": null,
            "object_position": null,
            "object_fit": null,
            "grid_auto_columns": null,
            "margin": null,
            "display": null,
            "left": null
          }
        },
        "8974ee7defd14101970b203343dfafc6": {
          "model_module": "@jupyter-widgets/controls",
          "model_name": "HTMLModel",
          "model_module_version": "1.5.0",
          "state": {
            "_view_name": "HTMLView",
            "style": "IPY_MODEL_358975289916433d8a71f598f0963c7e",
            "_dom_classes": [],
            "description": "",
            "_model_name": "HTMLModel",
            "placeholder": "​",
            "_view_module": "@jupyter-widgets/controls",
            "_model_module_version": "1.5.0",
            "value": "100%",
            "_view_count": null,
            "_view_module_version": "1.5.0",
            "description_tooltip": null,
            "_model_module": "@jupyter-widgets/controls",
            "layout": "IPY_MODEL_742bd1a0a22d4508ae7670947c2f003a"
          }
        },
        "c5cce5840af24629bacf43aeb1708780": {
          "model_module": "@jupyter-widgets/controls",
          "model_name": "FloatProgressModel",
          "model_module_version": "1.5.0",
          "state": {
            "_view_name": "ProgressView",
            "style": "IPY_MODEL_4131bea0550c405ab5e90873f72cee0f",
            "_dom_classes": [],
            "description": "",
            "_model_name": "FloatProgressModel",
            "bar_style": "success",
            "max": 266860719,
            "_view_module": "@jupyter-widgets/controls",
            "_model_module_version": "1.5.0",
            "value": 266860719,
            "_view_count": null,
            "_view_module_version": "1.5.0",
            "orientation": "horizontal",
            "min": 0,
            "description_tooltip": null,
            "_model_module": "@jupyter-widgets/controls",
            "layout": "IPY_MODEL_d925e56034094fdba2a6059871de3cb3"
          }
        },
        "c6b4f991cf514da397d09aa3164826a1": {
          "model_module": "@jupyter-widgets/controls",
          "model_name": "HTMLModel",
          "model_module_version": "1.5.0",
          "state": {
            "_view_name": "HTMLView",
            "style": "IPY_MODEL_8b06ef8b4aac4feab40c25e26b6a76c5",
            "_dom_classes": [],
            "description": "",
            "_model_name": "HTMLModel",
            "placeholder": "​",
            "_view_module": "@jupyter-widgets/controls",
            "_model_module_version": "1.5.0",
            "value": " 254M/254M [00:04&lt;00:00, 38.1MB/s]",
            "_view_count": null,
            "_view_module_version": "1.5.0",
            "description_tooltip": null,
            "_model_module": "@jupyter-widgets/controls",
            "layout": "IPY_MODEL_a873e10fcb9f41cbbf03e35a814af8b6"
          }
        },
        "358975289916433d8a71f598f0963c7e": {
          "model_module": "@jupyter-widgets/controls",
          "model_name": "DescriptionStyleModel",
          "model_module_version": "1.5.0",
          "state": {
            "_view_name": "StyleView",
            "_model_name": "DescriptionStyleModel",
            "description_width": "",
            "_view_module": "@jupyter-widgets/base",
            "_model_module_version": "1.5.0",
            "_view_count": null,
            "_view_module_version": "1.2.0",
            "_model_module": "@jupyter-widgets/controls"
          }
        },
        "742bd1a0a22d4508ae7670947c2f003a": {
          "model_module": "@jupyter-widgets/base",
          "model_name": "LayoutModel",
          "model_module_version": "1.2.0",
          "state": {
            "_view_name": "LayoutView",
            "grid_template_rows": null,
            "right": null,
            "justify_content": null,
            "_view_module": "@jupyter-widgets/base",
            "overflow": null,
            "_model_module_version": "1.2.0",
            "_view_count": null,
            "flex_flow": null,
            "width": null,
            "min_width": null,
            "border": null,
            "align_items": null,
            "bottom": null,
            "_model_module": "@jupyter-widgets/base",
            "top": null,
            "grid_column": null,
            "overflow_y": null,
            "overflow_x": null,
            "grid_auto_flow": null,
            "grid_area": null,
            "grid_template_columns": null,
            "flex": null,
            "_model_name": "LayoutModel",
            "justify_items": null,
            "grid_row": null,
            "max_height": null,
            "align_content": null,
            "visibility": null,
            "align_self": null,
            "height": null,
            "min_height": null,
            "padding": null,
            "grid_auto_rows": null,
            "grid_gap": null,
            "max_width": null,
            "order": null,
            "_view_module_version": "1.2.0",
            "grid_template_areas": null,
            "object_position": null,
            "object_fit": null,
            "grid_auto_columns": null,
            "margin": null,
            "display": null,
            "left": null
          }
        },
        "4131bea0550c405ab5e90873f72cee0f": {
          "model_module": "@jupyter-widgets/controls",
          "model_name": "ProgressStyleModel",
          "model_module_version": "1.5.0",
          "state": {
            "_view_name": "StyleView",
            "_model_name": "ProgressStyleModel",
            "description_width": "",
            "_view_module": "@jupyter-widgets/base",
            "_model_module_version": "1.5.0",
            "_view_count": null,
            "_view_module_version": "1.2.0",
            "bar_color": null,
            "_model_module": "@jupyter-widgets/controls"
          }
        },
        "d925e56034094fdba2a6059871de3cb3": {
          "model_module": "@jupyter-widgets/base",
          "model_name": "LayoutModel",
          "model_module_version": "1.2.0",
          "state": {
            "_view_name": "LayoutView",
            "grid_template_rows": null,
            "right": null,
            "justify_content": null,
            "_view_module": "@jupyter-widgets/base",
            "overflow": null,
            "_model_module_version": "1.2.0",
            "_view_count": null,
            "flex_flow": null,
            "width": null,
            "min_width": null,
            "border": null,
            "align_items": null,
            "bottom": null,
            "_model_module": "@jupyter-widgets/base",
            "top": null,
            "grid_column": null,
            "overflow_y": null,
            "overflow_x": null,
            "grid_auto_flow": null,
            "grid_area": null,
            "grid_template_columns": null,
            "flex": null,
            "_model_name": "LayoutModel",
            "justify_items": null,
            "grid_row": null,
            "max_height": null,
            "align_content": null,
            "visibility": null,
            "align_self": null,
            "height": null,
            "min_height": null,
            "padding": null,
            "grid_auto_rows": null,
            "grid_gap": null,
            "max_width": null,
            "order": null,
            "_view_module_version": "1.2.0",
            "grid_template_areas": null,
            "object_position": null,
            "object_fit": null,
            "grid_auto_columns": null,
            "margin": null,
            "display": null,
            "left": null
          }
        },
        "8b06ef8b4aac4feab40c25e26b6a76c5": {
          "model_module": "@jupyter-widgets/controls",
          "model_name": "DescriptionStyleModel",
          "model_module_version": "1.5.0",
          "state": {
            "_view_name": "StyleView",
            "_model_name": "DescriptionStyleModel",
            "description_width": "",
            "_view_module": "@jupyter-widgets/base",
            "_model_module_version": "1.5.0",
            "_view_count": null,
            "_view_module_version": "1.2.0",
            "_model_module": "@jupyter-widgets/controls"
          }
        },
        "a873e10fcb9f41cbbf03e35a814af8b6": {
          "model_module": "@jupyter-widgets/base",
          "model_name": "LayoutModel",
          "model_module_version": "1.2.0",
          "state": {
            "_view_name": "LayoutView",
            "grid_template_rows": null,
            "right": null,
            "justify_content": null,
            "_view_module": "@jupyter-widgets/base",
            "overflow": null,
            "_model_module_version": "1.2.0",
            "_view_count": null,
            "flex_flow": null,
            "width": null,
            "min_width": null,
            "border": null,
            "align_items": null,
            "bottom": null,
            "_model_module": "@jupyter-widgets/base",
            "top": null,
            "grid_column": null,
            "overflow_y": null,
            "overflow_x": null,
            "grid_auto_flow": null,
            "grid_area": null,
            "grid_template_columns": null,
            "flex": null,
            "_model_name": "LayoutModel",
            "justify_items": null,
            "grid_row": null,
            "max_height": null,
            "align_content": null,
            "visibility": null,
            "align_self": null,
            "height": null,
            "min_height": null,
            "padding": null,
            "grid_auto_rows": null,
            "grid_gap": null,
            "max_width": null,
            "order": null,
            "_view_module_version": "1.2.0",
            "grid_template_areas": null,
            "object_position": null,
            "object_fit": null,
            "grid_auto_columns": null,
            "margin": null,
            "display": null,
            "left": null
          }
        }
      }
    }
  },
  "cells": [
    {
      "cell_type": "code",
      "execution_count": null,
      "metadata": {
        "id": "9G8zeoyAg6Uk"
      },
      "outputs": [],
      "source": [
        "## import libraries\n",
        "import torch\n",
        "import torch.nn as nn\n",
        "import torch.nn.functional as F\n",
        "import torchvision\n",
        "from torchvision import models\n",
        "import torchvision.transforms as transforms"
      ]
    },
    {
      "cell_type": "code",
      "source": [
        "from google.colab import drive\n",
        "drive.mount('/content/drive')"
      ],
      "metadata": {
        "colab": {
          "base_uri": "https://localhost:8080/"
        },
        "id": "MIvtPLBAg9FM",
        "outputId": "016322e0-0535-42f0-ce4b-04297650f8c0"
      },
      "execution_count": null,
      "outputs": [
        {
          "output_type": "stream",
          "name": "stdout",
          "text": [
            "Mounted at /content/drive\n"
          ]
        }
      ]
    },
    {
      "cell_type": "code",
      "source": [
        "!cp drive/MyDrive/dk-dataset.zip /content"
      ],
      "metadata": {
        "id": "kwAafJQQhJ3V"
      },
      "execution_count": null,
      "outputs": []
    },
    {
      "cell_type": "code",
      "source": [
        "!unzip dk-dataset.zip"
      ],
      "metadata": {
        "id": "-5M88E8ChQGh"
      },
      "execution_count": null,
      "outputs": []
    },
    {
      "cell_type": "code",
      "source": [
        "!mv dataset/train/positive dataset/train/1"
      ],
      "metadata": {
        "id": "rb540jxzhTE9"
      },
      "execution_count": null,
      "outputs": []
    },
    {
      "cell_type": "code",
      "source": [
        "!mv dataset/train/negative dataset/train/0"
      ],
      "metadata": {
        "id": "ttiBG6_0hW5v"
      },
      "execution_count": null,
      "outputs": []
    },
    {
      "cell_type": "code",
      "source": [
        "!mkdir dataset/test/0"
      ],
      "metadata": {
        "id": "R-Yf0b-C5NFX"
      },
      "execution_count": null,
      "outputs": []
    },
    {
      "cell_type": "code",
      "source": [
        "!mv dataset/test/* dataset/test/0"
      ],
      "metadata": {
        "colab": {
          "base_uri": "https://localhost:8080/"
        },
        "id": "a3L9J7aG5Ph2",
        "outputId": "155d9799-7ca0-4747-f107-492f36df62ff"
      },
      "execution_count": null,
      "outputs": [
        {
          "output_type": "stream",
          "name": "stdout",
          "text": [
            "mv: cannot move 'dataset/test/0' to a subdirectory of itself, 'dataset/test/0/0'\n"
          ]
        }
      ]
    },
    {
      "cell_type": "code",
      "source": [
        "test_data = torchvision.datasets.ImageFolder(root ='dataset/test', transform = transform)\n",
        "testloader = torch.utils.data.DataLoader(dataset=test_data, batch_size=BATCH_SIZE,\n",
        "                                         shuffle=False, num_workers=2)"
      ],
      "metadata": {
        "id": "tOQXsc7p4-mp"
      },
      "execution_count": null,
      "outputs": []
    },
    {
      "cell_type": "code",
      "source": [
        "len(train_data)"
      ],
      "metadata": {
        "colab": {
          "base_uri": "https://localhost:8080/"
        },
        "id": "5GOk5PC15MCI",
        "outputId": "97406d8c-470e-4322-e695-ceb871aa8334"
      },
      "execution_count": null,
      "outputs": [
        {
          "output_type": "execute_result",
          "data": {
            "text/plain": [
              "8582"
            ]
          },
          "metadata": {},
          "execution_count": 21
        }
      ]
    },
    {
      "cell_type": "code",
      "source": [
        "%%capture\n",
        "BATCH_SIZE = 4\n",
        "\n",
        "transform = transforms.Compose(\n",
        "    [transforms.ToTensor(),\n",
        "     transforms.Resize((100,100))])\n",
        "\n",
        "\n",
        "## transformations\n",
        "\n",
        "## download and load training dataset\n",
        "train_data = torchvision.datasets.ImageFolder(root ='dataset/train', transform = transform)\n",
        "trainloader = torch.utils.data.DataLoader(dataset=train_data, batch_size=BATCH_SIZE,\n",
        "                                          shuffle=True, num_workers=2)\n",
        "\n",
        "## download and load testing dataset\n",
        "test_data = torchvision.datasets.ImageFolder(root ='dataset/test', transform = transform)\n",
        "testloader = torch.utils.data.DataLoader(dataset=test_data, batch_size=BATCH_SIZE,\n",
        "                                         shuffle=False, num_workers=2)"
      ],
      "metadata": {
        "id": "voNpJ5w2hY1n"
      },
      "execution_count": null,
      "outputs": []
    },
    {
      "cell_type": "code",
      "source": [
        "import numpy as np\n",
        "import matplotlib.pyplot as plt\n",
        "def imshow(inp, title=None):\n",
        "    \"\"\"Imshow for Tensor.\"\"\"\n",
        "    inp = inp.numpy().transpose((1, 2, 0))\n",
        "    mean = np.array([0.485, 0.456, 0.406])\n",
        "    std = np.array([0.229, 0.224, 0.225])\n",
        "    inp = std * inp + mean\n",
        "    inp = np.clip(inp, 0, 1)\n",
        "    plt.imshow(inp)\n",
        "    if title is not None:\n",
        "        plt.title(title)\n",
        "    plt.pause(0.001)  # pause a bit so that plots are updated\n",
        "\n",
        "\n",
        "# Get a batch of training data\n",
        "inputs, classes = next(iter(trainloader))\n",
        "\n",
        "# Make a grid from batch\n",
        "out = torchvision.utils.make_grid(inputs)\n",
        "\n",
        "imshow(out, title=[x for x in classes])"
      ],
      "metadata": {
        "colab": {
          "base_uri": "https://localhost:8080/",
          "height": 149
        },
        "id": "zNj2spu_irap",
        "outputId": "d533fb28-92fe-49a8-b148-3fe3f2d3d14c"
      },
      "execution_count": null,
      "outputs": [
        {
          "output_type": "display_data",
          "data": {
            "image/png": "[encoded data removed]",
            "text/plain": [
              "<Figure size 432x288 with 1 Axes>"
            ]
          },
          "metadata": {
            "needs_background": "light"
          }
        }
      ]
    },
    {
      "cell_type": "code",
      "source": [
        "for images, labels in trainloader:\n",
        "    print(\"Image batch dimensions:\", images.shape)\n",
        "    print(\"Image label dimensions:\", labels.shape)\n",
        "    break"
      ],
      "metadata": {
        "colab": {
          "base_uri": "https://localhost:8080/"
        },
        "id": "-JRtRzW0oWbv",
        "outputId": "a25cf93f-7be0-425e-9d80-bc73b3e9ba05"
      },
      "execution_count": null,
      "outputs": [
        {
          "output_type": "stream",
          "name": "stdout",
          "text": [
            "Image batch dimensions: torch.Size([4, 3, 100, 100])\n",
            "Image label dimensions: torch.Size([4])\n"
          ]
        }
      ]
    },
    {
      "cell_type": "code",
      "source": [
        "!pip install efficientnet_pytorch"
      ],
      "metadata": {
        "colab": {
          "base_uri": "https://localhost:8080/"
        },
        "id": "L3RmwSIctYEg",
        "outputId": "3e522ecc-e84a-4b76-95bf-895e6925d56c"
      },
      "execution_count": null,
      "outputs": [
        {
          "output_type": "stream",
          "name": "stdout",
          "text": [
            "Collecting efficientnet_pytorch\n",
            "  Downloading efficientnet_pytorch-0.7.1.tar.gz (21 kB)\n",
            "Requirement already satisfied: torch in /usr/local/lib/python3.7/dist-packages (from efficientnet_pytorch) (1.10.0+cu111)\n",
            "Requirement already satisfied: typing-extensions in /usr/local/lib/python3.7/dist-packages (from torch->efficientnet_pytorch) (3.10.0.2)\n",
            "Building wheels for collected packages: efficientnet-pytorch\n",
            "  Building wheel for efficientnet-pytorch (setup.py) ... \u001b[?25l\u001b[?25hdone\n",
            "  Created wheel for efficientnet-pytorch: filename=efficientnet_pytorch-0.7.1-py3-none-any.whl size=16446 sha256=ac2bf2588fcacb70af14c12578e2927ed351fa7424453d964a6c9b872c5b23f3\n",
            "  Stored in directory: /root/.cache/pip/wheels/0e/cc/b2/49e74588263573ff778da58cc99b9c6349b496636a7e165be6\n",
            "Successfully built efficientnet-pytorch\n",
            "Installing collected packages: efficientnet-pytorch\n",
            "Successfully installed efficientnet-pytorch-0.7.1\n"
          ]
        }
      ]
    },
    {
      "cell_type": "code",
      "source": [
        "#using efficientnet model based transfer learning\n",
        "from efficientnet_pytorch import EfficientNet\n",
        "class MyModel(nn.Module):\n",
        "    def __init__(self):\n",
        "        super(MyModel, self).__init__()\n",
        "        #self.resnet =  EfficientNet.from_pretrained('efficientnet-b7')\n",
        "        self.resnet = models.resnet50(pretrained=True)\n",
        "        self.l1 = nn.Linear(1000 , 128)\n",
        "        self.dropout = nn.Dropout(0.5)\n",
        "        self.l2 = nn.Linear(128,2)\n",
        "        self.relu = nn.ReLU()\n",
        "\n",
        "    def forward(self, input):\n",
        "        x = self.resnet(input)\n",
        "        x = x.view(x.size(0),-1)\n",
        "        x = self.dropout(self.relu(self.l1(x)))\n",
        "        x = self.l2(x)\n",
        "        return x\n",
        "\n",
        "#device = torch.device(\"cuda\" if torch.cuda.is_available() else \"cpu\")\n",
        "#classifier = Classifier().to(device)"
      ],
      "metadata": {
        "id": "tfA-Io8MohQY"
      },
      "execution_count": null,
      "outputs": []
    },
    {
      "cell_type": "code",
      "source": [
        "model = models.resnet50(pretrained=True)\n",
        "\n",
        "model = model.cuda() \n",
        "    \n",
        "num_ftrs = model.fc.in_features\n",
        "model.fc = torch.nn.Linear(num_ftrs, 1024)\n",
        "model.fc = nn.Sequential(\n",
        "    torch.nn.Dropout(0.5),\n",
        "    torch.nn.Linear(num_ftrs, 1024),\n",
        "    torch.nn.Dropout(0.2),\n",
        "    torch.nn.Linear(1024, 512),\n",
        "    torch.nn.Dropout(0.2),\n",
        "    torch.nn.Linear(512, 256),\n",
        "    torch.nn.Dropout(0.2),\n",
        "    torch.nn.Linear(256, 128),\n",
        "    torch.nn.Dropout(0.2),\n",
        "    torch.nn.Linear(128, 2)\n",
        ")\n",
        "\n",
        "model.fc = model.fc.cuda()"
      ],
      "metadata": {
        "id": "0pCB0Psq3Q0e"
      },
      "execution_count": null,
      "outputs": []
    },
    {
      "cell_type": "code",
      "source": [
        "batch_size = 4\n",
        "learning_rate = 3e-3\n",
        "num_epochs = 10"
      ],
      "metadata": {
        "id": "nMCYpGtM3iq-"
      },
      "execution_count": null,
      "outputs": []
    },
    {
      "cell_type": "code",
      "source": [
        "criterion = nn.CrossEntropyLoss()\n",
        "optimizer = torch.optim.SGD(model.parameters(), lr=learning_rate, momentum=0.9, weight_decay=5e-4)\n",
        "scheduler = torch.optim.lr_scheduler.StepLR(optimizer, step_size=10, gamma=0.1)"
      ],
      "metadata": {
        "id": "O-raJ4wr3dIl"
      },
      "execution_count": null,
      "outputs": []
    },
    {
      "cell_type": "code",
      "source": [
        "from torch.autograd import Variable\n"
      ],
      "metadata": {
        "id": "rul7yKwZ4OyZ"
      },
      "execution_count": null,
      "outputs": []
    },
    {
      "cell_type": "code",
      "source": [
        "dataloaders = {\n",
        "    'train':\n",
        "    torch.utils.data.DataLoader(train_data,\n",
        "                                batch_size=batch_size,\n",
        "                                shuffle=True,\n",
        "                                num_workers=2),\n",
        "    'test':\n",
        "    torch.utils.data.DataLoader(test_data,\n",
        "                                batch_size=batch_size,\n",
        "                                shuffle=False,\n",
        "                                num_workers=2)\n",
        "}"
      ],
      "metadata": {
        "id": "RaKOSPsv4mle"
      },
      "execution_count": null,
      "outputs": []
    },
    {
      "cell_type": "code",
      "source": [
        "train_acces, test_acces = [], []\n",
        "train_losses, test_losses = [], []\n",
        "total_step = len(dataloaders['train'])\n",
        "test_loss_min = np.Inf\n",
        "for epoch in range(num_epochs):\n",
        "    print(f'Epoch {epoch}\\n')\n",
        "\n",
        "    network_learned = False\n",
        "\n",
        "    for phase in ['train']:\n",
        "\n",
        "        running_loss = 0.0\n",
        "        running_corrects = 0\n",
        "\n",
        "        if phase == 'train':\n",
        "            model.train()\n",
        "\n",
        "            for batch_idx, (inputs, labels) in enumerate(dataloaders[phase]):\n",
        "\n",
        "                \n",
        "                inputs = Variable(inputs.cuda())\n",
        "                labels = Variable(labels.cuda())\n",
        "                \n",
        "  \n",
        "                inputs = inputs.float()\n",
        "                optimizer.zero_grad()\n",
        "                outputs = model(inputs)\n",
        "                loss = criterion(outputs, labels)\n",
        "                loss.backward()\n",
        "                optimizer.step()\n",
        "\n",
        "                _, preds = torch.max(outputs, 1)\n",
        "                running_loss += loss.item()\n",
        "                running_corrects += torch.sum(preds == labels.data)\n",
        "                if (batch_idx) % 20 == 0:\n",
        "                    print ('Epoch [{}/{}], Step [{}/{}], Loss: {:.4f}'.format(epoch, num_epochs-1, batch_idx, total_step, loss.item()))\n",
        "            scheduler.step()\n",
        "        else:\n",
        "            with torch.no_grad():\n",
        "                model.eval()\n",
        "                for inputs, labels in dataloaders[phase]:\n",
        "                    \n",
        "                    inputs = Variable(inputs.cuda())\n",
        "                    labels = Variable(labels.cuda())\n",
        "                  \n",
        "                    \n",
        "                    inputs = inputs.float()\n",
        "                    outputs = model(inputs)\n",
        "                    loss = criterion(outputs, labels)\n",
        "\n",
        "                    _, preds = torch.max(outputs, 1)\n",
        "                    running_loss += loss.item()\n",
        "                    running_corrects += torch.sum(preds == labels.data)\n",
        "            network_learned = running_loss < test_loss_min\n",
        "            test_loss_min = running_loss if network_learned else test_loss_min\n",
        "\n",
        "\n",
        "        epoch_loss = running_loss / len(train_data)\n",
        "        epoch_acc = running_corrects.double() / len(train_data)\n",
        "        \n",
        "        if phase == 'train':\n",
        "            train_acces.append(epoch_acc * 100)\n",
        "            train_losses.append(epoch_loss)\n",
        "        else:\n",
        "            test_acces.append(epoch_acc * 100)\n",
        "            test_losses.append(epoch_loss)\n",
        "    print(f'\\ntrain-loss: {np.mean(train_losses):.4f}, train-acc: {train_acces[-1]:.4f}')\n",
        "    #print(f'test loss: {np.mean(test_losses):.4f}, test acc: {test_acces[-1]:.4f}\\n')\n",
        "\n",
        "    if network_learned:\n",
        "        torch.save(model.state_dict(), 'models/weights.h5')\n",
        "        print('Improvement-Detected, save-model')"
      ],
      "metadata": {
        "colab": {
          "base_uri": "https://localhost:8080/"
        },
        "id": "n-o5c9j53tUS",
        "outputId": "826040c0-2786-4141-d9b9-6ee48df1846c"
      },
      "execution_count": null,
      "outputs": [
        {
          "output_type": "stream",
          "name": "stdout",
          "text": [
            "Epoch [5/9], Step [1320/2146], Loss: 0.4837\n",
            "Epoch [5/9], Step [1340/2146], Loss: 0.0970\n",
            "Epoch [5/9], Step [1360/2146], Loss: 0.0729\n",
            "Epoch [5/9], Step [1380/2146], Loss: 0.1924\n",
            "Epoch [5/9], Step [1400/2146], Loss: 0.3023\n",
            "Epoch [5/9], Step [1420/2146], Loss: 0.2031\n",
            "Epoch [5/9], Step [1440/2146], Loss: 0.3571\n",
            "Epoch [5/9], Step [1460/2146], Loss: 0.2887\n",
            "Epoch [5/9], Step [1480/2146], Loss: 0.8586\n",
            "Epoch [5/9], Step [1500/2146], Loss: 0.0471\n",
            "Epoch [5/9], Step [1520/2146], Loss: 0.3537\n",
            "Epoch [5/9], Step [1540/2146], Loss: 0.7877\n",
            "Epoch [5/9], Step [1560/2146], Loss: 0.2759\n",
            "Epoch [5/9], Step [1580/2146], Loss: 0.0129\n",
            "Epoch [5/9], Step [1600/2146], Loss: 0.0345\n",
            "Epoch [5/9], Step [1620/2146], Loss: 0.1323\n",
            "Epoch [5/9], Step [1640/2146], Loss: 0.2739\n",
            "Epoch [5/9], Step [1660/2146], Loss: 0.4801\n",
            "Epoch [5/9], Step [1680/2146], Loss: 0.2799\n",
            "Epoch [5/9], Step [1700/2146], Loss: 0.1346\n",
            "Epoch [5/9], Step [1720/2146], Loss: 0.1178\n",
            "Epoch [5/9], Step [1740/2146], Loss: 0.4257\n",
            "Epoch [5/9], Step [1760/2146], Loss: 0.2091\n",
            "Epoch [5/9], Step [1780/2146], Loss: 0.1708\n",
            "Epoch [5/9], Step [1800/2146], Loss: 0.7557\n",
            "Epoch [5/9], Step [1820/2146], Loss: 0.1323\n",
            "Epoch [5/9], Step [1840/2146], Loss: 0.0609\n",
            "Epoch [5/9], Step [1860/2146], Loss: 0.0656\n",
            "Epoch [5/9], Step [1880/2146], Loss: 0.0853\n",
            "Epoch [5/9], Step [1900/2146], Loss: 0.0895\n",
            "Epoch [5/9], Step [1920/2146], Loss: 0.5138\n",
            "Epoch [5/9], Step [1940/2146], Loss: 1.2018\n",
            "Epoch [5/9], Step [1960/2146], Loss: 0.2590\n",
            "Epoch [5/9], Step [1980/2146], Loss: 0.1466\n",
            "Epoch [5/9], Step [2000/2146], Loss: 0.0827\n",
            "Epoch [5/9], Step [2020/2146], Loss: 0.0417\n",
            "Epoch [5/9], Step [2040/2146], Loss: 0.0154\n",
            "Epoch [5/9], Step [2060/2146], Loss: 0.5705\n",
            "Epoch [5/9], Step [2080/2146], Loss: 0.9833\n",
            "Epoch [5/9], Step [2100/2146], Loss: 0.1481\n",
            "Epoch [5/9], Step [2120/2146], Loss: 0.5350\n",
            "Epoch [5/9], Step [2140/2146], Loss: 0.0564\n",
            "\n",
            "train-loss: 0.0968, train-acc: 88.3943\n",
            "Epoch 6\n",
            "\n",
            "Epoch [6/9], Step [0/2146], Loss: 0.0435\n",
            "Epoch [6/9], Step [20/2146], Loss: 0.0578\n",
            "Epoch [6/9], Step [40/2146], Loss: 0.2909\n",
            "Epoch [6/9], Step [60/2146], Loss: 0.1021\n",
            "Epoch [6/9], Step [80/2146], Loss: 0.4128\n",
            "Epoch [6/9], Step [100/2146], Loss: 0.2937\n",
            "Epoch [6/9], Step [120/2146], Loss: 0.4154\n",
            "Epoch [6/9], Step [140/2146], Loss: 0.0642\n",
            "Epoch [6/9], Step [160/2146], Loss: 0.1016\n",
            "Epoch [6/9], Step [180/2146], Loss: 0.2026\n",
            "Epoch [6/9], Step [200/2146], Loss: 0.0885\n",
            "Epoch [6/9], Step [220/2146], Loss: 0.2624\n",
            "Epoch [6/9], Step [240/2146], Loss: 0.2562\n",
            "Epoch [6/9], Step [260/2146], Loss: 0.2683\n",
            "Epoch [6/9], Step [280/2146], Loss: 0.0887\n",
            "Epoch [6/9], Step [300/2146], Loss: 2.1250\n",
            "Epoch [6/9], Step [320/2146], Loss: 0.6870\n",
            "Epoch [6/9], Step [340/2146], Loss: 0.1203\n",
            "Epoch [6/9], Step [360/2146], Loss: 1.1266\n",
            "Epoch [6/9], Step [380/2146], Loss: 0.0404\n",
            "Epoch [6/9], Step [400/2146], Loss: 1.2812\n",
            "Epoch [6/9], Step [420/2146], Loss: 0.0850\n",
            "Epoch [6/9], Step [440/2146], Loss: 0.5657\n",
            "Epoch [6/9], Step [460/2146], Loss: 0.1020\n",
            "Epoch [6/9], Step [480/2146], Loss: 0.2152\n",
            "Epoch [6/9], Step [500/2146], Loss: 0.0675\n",
            "Epoch [6/9], Step [520/2146], Loss: 0.2664\n",
            "Epoch [6/9], Step [540/2146], Loss: 0.1936\n",
            "Epoch [6/9], Step [560/2146], Loss: 0.1061\n",
            "Epoch [6/9], Step [580/2146], Loss: 0.2121\n",
            "Epoch [6/9], Step [600/2146], Loss: 0.7246\n",
            "Epoch [6/9], Step [620/2146], Loss: 0.0982\n",
            "Epoch [6/9], Step [640/2146], Loss: 0.9968\n",
            "Epoch [6/9], Step [660/2146], Loss: 0.3876\n",
            "Epoch [6/9], Step [680/2146], Loss: 0.0468\n",
            "Epoch [6/9], Step [700/2146], Loss: 0.4704\n",
            "Epoch [6/9], Step [720/2146], Loss: 0.1123\n",
            "Epoch [6/9], Step [740/2146], Loss: 0.1716\n",
            "Epoch [6/9], Step [760/2146], Loss: 0.2338\n",
            "Epoch [6/9], Step [780/2146], Loss: 0.3733\n",
            "Epoch [6/9], Step [800/2146], Loss: 0.1292\n",
            "Epoch [6/9], Step [820/2146], Loss: 0.0409\n",
            "Epoch [6/9], Step [840/2146], Loss: 0.1946\n",
            "Epoch [6/9], Step [860/2146], Loss: 0.5735\n",
            "Epoch [6/9], Step [880/2146], Loss: 0.0300\n",
            "Epoch [6/9], Step [900/2146], Loss: 0.0359\n",
            "Epoch [6/9], Step [920/2146], Loss: 0.0188\n",
            "Epoch [6/9], Step [940/2146], Loss: 0.0734\n",
            "Epoch [6/9], Step [960/2146], Loss: 1.5016\n",
            "Epoch [6/9], Step [980/2146], Loss: 0.0643\n",
            "Epoch [6/9], Step [1000/2146], Loss: 0.4432\n",
            "Epoch [6/9], Step [1020/2146], Loss: 0.1539\n",
            "Epoch [6/9], Step [1040/2146], Loss: 0.7591\n",
            "Epoch [6/9], Step [1060/2146], Loss: 0.0530\n",
            "Epoch [6/9], Step [1080/2146], Loss: 0.0618\n",
            "Epoch [6/9], Step [1100/2146], Loss: 0.7105\n",
            "Epoch [6/9], Step [1120/2146], Loss: 0.2004\n",
            "Epoch [6/9], Step [1140/2146], Loss: 0.0278\n",
            "Epoch [6/9], Step [1160/2146], Loss: 0.0667\n",
            "Epoch [6/9], Step [1180/2146], Loss: 0.0390\n",
            "Epoch [6/9], Step [1200/2146], Loss: 0.1052\n",
            "Epoch [6/9], Step [1220/2146], Loss: 0.1029\n",
            "Epoch [6/9], Step [1240/2146], Loss: 0.2185\n",
            "Epoch [6/9], Step [1260/2146], Loss: 0.1723\n",
            "Epoch [6/9], Step [1280/2146], Loss: 0.0295\n",
            "Epoch [6/9], Step [1300/2146], Loss: 0.9731\n",
            "Epoch [6/9], Step [1320/2146], Loss: 0.0586\n",
            "Epoch [6/9], Step [1340/2146], Loss: 0.1706\n",
            "Epoch [6/9], Step [1360/2146], Loss: 0.1547\n",
            "Epoch [6/9], Step [1380/2146], Loss: 0.1328\n",
            "Epoch [6/9], Step [1400/2146], Loss: 0.0482\n",
            "Epoch [6/9], Step [1420/2146], Loss: 0.4463\n",
            "Epoch [6/9], Step [1440/2146], Loss: 0.1224\n",
            "Epoch [6/9], Step [1460/2146], Loss: 0.1653\n",
            "Epoch [6/9], Step [1480/2146], Loss: 0.5665\n",
            "Epoch [6/9], Step [1500/2146], Loss: 0.3567\n",
            "Epoch [6/9], Step [1520/2146], Loss: 0.0720\n",
            "Epoch [6/9], Step [1540/2146], Loss: 1.2355\n",
            "Epoch [6/9], Step [1560/2146], Loss: 0.1366\n",
            "Epoch [6/9], Step [1580/2146], Loss: 0.4482\n",
            "Epoch [6/9], Step [1600/2146], Loss: 0.0484\n",
            "Epoch [6/9], Step [1620/2146], Loss: 0.0343\n",
            "Epoch [6/9], Step [1640/2146], Loss: 0.2317\n",
            "Epoch [6/9], Step [1660/2146], Loss: 0.0244\n",
            "Epoch [6/9], Step [1680/2146], Loss: 0.8638\n",
            "Epoch [6/9], Step [1700/2146], Loss: 0.3187\n",
            "Epoch [6/9], Step [1720/2146], Loss: 0.3975\n",
            "Epoch [6/9], Step [1740/2146], Loss: 0.0869\n",
            "Epoch [6/9], Step [1760/2146], Loss: 0.0580\n",
            "Epoch [6/9], Step [1780/2146], Loss: 0.0438\n",
            "Epoch [6/9], Step [1800/2146], Loss: 0.7592\n",
            "Epoch [6/9], Step [1820/2146], Loss: 0.0942\n",
            "Epoch [6/9], Step [1840/2146], Loss: 0.3150\n",
            "Epoch [6/9], Step [1860/2146], Loss: 0.2961\n",
            "Epoch [6/9], Step [1880/2146], Loss: 0.7196\n",
            "Epoch [6/9], Step [1900/2146], Loss: 0.0984\n",
            "Epoch [6/9], Step [1920/2146], Loss: 0.1980\n",
            "Epoch [6/9], Step [1940/2146], Loss: 0.7037\n",
            "Epoch [6/9], Step [1960/2146], Loss: 0.1077\n",
            "Epoch [6/9], Step [1980/2146], Loss: 0.1553\n",
            "Epoch [6/9], Step [2000/2146], Loss: 0.1580\n",
            "Epoch [6/9], Step [2020/2146], Loss: 0.1158\n",
            "Epoch [6/9], Step [2040/2146], Loss: 0.8520\n",
            "Epoch [6/9], Step [2060/2146], Loss: 2.6650\n",
            "Epoch [6/9], Step [2080/2146], Loss: 0.0514\n",
            "Epoch [6/9], Step [2100/2146], Loss: 0.2289\n",
            "Epoch [6/9], Step [2120/2146], Loss: 0.0312\n",
            "Epoch [6/9], Step [2140/2146], Loss: 0.6685\n",
            "\n",
            "train-loss: 0.0935, train-acc: 88.8021\n",
            "Epoch 7\n",
            "\n",
            "Epoch [7/9], Step [0/2146], Loss: 0.1278\n",
            "Epoch [7/9], Step [20/2146], Loss: 0.0641\n",
            "Epoch [7/9], Step [40/2146], Loss: 2.1195\n",
            "Epoch [7/9], Step [60/2146], Loss: 0.6127\n",
            "Epoch [7/9], Step [80/2146], Loss: 0.1178\n",
            "Epoch [7/9], Step [100/2146], Loss: 0.1323\n",
            "Epoch [7/9], Step [120/2146], Loss: 0.1039\n",
            "Epoch [7/9], Step [140/2146], Loss: 0.0409\n",
            "Epoch [7/9], Step [160/2146], Loss: 0.2000\n",
            "Epoch [7/9], Step [180/2146], Loss: 0.2527\n",
            "Epoch [7/9], Step [200/2146], Loss: 0.0841\n",
            "Epoch [7/9], Step [220/2146], Loss: 0.0256\n",
            "Epoch [7/9], Step [240/2146], Loss: 0.1166\n",
            "Epoch [7/9], Step [260/2146], Loss: 0.0516\n",
            "Epoch [7/9], Step [280/2146], Loss: 0.1211\n",
            "Epoch [7/9], Step [300/2146], Loss: 0.7253\n",
            "Epoch [7/9], Step [320/2146], Loss: 0.1457\n",
            "Epoch [7/9], Step [340/2146], Loss: 0.0338\n",
            "Epoch [7/9], Step [360/2146], Loss: 0.1181\n",
            "Epoch [7/9], Step [380/2146], Loss: 0.0400\n",
            "Epoch [7/9], Step [400/2146], Loss: 0.0515\n",
            "Epoch [7/9], Step [420/2146], Loss: 0.2438\n",
            "Epoch [7/9], Step [440/2146], Loss: 0.5086\n",
            "Epoch [7/9], Step [460/2146], Loss: 0.0222\n",
            "Epoch [7/9], Step [480/2146], Loss: 0.1421\n",
            "Epoch [7/9], Step [500/2146], Loss: 1.1238\n",
            "Epoch [7/9], Step [520/2146], Loss: 0.2309\n",
            "Epoch [7/9], Step [540/2146], Loss: 0.4524\n",
            "Epoch [7/9], Step [560/2146], Loss: 0.1313\n",
            "Epoch [7/9], Step [580/2146], Loss: 0.1098\n",
            "Epoch [7/9], Step [600/2146], Loss: 0.4365\n",
            "Epoch [7/9], Step [620/2146], Loss: 0.1705\n",
            "Epoch [7/9], Step [640/2146], Loss: 0.0097\n",
            "Epoch [7/9], Step [660/2146], Loss: 0.0707\n",
            "Epoch [7/9], Step [680/2146], Loss: 0.0741\n",
            "Epoch [7/9], Step [700/2146], Loss: 0.0838\n",
            "Epoch [7/9], Step [720/2146], Loss: 0.0622\n",
            "Epoch [7/9], Step [740/2146], Loss: 0.3524\n",
            "Epoch [7/9], Step [760/2146], Loss: 0.1909\n",
            "Epoch [7/9], Step [780/2146], Loss: 0.3383\n",
            "Epoch [7/9], Step [800/2146], Loss: 0.1037\n",
            "Epoch [7/9], Step [820/2146], Loss: 0.0968\n",
            "Epoch [7/9], Step [840/2146], Loss: 0.5011\n",
            "Epoch [7/9], Step [860/2146], Loss: 0.1211\n",
            "Epoch [7/9], Step [880/2146], Loss: 0.0719\n",
            "Epoch [7/9], Step [900/2146], Loss: 0.1456\n",
            "Epoch [7/9], Step [920/2146], Loss: 0.3475\n",
            "Epoch [7/9], Step [940/2146], Loss: 0.2415\n",
            "Epoch [7/9], Step [960/2146], Loss: 0.1171\n",
            "Epoch [7/9], Step [980/2146], Loss: 0.0139\n",
            "Epoch [7/9], Step [1000/2146], Loss: 0.0511\n",
            "Epoch [7/9], Step [1020/2146], Loss: 0.4953\n",
            "Epoch [7/9], Step [1040/2146], Loss: 0.3274\n",
            "Epoch [7/9], Step [1060/2146], Loss: 0.1075\n",
            "Epoch [7/9], Step [1080/2146], Loss: 1.3380\n",
            "Epoch [7/9], Step [1100/2146], Loss: 0.1874\n",
            "Epoch [7/9], Step [1120/2146], Loss: 0.0692\n",
            "Epoch [7/9], Step [1140/2146], Loss: 0.0429\n",
            "Epoch [7/9], Step [1160/2146], Loss: 0.6901\n",
            "Epoch [7/9], Step [1180/2146], Loss: 1.1738\n",
            "Epoch [7/9], Step [1200/2146], Loss: 0.0417\n",
            "Epoch [7/9], Step [1220/2146], Loss: 0.1612\n",
            "Epoch [7/9], Step [1240/2146], Loss: 0.0305\n",
            "Epoch [7/9], Step [1260/2146], Loss: 0.4857\n",
            "Epoch [7/9], Step [1280/2146], Loss: 0.5273\n",
            "Epoch [7/9], Step [1300/2146], Loss: 0.6763\n",
            "Epoch [7/9], Step [1320/2146], Loss: 0.5220\n",
            "Epoch [7/9], Step [1340/2146], Loss: 0.2809\n",
            "Epoch [7/9], Step [1360/2146], Loss: 0.0305\n",
            "Epoch [7/9], Step [1380/2146], Loss: 0.1307\n",
            "Epoch [7/9], Step [1400/2146], Loss: 0.0861\n",
            "Epoch [7/9], Step [1420/2146], Loss: 0.4976\n",
            "Epoch [7/9], Step [1440/2146], Loss: 0.1156\n",
            "Epoch [7/9], Step [1460/2146], Loss: 0.0471\n",
            "Epoch [7/9], Step [1480/2146], Loss: 0.4273\n",
            "Epoch [7/9], Step [1500/2146], Loss: 0.0794\n",
            "Epoch [7/9], Step [1520/2146], Loss: 0.5615\n",
            "Epoch [7/9], Step [1540/2146], Loss: 0.0538\n",
            "Epoch [7/9], Step [1560/2146], Loss: 0.3343\n",
            "Epoch [7/9], Step [1580/2146], Loss: 0.4298\n",
            "Epoch [7/9], Step [1600/2146], Loss: 0.0835\n",
            "Epoch [7/9], Step [1620/2146], Loss: 0.3801\n",
            "Epoch [7/9], Step [1640/2146], Loss: 0.0846\n",
            "Epoch [7/9], Step [1660/2146], Loss: 0.4246\n",
            "Epoch [7/9], Step [1680/2146], Loss: 0.1185\n",
            "Epoch [7/9], Step [1700/2146], Loss: 0.0180\n",
            "Epoch [7/9], Step [1720/2146], Loss: 0.0549\n",
            "Epoch [7/9], Step [1740/2146], Loss: 0.8366\n",
            "Epoch [7/9], Step [1760/2146], Loss: 0.5765\n",
            "Epoch [7/9], Step [1780/2146], Loss: 0.0559\n",
            "Epoch [7/9], Step [1800/2146], Loss: 0.1029\n",
            "Epoch [7/9], Step [1820/2146], Loss: 0.2486\n",
            "Epoch [7/9], Step [1840/2146], Loss: 0.0737\n",
            "Epoch [7/9], Step [1860/2146], Loss: 0.0656\n",
            "Epoch [7/9], Step [1880/2146], Loss: 0.2054\n",
            "Epoch [7/9], Step [1900/2146], Loss: 0.4745\n",
            "Epoch [7/9], Step [1920/2146], Loss: 0.1160\n",
            "Epoch [7/9], Step [1940/2146], Loss: 1.0996\n",
            "Epoch [7/9], Step [1960/2146], Loss: 0.5206\n",
            "Epoch [7/9], Step [1980/2146], Loss: 0.1226\n",
            "Epoch [7/9], Step [2000/2146], Loss: 0.1615\n",
            "Epoch [7/9], Step [2020/2146], Loss: 0.7268\n",
            "Epoch [7/9], Step [2040/2146], Loss: 0.0729\n",
            "Epoch [7/9], Step [2060/2146], Loss: 0.1563\n",
            "Epoch [7/9], Step [2080/2146], Loss: 0.0269\n",
            "Epoch [7/9], Step [2100/2146], Loss: 0.3447\n",
            "Epoch [7/9], Step [2120/2146], Loss: 0.1225\n",
            "Epoch [7/9], Step [2140/2146], Loss: 0.1090\n",
            "\n",
            "train-loss: 0.0904, train-acc: 89.6295\n",
            "Epoch 8\n",
            "\n",
            "Epoch [8/9], Step [0/2146], Loss: 0.0314\n",
            "Epoch [8/9], Step [20/2146], Loss: 0.4899\n",
            "Epoch [8/9], Step [40/2146], Loss: 0.4553\n",
            "Epoch [8/9], Step [60/2146], Loss: 0.1119\n",
            "Epoch [8/9], Step [80/2146], Loss: 0.0469\n",
            "Epoch [8/9], Step [100/2146], Loss: 0.0601\n",
            "Epoch [8/9], Step [120/2146], Loss: 0.3269\n",
            "Epoch [8/9], Step [140/2146], Loss: 0.0602\n",
            "Epoch [8/9], Step [160/2146], Loss: 0.0237\n",
            "Epoch [8/9], Step [180/2146], Loss: 0.0438\n",
            "Epoch [8/9], Step [200/2146], Loss: 0.0963\n",
            "Epoch [8/9], Step [220/2146], Loss: 0.2916\n",
            "Epoch [8/9], Step [240/2146], Loss: 0.2209\n",
            "Epoch [8/9], Step [260/2146], Loss: 0.1455\n",
            "Epoch [8/9], Step [280/2146], Loss: 0.1063\n",
            "Epoch [8/9], Step [300/2146], Loss: 0.0328\n",
            "Epoch [8/9], Step [320/2146], Loss: 0.0457\n",
            "Epoch [8/9], Step [340/2146], Loss: 0.1503\n",
            "Epoch [8/9], Step [360/2146], Loss: 0.1764\n",
            "Epoch [8/9], Step [380/2146], Loss: 0.2319\n",
            "Epoch [8/9], Step [400/2146], Loss: 0.3431\n",
            "Epoch [8/9], Step [420/2146], Loss: 0.0042\n",
            "Epoch [8/9], Step [440/2146], Loss: 0.0355\n",
            "Epoch [8/9], Step [460/2146], Loss: 0.0749\n",
            "Epoch [8/9], Step [480/2146], Loss: 0.1278\n",
            "Epoch [8/9], Step [500/2146], Loss: 0.0734\n",
            "Epoch [8/9], Step [520/2146], Loss: 0.1158\n",
            "Epoch [8/9], Step [540/2146], Loss: 0.0744\n",
            "Epoch [8/9], Step [560/2146], Loss: 0.1405\n",
            "Epoch [8/9], Step [580/2146], Loss: 0.1165\n",
            "Epoch [8/9], Step [600/2146], Loss: 0.1218\n",
            "Epoch [8/9], Step [620/2146], Loss: 0.1099\n",
            "Epoch [8/9], Step [640/2146], Loss: 0.0471\n",
            "Epoch [8/9], Step [660/2146], Loss: 0.2586\n",
            "Epoch [8/9], Step [680/2146], Loss: 0.0360\n",
            "Epoch [8/9], Step [700/2146], Loss: 0.0097\n",
            "Epoch [8/9], Step [720/2146], Loss: 0.0609\n",
            "Epoch [8/9], Step [740/2146], Loss: 0.0253\n",
            "Epoch [8/9], Step [760/2146], Loss: 0.0829\n",
            "Epoch [8/9], Step [780/2146], Loss: 0.1495\n",
            "Epoch [8/9], Step [800/2146], Loss: 0.8501\n",
            "Epoch [8/9], Step [820/2146], Loss: 0.1099\n",
            "Epoch [8/9], Step [840/2146], Loss: 0.5677\n",
            "Epoch [8/9], Step [860/2146], Loss: 0.0073\n",
            "Epoch [8/9], Step [880/2146], Loss: 0.2100\n",
            "Epoch [8/9], Step [900/2146], Loss: 0.3036\n",
            "Epoch [8/9], Step [920/2146], Loss: 0.3826\n",
            "Epoch [8/9], Step [940/2146], Loss: 0.6939\n",
            "Epoch [8/9], Step [960/2146], Loss: 0.3101\n",
            "Epoch [8/9], Step [980/2146], Loss: 0.0540\n",
            "Epoch [8/9], Step [1000/2146], Loss: 0.0455\n",
            "Epoch [8/9], Step [1020/2146], Loss: 0.8924\n",
            "Epoch [8/9], Step [1040/2146], Loss: 0.0579\n",
            "Epoch [8/9], Step [1060/2146], Loss: 0.4118\n",
            "Epoch [8/9], Step [1080/2146], Loss: 0.0233\n",
            "Epoch [8/9], Step [1100/2146], Loss: 0.0254\n",
            "Epoch [8/9], Step [1120/2146], Loss: 0.2522\n",
            "Epoch [8/9], Step [1140/2146], Loss: 0.2917\n",
            "Epoch [8/9], Step [1160/2146], Loss: 0.8692\n",
            "Epoch [8/9], Step [1180/2146], Loss: 0.1897\n",
            "Epoch [8/9], Step [1200/2146], Loss: 0.4579\n",
            "Epoch [8/9], Step [1220/2146], Loss: 0.1736\n",
            "Epoch [8/9], Step [1240/2146], Loss: 0.0255\n",
            "Epoch [8/9], Step [1260/2146], Loss: 0.1267\n",
            "Epoch [8/9], Step [1280/2146], Loss: 0.1036\n",
            "Epoch [8/9], Step [1300/2146], Loss: 0.3221\n",
            "Epoch [8/9], Step [1320/2146], Loss: 0.1835\n",
            "Epoch [8/9], Step [1340/2146], Loss: 0.1808\n",
            "Epoch [8/9], Step [1360/2146], Loss: 0.0734\n",
            "Epoch [8/9], Step [1380/2146], Loss: 0.3985\n",
            "Epoch [8/9], Step [1400/2146], Loss: 0.0957\n",
            "Epoch [8/9], Step [1420/2146], Loss: 0.9279\n",
            "Epoch [8/9], Step [1440/2146], Loss: 0.5532\n",
            "Epoch [8/9], Step [1460/2146], Loss: 0.6918\n",
            "Epoch [8/9], Step [1480/2146], Loss: 0.1530\n",
            "Epoch [8/9], Step [1500/2146], Loss: 0.0376\n",
            "Epoch [8/9], Step [1520/2146], Loss: 0.1575\n",
            "Epoch [8/9], Step [1540/2146], Loss: 0.0846\n",
            "Epoch [8/9], Step [1560/2146], Loss: 0.0934\n",
            "Epoch [8/9], Step [1580/2146], Loss: 0.0072\n",
            "Epoch [8/9], Step [1600/2146], Loss: 0.3825\n",
            "Epoch [8/9], Step [1620/2146], Loss: 0.1291\n",
            "Epoch [8/9], Step [1640/2146], Loss: 0.7292\n",
            "Epoch [8/9], Step [1660/2146], Loss: 0.1256\n",
            "Epoch [8/9], Step [1680/2146], Loss: 0.0806\n",
            "Epoch [8/9], Step [1700/2146], Loss: 0.2043\n",
            "Epoch [8/9], Step [1720/2146], Loss: 0.0982\n",
            "Epoch [8/9], Step [1740/2146], Loss: 0.0877\n",
            "Epoch [8/9], Step [1760/2146], Loss: 0.7629\n",
            "Epoch [8/9], Step [1780/2146], Loss: 0.3548\n",
            "Epoch [8/9], Step [1800/2146], Loss: 0.1353\n",
            "Epoch [8/9], Step [1820/2146], Loss: 0.4559\n",
            "Epoch [8/9], Step [1840/2146], Loss: 0.1075\n",
            "Epoch [8/9], Step [1860/2146], Loss: 0.1743\n",
            "Epoch [8/9], Step [1880/2146], Loss: 0.1558\n",
            "Epoch [8/9], Step [1900/2146], Loss: 0.0589\n",
            "Epoch [8/9], Step [1920/2146], Loss: 0.2910\n",
            "Epoch [8/9], Step [1940/2146], Loss: 0.0555\n",
            "Epoch [8/9], Step [1960/2146], Loss: 0.8558\n",
            "Epoch [8/9], Step [1980/2146], Loss: 1.1538\n",
            "Epoch [8/9], Step [2000/2146], Loss: 0.2350\n",
            "Epoch [8/9], Step [2020/2146], Loss: 0.0437\n",
            "Epoch [8/9], Step [2040/2146], Loss: 0.0253\n",
            "Epoch [8/9], Step [2060/2146], Loss: 0.6811\n",
            "Epoch [8/9], Step [2080/2146], Loss: 0.7309\n",
            "Epoch [8/9], Step [2100/2146], Loss: 0.4177\n",
            "Epoch [8/9], Step [2120/2146], Loss: 0.1282\n",
            "Epoch [8/9], Step [2140/2146], Loss: 0.1761\n",
            "\n",
            "train-loss: 0.0874, train-acc: 90.2237\n",
            "Epoch 9\n",
            "\n",
            "Epoch [9/9], Step [0/2146], Loss: 0.1969\n",
            "Epoch [9/9], Step [20/2146], Loss: 0.2402\n",
            "Epoch [9/9], Step [40/2146], Loss: 0.0968\n",
            "Epoch [9/9], Step [60/2146], Loss: 0.0292\n",
            "Epoch [9/9], Step [80/2146], Loss: 0.0857\n",
            "Epoch [9/9], Step [100/2146], Loss: 0.0331\n",
            "Epoch [9/9], Step [120/2146], Loss: 0.1299\n",
            "Epoch [9/9], Step [140/2146], Loss: 0.0843\n",
            "Epoch [9/9], Step [160/2146], Loss: 0.0158\n",
            "Epoch [9/9], Step [180/2146], Loss: 0.1286\n",
            "Epoch [9/9], Step [200/2146], Loss: 0.1162\n",
            "Epoch [9/9], Step [220/2146], Loss: 0.1765\n",
            "Epoch [9/9], Step [240/2146], Loss: 0.0922\n",
            "Epoch [9/9], Step [260/2146], Loss: 1.3830\n",
            "Epoch [9/9], Step [280/2146], Loss: 0.2243\n",
            "Epoch [9/9], Step [300/2146], Loss: 0.0277\n",
            "Epoch [9/9], Step [320/2146], Loss: 0.3604\n",
            "Epoch [9/9], Step [340/2146], Loss: 0.0459\n",
            "Epoch [9/9], Step [360/2146], Loss: 0.1630\n",
            "Epoch [9/9], Step [380/2146], Loss: 0.0626\n",
            "Epoch [9/9], Step [400/2146], Loss: 0.2547\n",
            "Epoch [9/9], Step [420/2146], Loss: 0.2241\n",
            "Epoch [9/9], Step [440/2146], Loss: 0.1732\n",
            "Epoch [9/9], Step [460/2146], Loss: 0.2421\n",
            "Epoch [9/9], Step [480/2146], Loss: 0.1121\n",
            "Epoch [9/9], Step [500/2146], Loss: 0.6278\n",
            "Epoch [9/9], Step [520/2146], Loss: 0.2356\n",
            "Epoch [9/9], Step [540/2146], Loss: 0.0809\n",
            "Epoch [9/9], Step [560/2146], Loss: 0.0247\n",
            "Epoch [9/9], Step [580/2146], Loss: 0.0339\n",
            "Epoch [9/9], Step [600/2146], Loss: 0.0436\n",
            "Epoch [9/9], Step [620/2146], Loss: 0.1332\n",
            "Epoch [9/9], Step [640/2146], Loss: 0.0958\n",
            "Epoch [9/9], Step [660/2146], Loss: 0.0892\n",
            "Epoch [9/9], Step [680/2146], Loss: 0.0693\n",
            "Epoch [9/9], Step [700/2146], Loss: 0.1087\n",
            "Epoch [9/9], Step [720/2146], Loss: 0.1470\n",
            "Epoch [9/9], Step [740/2146], Loss: 0.0562\n",
            "Epoch [9/9], Step [760/2146], Loss: 0.0079\n",
            "Epoch [9/9], Step [780/2146], Loss: 0.0225\n",
            "Epoch [9/9], Step [800/2146], Loss: 1.0143\n",
            "Epoch [9/9], Step [820/2146], Loss: 0.0545\n",
            "Epoch [9/9], Step [840/2146], Loss: 0.0093\n",
            "Epoch [9/9], Step [860/2146], Loss: 0.0607\n",
            "Epoch [9/9], Step [880/2146], Loss: 0.0893\n",
            "Epoch [9/9], Step [900/2146], Loss: 0.1742\n",
            "Epoch [9/9], Step [920/2146], Loss: 0.1012\n",
            "Epoch [9/9], Step [940/2146], Loss: 0.6036\n",
            "Epoch [9/9], Step [960/2146], Loss: 0.0436\n",
            "Epoch [9/9], Step [980/2146], Loss: 0.2193\n",
            "Epoch [9/9], Step [1000/2146], Loss: 0.4416\n",
            "Epoch [9/9], Step [1020/2146], Loss: 0.3109\n",
            "Epoch [9/9], Step [1040/2146], Loss: 0.0180\n",
            "Epoch [9/9], Step [1060/2146], Loss: 0.0603\n",
            "Epoch [9/9], Step [1080/2146], Loss: 0.3098\n",
            "Epoch [9/9], Step [1100/2146], Loss: 0.0425\n",
            "Epoch [9/9], Step [1120/2146], Loss: 0.3801\n",
            "Epoch [9/9], Step [1140/2146], Loss: 1.1654\n",
            "Epoch [9/9], Step [1160/2146], Loss: 0.0586\n",
            "Epoch [9/9], Step [1180/2146], Loss: 0.0615\n",
            "Epoch [9/9], Step [1200/2146], Loss: 0.0120\n",
            "Epoch [9/9], Step [1220/2146], Loss: 0.0993\n",
            "Epoch [9/9], Step [1240/2146], Loss: 0.0565\n",
            "Epoch [9/9], Step [1260/2146], Loss: 0.0110\n",
            "Epoch [9/9], Step [1280/2146], Loss: 0.0941\n",
            "Epoch [9/9], Step [1300/2146], Loss: 0.1162\n",
            "Epoch [9/9], Step [1320/2146], Loss: 0.0551\n",
            "Epoch [9/9], Step [1340/2146], Loss: 0.0314\n",
            "Epoch [9/9], Step [1360/2146], Loss: 0.0289\n",
            "Epoch [9/9], Step [1380/2146], Loss: 0.0783\n",
            "Epoch [9/9], Step [1400/2146], Loss: 0.0469\n",
            "Epoch [9/9], Step [1420/2146], Loss: 1.0493\n",
            "Epoch [9/9], Step [1440/2146], Loss: 0.1092\n",
            "Epoch [9/9], Step [1460/2146], Loss: 0.0268\n",
            "Epoch [9/9], Step [1480/2146], Loss: 0.7522\n",
            "Epoch [9/9], Step [1500/2146], Loss: 0.5358\n",
            "Epoch [9/9], Step [1520/2146], Loss: 0.0551\n",
            "Epoch [9/9], Step [1540/2146], Loss: 0.3988\n",
            "Epoch [9/9], Step [1560/2146], Loss: 0.0336\n",
            "Epoch [9/9], Step [1580/2146], Loss: 0.0441\n",
            "Epoch [9/9], Step [1600/2146], Loss: 0.1949\n",
            "Epoch [9/9], Step [1620/2146], Loss: 0.4363\n",
            "Epoch [9/9], Step [1640/2146], Loss: 0.1620\n",
            "Epoch [9/9], Step [1660/2146], Loss: 0.3695\n",
            "Epoch [9/9], Step [1680/2146], Loss: 0.0526\n",
            "Epoch [9/9], Step [1700/2146], Loss: 0.1006\n",
            "Epoch [9/9], Step [1720/2146], Loss: 0.1343\n",
            "Epoch [9/9], Step [1740/2146], Loss: 0.2877\n",
            "Epoch [9/9], Step [1760/2146], Loss: 0.0160\n",
            "Epoch [9/9], Step [1780/2146], Loss: 0.1105\n",
            "Epoch [9/9], Step [1800/2146], Loss: 0.0944\n",
            "Epoch [9/9], Step [1820/2146], Loss: 0.0449\n",
            "Epoch [9/9], Step [1840/2146], Loss: 0.2127\n",
            "Epoch [9/9], Step [1860/2146], Loss: 0.3437\n",
            "Epoch [9/9], Step [1880/2146], Loss: 2.2289\n",
            "Epoch [9/9], Step [1900/2146], Loss: 0.1267\n",
            "Epoch [9/9], Step [1920/2146], Loss: 0.0523\n",
            "Epoch [9/9], Step [1940/2146], Loss: 0.0579\n",
            "Epoch [9/9], Step [1960/2146], Loss: 0.1015\n",
            "Epoch [9/9], Step [1980/2146], Loss: 0.1423\n",
            "Epoch [9/9], Step [2000/2146], Loss: 0.4264\n",
            "Epoch [9/9], Step [2020/2146], Loss: 0.0463\n",
            "Epoch [9/9], Step [2040/2146], Loss: 0.0747\n",
            "Epoch [9/9], Step [2060/2146], Loss: 0.0598\n",
            "Epoch [9/9], Step [2080/2146], Loss: 0.8757\n",
            "Epoch [9/9], Step [2100/2146], Loss: 0.0206\n",
            "Epoch [9/9], Step [2120/2146], Loss: 0.1827\n",
            "Epoch [9/9], Step [2140/2146], Loss: 0.5186\n",
            "\n",
            "train-loss: 0.0848, train-acc: 90.8996\n"
          ]
        }
      ]
    },
    {
      "cell_type": "code",
      "source": [
        "!mkdir models"
      ],
      "metadata": {
        "id": "g_YveI67-XB4"
      },
      "execution_count": null,
      "outputs": []
    },
    {
      "cell_type": "code",
      "source": [
        "torch.save(model.state_dict(), 'models/weights1.h5')"
      ],
      "metadata": {
        "id": "4Ox_2Giy-Tvg"
      },
      "execution_count": null,
      "outputs": []
    },
    {
      "cell_type": "code",
      "source": [
        "!cp -r models/weights1.h5 drive/MyDrive/"
      ],
      "metadata": {
        "id": "rx9IvfSG6GuP"
      },
      "execution_count": null,
      "outputs": []
    },
    {
      "cell_type": "code",
      "source": [
        ""
      ],
      "metadata": {
        "id": "8a0PVfQo-TV2"
      },
      "execution_count": null,
      "outputs": []
    },
    {
      "cell_type": "code",
      "source": [
        "output_pred = []\n",
        "with torch.no_grad():\n",
        "  model.eval()\n",
        "  for (inputs, labels) in dataloaders['test']:\n",
        "      \n",
        "      inputs = Variable(inputs.cuda())\n",
        "      \n",
        "      inputs = inputs.float()\n",
        "      outputs = model(inputs)\n",
        "      _, preds = torch.max(outputs, 1)\n",
        "      for x in preds.tolist():\n",
        "        output_pred.append(x)"
      ],
      "metadata": {
        "id": "JoEe11Gp3eSs"
      },
      "execution_count": null,
      "outputs": []
    },
    {
      "cell_type": "code",
      "source": [
        "image_names = [x[0].split(\"/\")[-1] for x in test_data.imgs]\n",
        "image_names[0:4]"
      ],
      "metadata": {
        "colab": {
          "base_uri": "https://localhost:8080/"
        },
        "id": "xIe8BoZv_o-z",
        "outputId": "6b84a67c-1b81-425b-da3b-66ca402d596b"
      },
      "execution_count": null,
      "outputs": [
        {
          "output_type": "execute_result",
          "data": {
            "text/plain": [
              "['0015c006-2029-49a3-8819-ae6f82623d5d.jpg',\n",
              " '0029bebb-b717-4fbd-be11-5ba9e94ca180.jpg',\n",
              " '003c6ba1-6eb8-4ddf-b5ed-825ac7c62a31.jpg',\n",
              " '003d3536-a3f9-4f0e-8511-8593df33f5fb.jpg']"
            ]
          },
          "metadata": {},
          "execution_count": 44
        }
      ]
    },
    {
      "cell_type": "code",
      "source": [
        "import pandas as pd\n",
        "\n",
        "data = { \"name\" : image_names, \"predicted\" : output_pred}\n",
        "df = pd.DataFrame(data)\n",
        "\n",
        "df.head()"
      ],
      "metadata": {
        "colab": {
          "base_uri": "https://localhost:8080/",
          "height": 206
        },
        "id": "g5EGyZsX_qSr",
        "outputId": "298a1351-c92f-4628-f45d-c86f9b322203"
      },
      "execution_count": null,
      "outputs": [
        {
          "output_type": "execute_result",
          "data": {
            "text/html": [
              "\n",
              "  <div id=\"df-d6a4a442-333a-4928-b007-172a43e90c23\">\n",
              "    <div class=\"colab-df-container\">\n",
              "      <div>\n",
              "<style scoped>\n",
              "    .dataframe tbody tr th:only-of-type {\n",
              "        vertical-align: middle;\n",
              "    }\n",
              "\n",
              "    .dataframe tbody tr th {\n",
              "        vertical-align: top;\n",
              "    }\n",
              "\n",
              "    .dataframe thead th {\n",
              "        text-align: right;\n",
              "    }\n",
              "</style>\n",
              "<table border=\"1\" class=\"dataframe\">\n",
              "  <thead>\n",
              "    <tr style=\"text-align: right;\">\n",
              "      <th></th>\n",
              "      <th>name</th>\n",
              "      <th>predicted</th>\n",
              "    </tr>\n",
              "  </thead>\n",
              "  <tbody>\n",
              "    <tr>\n",
              "      <th>0</th>\n",
              "      <td>0015c006-2029-49a3-8819-ae6f82623d5d.jpg</td>\n",
              "      <td>0</td>\n",
              "    </tr>\n",
              "    <tr>\n",
              "      <th>1</th>\n",
              "      <td>0029bebb-b717-4fbd-be11-5ba9e94ca180.jpg</td>\n",
              "      <td>0</td>\n",
              "    </tr>\n",
              "    <tr>\n",
              "      <th>2</th>\n",
              "      <td>003c6ba1-6eb8-4ddf-b5ed-825ac7c62a31.jpg</td>\n",
              "      <td>1</td>\n",
              "    </tr>\n",
              "    <tr>\n",
              "      <th>3</th>\n",
              "      <td>003d3536-a3f9-4f0e-8511-8593df33f5fb.jpg</td>\n",
              "      <td>0</td>\n",
              "    </tr>\n",
              "    <tr>\n",
              "      <th>4</th>\n",
              "      <td>00ce4aa3-3e5b-430a-9fe9-fd42c6ab484e.jpg</td>\n",
              "      <td>0</td>\n",
              "    </tr>\n",
              "  </tbody>\n",
              "</table>\n",
              "</div>\n",
              "      <button class=\"colab-df-convert\" onclick=\"convertToInteractive('df-d6a4a442-333a-4928-b007-172a43e90c23')\"\n",
              "              title=\"Convert this dataframe to an interactive table.\"\n",
              "              style=\"display:none;\">\n",
              "        \n",
              "  <svg xmlns=\"http://www.w3.org/2000/svg\" height=\"24px\"viewBox=\"0 0 24 24\"\n",
              "       width=\"24px\">\n",
              "    <path d=\"M0 0h24v24H0V0z\" fill=\"none\"/>\n",
              "    <path d=\"M18.56 5.44l.94 2.06.94-2.06 2.06-.94-2.06-.94-.94-2.06-.94 2.06-2.06.94zm-11 1L8.5 8.5l.94-2.06 2.06-.94-2.06-.94L8.5 2.5l-.94 2.06-2.06.94zm10 10l.94 2.06.94-2.06 2.06-.94-2.06-.94-.94-2.06-.94 2.06-2.06.94z\"/><path d=\"M17.41 7.96l-1.37-1.37c-.4-.4-.92-.59-1.43-.59-.52 0-1.04.2-1.43.59L10.3 9.45l-7.72 7.72c-.78.78-.78 2.05 0 2.83L4 21.41c.39.39.9.59 1.41.59.51 0 1.02-.2 1.41-.59l7.78-7.78 2.81-2.81c.8-.78.8-2.07 0-2.86zM5.41 20L4 18.59l7.72-7.72 1.47 1.35L5.41 20z\"/>\n",
              "  </svg>\n",
              "      </button>\n",
              "      \n",
              "  <style>\n",
              "    .colab-df-container {\n",
              "      display:flex;\n",
              "      flex-wrap:wrap;\n",
              "      gap: 12px;\n",
              "    }\n",
              "\n",
              "    .colab-df-convert {\n",
              "      background-color: #E8F0FE;\n",
              "      border: none;\n",
              "      border-radius: 50%;\n",
              "      cursor: pointer;\n",
              "      display: none;\n",
              "      fill: #1967D2;\n",
              "      height: 32px;\n",
              "      padding: 0 0 0 0;\n",
              "      width: 32px;\n",
              "    }\n",
              "\n",
              "    .colab-df-convert:hover {\n",
              "      background-color: #E2EBFA;\n",
              "      box-shadow: 0px 1px 2px rgba(60, 64, 67, 0.3), 0px 1px 3px 1px rgba(60, 64, 67, 0.15);\n",
              "      fill: #174EA6;\n",
              "    }\n",
              "\n",
              "    [theme=dark] .colab-df-convert {\n",
              "      background-color: #3B4455;\n",
              "      fill: #D2E3FC;\n",
              "    }\n",
              "\n",
              "    [theme=dark] .colab-df-convert:hover {\n",
              "      background-color: #434B5C;\n",
              "      box-shadow: 0px 1px 3px 1px rgba(0, 0, 0, 0.15);\n",
              "      filter: drop-shadow(0px 1px 2px rgba(0, 0, 0, 0.3));\n",
              "      fill: #FFFFFF;\n",
              "    }\n",
              "  </style>\n",
              "\n",
              "      <script>\n",
              "        const buttonEl =\n",
              "          document.querySelector('#df-d6a4a442-333a-4928-b007-172a43e90c23 button.colab-df-convert');\n",
              "        buttonEl.style.display =\n",
              "          google.colab.kernel.accessAllowed ? 'block' : 'none';\n",
              "\n",
              "        async function convertToInteractive(key) {\n",
              "          const element = document.querySelector('#df-d6a4a442-333a-4928-b007-172a43e90c23');\n",
              "          const dataTable =\n",
              "            await google.colab.kernel.invokeFunction('convertToInteractive',\n",
              "                                                     [key], {});\n",
              "          if (!dataTable) return;\n",
              "\n",
              "          const docLinkHtml = 'Like what you see? Visit the ' +\n",
              "            '<a target=\"_blank\" href=https://colab.research.google.com/notebooks/data_table.ipynb>data table notebook</a>'\n",
              "            + ' to learn more about interactive tables.';\n",
              "          element.innerHTML = '';\n",
              "          dataTable['output_type'] = 'display_data';\n",
              "          await google.colab.output.renderOutput(dataTable, element);\n",
              "          const docLink = document.createElement('div');\n",
              "          docLink.innerHTML = docLinkHtml;\n",
              "          element.appendChild(docLink);\n",
              "        }\n",
              "      </script>\n",
              "    </div>\n",
              "  </div>\n",
              "  "
            ],
            "text/plain": [
              "                                       name  predicted\n",
              "0  0015c006-2029-49a3-8819-ae6f82623d5d.jpg          0\n",
              "1  0029bebb-b717-4fbd-be11-5ba9e94ca180.jpg          0\n",
              "2  003c6ba1-6eb8-4ddf-b5ed-825ac7c62a31.jpg          1\n",
              "3  003d3536-a3f9-4f0e-8511-8593df33f5fb.jpg          0\n",
              "4  00ce4aa3-3e5b-430a-9fe9-fd42c6ab484e.jpg          0"
            ]
          },
          "metadata": {},
          "execution_count": 62
        }
      ]
    },
    {
      "cell_type": "code",
      "source": [
        "df.to_csv(\"output.csv\", index = False)"
      ],
      "metadata": {
        "id": "B4wnGZ3L_xuz"
      },
      "execution_count": null,
      "outputs": []
    },
    {
      "cell_type": "code",
      "source": [
        "!cp -r output.csv drive/MyDrive/output_last.csv"
      ],
      "metadata": {
        "id": "4cfOwkXdEvQr"
      },
      "execution_count": null,
      "outputs": []
    },
    {
      "cell_type": "code",
      "source": [
        "## test the model with 1 batch\n",
        "model = MyModel()\n",
        "for images, labels in trainloader:\n",
        "    print(\"batch size:\", images.shape)\n",
        "    out = model(images)\n",
        "    print(out.shape)\n",
        "    break"
      ],
      "metadata": {
        "colab": {
          "base_uri": "https://localhost:8080/"
        },
        "id": "5ht9sF5cozkq",
        "outputId": "4d700e61-bcc8-4756-ceaa-cb652460e16f"
      },
      "execution_count": null,
      "outputs": [
        {
          "output_type": "stream",
          "name": "stdout",
          "text": [
            "Loaded pretrained weights for efficientnet-b7\n",
            "batch size: torch.Size([4, 3, 128, 128])\n",
            "torch.Size([4, 2])\n"
          ]
        }
      ]
    },
    {
      "cell_type": "code",
      "source": [
        "learning_rate = 0.001\n",
        "num_epochs = 5\n",
        "\n",
        "device = torch.device(\"cuda:0\" if torch.cuda.is_available() else \"cpu\")\n",
        "model = MyModel()\n",
        "model = model.to(device)\n",
        "criterion = nn.CrossEntropyLoss()\n",
        "optimizer = torch.optim.Adam(model.parameters(), lr=learning_rate)"
      ],
      "metadata": {
        "colab": {
          "base_uri": "https://localhost:8080/",
          "height": 104,
          "referenced_widgets": [
            "25bf89c96c0c45afb66a9ea2d31235d2",
            "83ad50d410244fceac7b02248a6e9f60",
            "8974ee7defd14101970b203343dfafc6",
            "c5cce5840af24629bacf43aeb1708780",
            "c6b4f991cf514da397d09aa3164826a1",
            "358975289916433d8a71f598f0963c7e",
            "742bd1a0a22d4508ae7670947c2f003a",
            "4131bea0550c405ab5e90873f72cee0f",
            "d925e56034094fdba2a6059871de3cb3",
            "8b06ef8b4aac4feab40c25e26b6a76c5",
            "a873e10fcb9f41cbbf03e35a814af8b6"
          ]
        },
        "id": "hbZZwRmXpgT6",
        "outputId": "ede074b3-f62b-4264-e292-2a52039c84d7"
      },
      "execution_count": null,
      "outputs": [
        {
          "output_type": "stream",
          "name": "stderr",
          "text": [
            "Downloading: \"https://github.com/lukemelas/EfficientNet-PyTorch/releases/download/1.0/efficientnet-b7-dcc49843.pth\" to /root/.cache/torch/hub/checkpoints/efficientnet-b7-dcc49843.pth\n"
          ]
        },
        {
          "output_type": "display_data",
          "data": {
            "application/vnd.jupyter.widget-view+json": {
              "model_id": "25bf89c96c0c45afb66a9ea2d31235d2",
              "version_minor": 0,
              "version_major": 2
            },
            "text/plain": [
              "  0%|          | 0.00/254M [00:00<?, ?B/s]"
            ]
          },
          "metadata": {}
        },
        {
          "output_type": "stream",
          "name": "stdout",
          "text": [
            "Loaded pretrained weights for efficientnet-b7\n"
          ]
        }
      ]
    },
    {
      "cell_type": "code",
      "source": [
        "## compute accuracy\n",
        "def get_accuracy(logit, target, batch_size):\n",
        "    ''' Obtain accuracy for training round '''\n",
        "    corrects = (torch.max(logit, 1)[1].view(target.size()).data == target.data).sum()\n",
        "    accuracy = 100.0 * corrects/batch_size\n",
        "    return accuracy.item()"
      ],
      "metadata": {
        "id": "AndKpUQbo2dJ"
      },
      "execution_count": null,
      "outputs": []
    },
    {
      "cell_type": "code",
      "source": [
        "for epoch in range(num_epochs):\n",
        "    train_running_loss = 0.0\n",
        "    train_acc = 0.0\n",
        "\n",
        "    model = model.train()\n",
        "\n",
        "    ## training step\n",
        "    for i, (images, labels) in enumerate(trainloader):\n",
        "        \n",
        "        images = images.to(device)\n",
        "        labels = labels.to(device)\n",
        "\n",
        "        ## forward + backprop + loss\n",
        "        logits = model(images)\n",
        "        loss = criterion(logits, labels)\n",
        "        optimizer.zero_grad()\n",
        "        loss.backward()\n",
        "\n",
        "        ## update model params\n",
        "        optimizer.step()\n",
        "\n",
        "        train_running_loss += loss.detach().item()\n",
        "        train_acc += get_accuracy(logits, labels, BATCH_SIZE)\n",
        "    \n",
        "    model.eval()\n",
        "    print('Epoch: %d | Loss: %.4f | Train Accuracy: %.2f' \\\n",
        "          %(epoch, train_running_loss / i, train_acc/i))        "
      ],
      "metadata": {
        "id": "IBoynguqpbtf"
      },
      "execution_count": null,
      "outputs": []
    },
    {
      "cell_type": "code",
      "source": [
        "torch.save(model.state_dict(), \"check_model\")"
      ],
      "metadata": {
        "id": "KXmjdGhB5y7-"
      },
      "execution_count": null,
      "outputs": []
    },
    {
      "cell_type": "code",
      "source": [
        "test_acc = 0.0\n",
        "outputs = []\n",
        "for i, (images, labels) in enumerate(testloader, 0):\n",
        "    \n",
        "    images = images.to(device)\n",
        "    #labels = labels.to(device)\n",
        "    outputs.append(model(images))\n",
        "    "
      ],
      "metadata": {
        "id": "iX4EqzO4t1Or"
      },
      "execution_count": null,
      "outputs": []
    },
    {
      "cell_type": "code",
      "source": [
        ""
      ],
      "metadata": {
        "id": "nmXensMW4aX1"
      },
      "execution_count": null,
      "outputs": []
    }
  ]
}