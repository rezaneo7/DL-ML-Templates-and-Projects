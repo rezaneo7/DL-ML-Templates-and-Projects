{
 "cells": [
  {
   "cell_type": "code",
   "execution_count": 1,
   "metadata": {
    "id": "EX8idu0E2ml3"
   },
   "outputs": [],
   "source": [
    "import pandas as pd\n",
    "from datetime import datetime\n",
    "from datetime import timedelta\n",
    "from statistics import mean\n",
    "from collections import Counter\n",
    "from itertools import groupby\n",
    "import numpy\n",
    "import matplotlib.pyplot as plt\n",
    "import math\n",
    "import numpy as np\n",
    "\n",
    "from statsmodels.tsa.ar_model import AutoReg\n",
    "\n",
    "from statsmodels.tsa.arima.model import ARIMA\n"
   ]
  },
  {
   "cell_type": "code",
   "execution_count": null,
   "metadata": {
    "colab": {
     "base_uri": "https://localhost:8080/"
    },
    "id": "-FME3ZXI2qN2",
    "outputId": "81549a3d-6688-440a-94e9-f8ec26829466"
   },
   "outputs": [],
   "source": [
    "from google.colab import drive\n",
    "drive.mount('/content/drive')"
   ]
  },
  {
   "cell_type": "code",
   "execution_count": null,
   "metadata": {
    "id": "Z2ubmeig3YTy"
   },
   "outputs": [],
   "source": [
    "!cp -r purchase_history.csv drive/MyDrive/"
   ]
  },
  {
   "cell_type": "code",
   "execution_count": null,
   "metadata": {
    "id": "DmzW1hBc3Uej"
   },
   "outputs": [],
   "source": []
  },
  {
   "cell_type": "code",
   "execution_count": 2,
   "metadata": {
    "colab": {
     "base_uri": "https://localhost:8080/",
     "height": 206
    },
    "id": "yDWYwVKS4dQY",
    "outputId": "0553672c-96bc-4719-b476-0254e2820052"
   },
   "outputs": [
    {
     "data": {
      "text/html": [
       "<div>\n",
       "<style scoped>\n",
       "    .dataframe tbody tr th:only-of-type {\n",
       "        vertical-align: middle;\n",
       "    }\n",
       "\n",
       "    .dataframe tbody tr th {\n",
       "        vertical-align: top;\n",
       "    }\n",
       "\n",
       "    .dataframe thead th {\n",
       "        text-align: right;\n",
       "    }\n",
       "</style>\n",
       "<table border=\"1\" class=\"dataframe\">\n",
       "  <thead>\n",
       "    <tr style=\"text-align: right;\">\n",
       "      <th></th>\n",
       "      <th>user_id</th>\n",
       "      <th>product_id</th>\n",
       "      <th>created_at</th>\n",
       "    </tr>\n",
       "  </thead>\n",
       "  <tbody>\n",
       "    <tr>\n",
       "      <th>0</th>\n",
       "      <td>647746</td>\n",
       "      <td>2011564</td>\n",
       "      <td>2019-02-09</td>\n",
       "    </tr>\n",
       "    <tr>\n",
       "      <th>1</th>\n",
       "      <td>906136</td>\n",
       "      <td>4105782</td>\n",
       "      <td>2019-11-23</td>\n",
       "    </tr>\n",
       "    <tr>\n",
       "      <th>2</th>\n",
       "      <td>12862997</td>\n",
       "      <td>2144063</td>\n",
       "      <td>2019-07-16</td>\n",
       "    </tr>\n",
       "    <tr>\n",
       "      <th>3</th>\n",
       "      <td>12097079</td>\n",
       "      <td>1207738</td>\n",
       "      <td>2019-04-05</td>\n",
       "    </tr>\n",
       "    <tr>\n",
       "      <th>4</th>\n",
       "      <td>3184486</td>\n",
       "      <td>4278839</td>\n",
       "      <td>2019-03-08</td>\n",
       "    </tr>\n",
       "  </tbody>\n",
       "</table>\n",
       "</div>"
      ],
      "text/plain": [
       "    user_id  product_id  created_at\n",
       "0    647746     2011564  2019-02-09\n",
       "1    906136     4105782  2019-11-23\n",
       "2  12862997     2144063  2019-07-16\n",
       "3  12097079     1207738  2019-04-05\n",
       "4   3184486     4278839  2019-03-08"
      ]
     },
     "execution_count": 2,
     "metadata": {},
     "output_type": "execute_result"
    }
   ],
   "source": [
    "df = pd.read_csv(\"purchase_history.csv\")\n",
    "df.head()"
   ]
  },
  {
   "cell_type": "code",
   "execution_count": 12,
   "metadata": {},
   "outputs": [
    {
     "data": {
      "text/html": [
       "<div>\n",
       "<style scoped>\n",
       "    .dataframe tbody tr th:only-of-type {\n",
       "        vertical-align: middle;\n",
       "    }\n",
       "\n",
       "    .dataframe tbody tr th {\n",
       "        vertical-align: top;\n",
       "    }\n",
       "\n",
       "    .dataframe thead th {\n",
       "        text-align: right;\n",
       "    }\n",
       "</style>\n",
       "<table border=\"1\" class=\"dataframe\">\n",
       "  <thead>\n",
       "    <tr style=\"text-align: right;\">\n",
       "      <th></th>\n",
       "      <th>user_id</th>\n",
       "      <th>created_at</th>\n",
       "      <th>habit_user</th>\n",
       "    </tr>\n",
       "  </thead>\n",
       "  <tbody>\n",
       "    <tr>\n",
       "      <th>0</th>\n",
       "      <td>577243</td>\n",
       "      <td>[2019-01-03, 2019-01-13, 2019-01-19, 2019-01-2...</td>\n",
       "      <td>10.750000</td>\n",
       "    </tr>\n",
       "    <tr>\n",
       "      <th>1</th>\n",
       "      <td>577275</td>\n",
       "      <td>[2019-03-08, 2019-05-11, 2019-06-09, 2019-09-1...</td>\n",
       "      <td>33.125000</td>\n",
       "    </tr>\n",
       "    <tr>\n",
       "      <th>2</th>\n",
       "      <td>577308</td>\n",
       "      <td>[2019-01-27, 2019-02-09, 2019-03-02, 2019-04-0...</td>\n",
       "      <td>27.700000</td>\n",
       "    </tr>\n",
       "    <tr>\n",
       "      <th>3</th>\n",
       "      <td>577450</td>\n",
       "      <td>[2019-03-22, 2019-04-26, 2019-07-08, 2019-09-13]</td>\n",
       "      <td>58.333333</td>\n",
       "    </tr>\n",
       "    <tr>\n",
       "      <th>4</th>\n",
       "      <td>577505</td>\n",
       "      <td>[2019-01-03, 2019-02-01, 2019-02-16, 2019-02-2...</td>\n",
       "      <td>17.166667</td>\n",
       "    </tr>\n",
       "  </tbody>\n",
       "</table>\n",
       "</div>"
      ],
      "text/plain": [
       "   user_id                                         created_at  habit_user\n",
       "0   577243  [2019-01-03, 2019-01-13, 2019-01-19, 2019-01-2...   10.750000\n",
       "1   577275  [2019-03-08, 2019-05-11, 2019-06-09, 2019-09-1...   33.125000\n",
       "2   577308  [2019-01-27, 2019-02-09, 2019-03-02, 2019-04-0...   27.700000\n",
       "3   577450   [2019-03-22, 2019-04-26, 2019-07-08, 2019-09-13]   58.333333\n",
       "4   577505  [2019-01-03, 2019-02-01, 2019-02-16, 2019-02-2...   17.166667"
      ]
     },
     "execution_count": 12,
     "metadata": {},
     "output_type": "execute_result"
    }
   ],
   "source": [
    "df_user = df.groupby(['user_id'], as_index=False).agg({\"created_at\" : lambda x: list(sorted(set(x)))})\n",
    "\n",
    "def habit_cal(list_a):\n",
    "    len_list = len(list_a)\n",
    "    diff_list = [(datetime.strptime(y, '%Y-%m-%d')-datetime.strptime(x, '%Y-%m-%d')).days for x, y in zip(list_a[:-1], list_a[1:])]\n",
    "    return np.mean(diff_list)\n",
    "df_user[\"habit_user\"] = df_user[\"created_at\"].apply(lambda x: habit_cal(x))\n",
    "\n",
    "user_habit = dict(zip(df_user.user_id, df_user.habit_user))\n",
    "df_user.head()"
   ]
  },
  {
   "cell_type": "code",
   "execution_count": 14,
   "metadata": {
    "scrolled": false
   },
   "outputs": [
    {
     "data": {
      "text/html": [
       "<div>\n",
       "<style scoped>\n",
       "    .dataframe tbody tr th:only-of-type {\n",
       "        vertical-align: middle;\n",
       "    }\n",
       "\n",
       "    .dataframe tbody tr th {\n",
       "        vertical-align: top;\n",
       "    }\n",
       "\n",
       "    .dataframe thead th {\n",
       "        text-align: right;\n",
       "    }\n",
       "</style>\n",
       "<table border=\"1\" class=\"dataframe\">\n",
       "  <thead>\n",
       "    <tr style=\"text-align: right;\">\n",
       "      <th></th>\n",
       "      <th>product_id</th>\n",
       "      <th>created_at</th>\n",
       "      <th>purchase_item</th>\n",
       "    </tr>\n",
       "  </thead>\n",
       "  <tbody>\n",
       "    <tr>\n",
       "      <th>0</th>\n",
       "      <td>113646</td>\n",
       "      <td>[2019-01-05, 2019-02-01, 2019-02-05, 2019-02-1...</td>\n",
       "      <td>11.533333</td>\n",
       "    </tr>\n",
       "    <tr>\n",
       "      <th>1</th>\n",
       "      <td>113858</td>\n",
       "      <td>[2019-03-16, 2019-03-28, 2019-04-07, 2019-04-15]</td>\n",
       "      <td>10.000000</td>\n",
       "    </tr>\n",
       "    <tr>\n",
       "      <th>2</th>\n",
       "      <td>114044</td>\n",
       "      <td>[2019-03-13, 2019-04-04, 2019-04-25, 2019-06-0...</td>\n",
       "      <td>43.750000</td>\n",
       "    </tr>\n",
       "    <tr>\n",
       "      <th>3</th>\n",
       "      <td>115919</td>\n",
       "      <td>[2019-01-04, 2019-01-11, 2019-01-15, 2019-01-2...</td>\n",
       "      <td>5.600000</td>\n",
       "    </tr>\n",
       "    <tr>\n",
       "      <th>4</th>\n",
       "      <td>115932</td>\n",
       "      <td>[2019-03-01, 2019-03-09, 2019-04-26, 2019-05-2...</td>\n",
       "      <td>16.428571</td>\n",
       "    </tr>\n",
       "  </tbody>\n",
       "</table>\n",
       "</div>"
      ],
      "text/plain": [
       "   product_id                                         created_at  \\\n",
       "0      113646  [2019-01-05, 2019-02-01, 2019-02-05, 2019-02-1...   \n",
       "1      113858   [2019-03-16, 2019-03-28, 2019-04-07, 2019-04-15]   \n",
       "2      114044  [2019-03-13, 2019-04-04, 2019-04-25, 2019-06-0...   \n",
       "3      115919  [2019-01-04, 2019-01-11, 2019-01-15, 2019-01-2...   \n",
       "4      115932  [2019-03-01, 2019-03-09, 2019-04-26, 2019-05-2...   \n",
       "\n",
       "   purchase_item  \n",
       "0      11.533333  \n",
       "1      10.000000  \n",
       "2      43.750000  \n",
       "3       5.600000  \n",
       "4      16.428571  "
      ]
     },
     "execution_count": 14,
     "metadata": {},
     "output_type": "execute_result"
    }
   ],
   "source": [
    "df_item = df.groupby(['product_id'], as_index=False).agg({\"created_at\" : lambda x: list(sorted(set(x)))})\n",
    "\n",
    "def purchase_cal(list_a):\n",
    "    len_list = len(list_a)\n",
    "    diff_list = [(datetime.strptime(y, '%Y-%m-%d')-datetime.strptime(x, '%Y-%m-%d')).days for x, y in zip(list_a[:-1], list_a[1:])]\n",
    "    return np.mean(diff_list)\n",
    "df_item[\"purchase_item\"] = df_item[\"created_at\"].apply(lambda x: purchase_cal(x))\n",
    "\n",
    "item_habit = dict(zip(df_item.product_id, df_item.purchase_item))\n",
    "df_item.head()"
   ]
  },
  {
   "cell_type": "code",
   "execution_count": 3,
   "metadata": {
    "id": "bBsrK0C36ENB"
   },
   "outputs": [],
   "source": [
    "df2 = df.groupby(['user_id', 'product_id'], as_index=False).agg({\"created_at\" : lambda x: sorted(list(x))})\n"
   ]
  },
  {
   "cell_type": "code",
   "execution_count": 4,
   "metadata": {
    "colab": {
     "base_uri": "https://localhost:8080/",
     "height": 206
    },
    "id": "wkyjFAUQ-Y9A",
    "outputId": "bbf6a4ed-8b57-4086-8341-d1a090cefb48"
   },
   "outputs": [
    {
     "data": {
      "text/html": [
       "<div>\n",
       "<style scoped>\n",
       "    .dataframe tbody tr th:only-of-type {\n",
       "        vertical-align: middle;\n",
       "    }\n",
       "\n",
       "    .dataframe tbody tr th {\n",
       "        vertical-align: top;\n",
       "    }\n",
       "\n",
       "    .dataframe thead th {\n",
       "        text-align: right;\n",
       "    }\n",
       "</style>\n",
       "<table border=\"1\" class=\"dataframe\">\n",
       "  <thead>\n",
       "    <tr style=\"text-align: right;\">\n",
       "      <th></th>\n",
       "      <th>user_id</th>\n",
       "      <th>product_id</th>\n",
       "      <th>created_at</th>\n",
       "    </tr>\n",
       "  </thead>\n",
       "  <tbody>\n",
       "    <tr>\n",
       "      <th>0</th>\n",
       "      <td>577243</td>\n",
       "      <td>724112</td>\n",
       "      <td>[2019-03-13, 2019-03-25, 2019-04-22, 2019-06-1...</td>\n",
       "    </tr>\n",
       "    <tr>\n",
       "      <th>1</th>\n",
       "      <td>577243</td>\n",
       "      <td>875550</td>\n",
       "      <td>[2019-01-19, 2019-02-13, 2019-04-13, 2019-06-16]</td>\n",
       "    </tr>\n",
       "    <tr>\n",
       "      <th>2</th>\n",
       "      <td>577243</td>\n",
       "      <td>895941</td>\n",
       "      <td>[2019-01-19, 2019-01-26, 2019-01-31, 2019-02-1...</td>\n",
       "    </tr>\n",
       "    <tr>\n",
       "      <th>3</th>\n",
       "      <td>577243</td>\n",
       "      <td>895955</td>\n",
       "      <td>[2019-02-02, 2019-05-12, 2019-10-17, 2019-10-29]</td>\n",
       "    </tr>\n",
       "    <tr>\n",
       "      <th>4</th>\n",
       "      <td>577243</td>\n",
       "      <td>896036</td>\n",
       "      <td>[2019-01-03, 2019-01-13, 2019-01-19, 2019-01-2...</td>\n",
       "    </tr>\n",
       "  </tbody>\n",
       "</table>\n",
       "</div>"
      ],
      "text/plain": [
       "   user_id  product_id                                         created_at\n",
       "0   577243      724112  [2019-03-13, 2019-03-25, 2019-04-22, 2019-06-1...\n",
       "1   577243      875550   [2019-01-19, 2019-02-13, 2019-04-13, 2019-06-16]\n",
       "2   577243      895941  [2019-01-19, 2019-01-26, 2019-01-31, 2019-02-1...\n",
       "3   577243      895955   [2019-02-02, 2019-05-12, 2019-10-17, 2019-10-29]\n",
       "4   577243      896036  [2019-01-03, 2019-01-13, 2019-01-19, 2019-01-2..."
      ]
     },
     "execution_count": 4,
     "metadata": {},
     "output_type": "execute_result"
    }
   ],
   "source": [
    "df2.head()"
   ]
  },
  {
   "cell_type": "code",
   "execution_count": 5,
   "metadata": {
    "colab": {
     "base_uri": "https://localhost:8080/",
     "height": 206
    },
    "id": "80ufBlZT-hDy",
    "outputId": "22ba69c7-cbf4-4bef-aeff-fe056d54a434"
   },
   "outputs": [
    {
     "data": {
      "text/html": [
       "<div>\n",
       "<style scoped>\n",
       "    .dataframe tbody tr th:only-of-type {\n",
       "        vertical-align: middle;\n",
       "    }\n",
       "\n",
       "    .dataframe tbody tr th {\n",
       "        vertical-align: top;\n",
       "    }\n",
       "\n",
       "    .dataframe thead th {\n",
       "        text-align: right;\n",
       "    }\n",
       "</style>\n",
       "<table border=\"1\" class=\"dataframe\">\n",
       "  <thead>\n",
       "    <tr style=\"text-align: right;\">\n",
       "      <th></th>\n",
       "      <th>user_id</th>\n",
       "      <th>product_id</th>\n",
       "      <th>created_at</th>\n",
       "      <th>last_purchase</th>\n",
       "    </tr>\n",
       "  </thead>\n",
       "  <tbody>\n",
       "    <tr>\n",
       "      <th>0</th>\n",
       "      <td>577243</td>\n",
       "      <td>724112</td>\n",
       "      <td>[2019-03-13, 2019-03-25, 2019-04-22, 2019-06-1...</td>\n",
       "      <td>2019-06-29</td>\n",
       "    </tr>\n",
       "    <tr>\n",
       "      <th>1</th>\n",
       "      <td>577243</td>\n",
       "      <td>875550</td>\n",
       "      <td>[2019-01-19, 2019-02-13, 2019-04-13, 2019-06-16]</td>\n",
       "      <td>2019-06-16</td>\n",
       "    </tr>\n",
       "    <tr>\n",
       "      <th>2</th>\n",
       "      <td>577243</td>\n",
       "      <td>895941</td>\n",
       "      <td>[2019-01-19, 2019-01-26, 2019-01-31, 2019-02-1...</td>\n",
       "      <td>2019-12-13</td>\n",
       "    </tr>\n",
       "    <tr>\n",
       "      <th>3</th>\n",
       "      <td>577243</td>\n",
       "      <td>895955</td>\n",
       "      <td>[2019-02-02, 2019-05-12, 2019-10-17, 2019-10-29]</td>\n",
       "      <td>2019-10-29</td>\n",
       "    </tr>\n",
       "    <tr>\n",
       "      <th>4</th>\n",
       "      <td>577243</td>\n",
       "      <td>896036</td>\n",
       "      <td>[2019-01-03, 2019-01-13, 2019-01-19, 2019-01-2...</td>\n",
       "      <td>2019-10-10</td>\n",
       "    </tr>\n",
       "  </tbody>\n",
       "</table>\n",
       "</div>"
      ],
      "text/plain": [
       "   user_id  product_id                                         created_at  \\\n",
       "0   577243      724112  [2019-03-13, 2019-03-25, 2019-04-22, 2019-06-1...   \n",
       "1   577243      875550   [2019-01-19, 2019-02-13, 2019-04-13, 2019-06-16]   \n",
       "2   577243      895941  [2019-01-19, 2019-01-26, 2019-01-31, 2019-02-1...   \n",
       "3   577243      895955   [2019-02-02, 2019-05-12, 2019-10-17, 2019-10-29]   \n",
       "4   577243      896036  [2019-01-03, 2019-01-13, 2019-01-19, 2019-01-2...   \n",
       "\n",
       "  last_purchase  \n",
       "0    2019-06-29  \n",
       "1    2019-06-16  \n",
       "2    2019-12-13  \n",
       "3    2019-10-29  \n",
       "4    2019-10-10  "
      ]
     },
     "execution_count": 5,
     "metadata": {},
     "output_type": "execute_result"
    }
   ],
   "source": [
    "df2[\"last_purchase\"] = df2[\"created_at\"].apply(lambda x: x[-1])\n",
    "df2.head()"
   ]
  },
  {
   "cell_type": "code",
   "execution_count": null,
   "metadata": {
    "colab": {
     "base_uri": "https://localhost:8080/",
     "height": 206
    },
    "id": "NdF5rT3T4ip5",
    "outputId": "07feeec7-4ed1-4835-a993-0246e3ac10d8"
   },
   "outputs": [],
   "source": [
    "df_a = pd.read_csv(\"answer.csv\")\n",
    "df_a.head()"
   ]
  },
  {
   "cell_type": "code",
   "execution_count": null,
   "metadata": {
    "colab": {
     "base_uri": "https://localhost:8080/",
     "height": 165
    },
    "id": "dWCO4mvoEr0g",
    "outputId": "2604a4ca-c007-4faa-da11-b0d709a6cf8f"
   },
   "outputs": [],
   "source": [
    "mean([1,2,3])"
   ]
  },
  {
   "cell_type": "code",
   "execution_count": null,
   "metadata": {
    "colab": {
     "base_uri": "https://localhost:8080/",
     "height": 277
    },
    "id": "ADwUbMAvFMIB",
    "outputId": "621752c5-0ac1-472f-eb08-9dd6b2951a26"
   },
   "outputs": [],
   "source": [
    "!pip install statistics"
   ]
  },
  {
   "cell_type": "code",
   "execution_count": null,
   "metadata": {
    "colab": {
     "base_uri": "https://localhost:8080/"
    },
    "id": "zXAeAQE4Mmyd",
    "outputId": "ab7d952b-48d4-44d7-9502-e94f6c001c04"
   },
   "outputs": [],
   "source": [
    "!wget https://raw.githubusercontent.com/jbrownlee/Datasets/master/airline-passengers.csv"
   ]
  },
  {
   "cell_type": "code",
   "execution_count": null,
   "metadata": {
    "id": "KtceZSyIO1fz"
   },
   "outputs": [],
   "source": [
    "dataframe = pd.read_csv('airline-passengers.csv', usecols=[1], engine='python')\n",
    "dataset = dataframe.values\n",
    "dataset = dataset.astype('float32')\n",
    "# normalize the dataset\n",
    "scaler = MinMaxScaler(feature_range=(0, 1))\n",
    "dataset = scaler.fit_transform(dataset)\n",
    "# split into train and test sets\n",
    "train_size = int(len(dataset) * 0.67)\n",
    "test_size = len(dataset) - train_size\n",
    "train, test = dataset[0:train_size,:], dataset[train_size:len(dataset),:]\n",
    "# reshape into X=t and Y=t+1\n",
    "look_back = 1\n",
    "trainX, trainY = create_dataset(train, look_back)\n",
    "testX, testY = create_dataset(test, look_back)\n",
    "# reshape input to be [samples, time steps, features]\n",
    "trainX = numpy.reshape(trainX, (trainX.shape[0], 1, trainX.shape[1]))\n",
    "testX = numpy.reshape(testX, (testX.shape[0], 1, testX.shape[1]))"
   ]
  },
  {
   "cell_type": "code",
   "execution_count": 12,
   "metadata": {},
   "outputs": [],
   "source": [
    "import warnings\n",
    "warnings.filterwarnings(\"ignore\")"
   ]
  },
  {
   "cell_type": "code",
   "execution_count": 46,
   "metadata": {
    "colab": {
     "base_uri": "https://localhost:8080/",
     "height": 408
    },
    "id": "Xu0NFeN_5gL7",
    "outputId": "683347d6-1ca8-4179-ecae-d55da8fd62dc",
    "scrolled": true
   },
   "outputs": [],
   "source": [
    "def myround(x, base=5):\n",
    "    return base * round(x/base)\n",
    "\n",
    "def predict_last(user_id, product_id, list_a):\n",
    "    \n",
    "    \n",
    "    #list_a = list(set(list_a))\n",
    "    len_list = len(list_a)\n",
    "    diff_list = [(datetime.strptime(y, '%Y-%m-%d')-datetime.strptime(x, '%Y-%m-%d')).days for x, y in zip(list_a[:-1], list_a[1:])] \n",
    "    #sum_dates_diff = sum([(datetime.strptime(y, '%Y-%m-%d')-datetime.strptime(x, '%Y-%m-%d')).days for x, y in zip(list_a[:-1], list_a[1:])] )\n",
    "    #return str(datetime.strftime(datetime.strptime(list_a[-1], '%Y-%m-%d') + timedelta(days=round(sum_dates_diff/len_list)), '%Y-%m-%d'))\n",
    "    data = {\"diff\": diff_list}\n",
    "    df_train = pd.DataFrame(data)\n",
    "    \n",
    "    diff_list = [myround(x, base = 3) for x in diff_list]\n",
    "\n",
    "    \n",
    "    alpha = 1\n",
    "    sum_we = 0\n",
    "    we = 0\n",
    "    for x in diff_list[-1::-1]:\n",
    "        sum_we += x*alpha\n",
    "        we += alpha\n",
    "        alpha *= 0.9\n",
    "    \n",
    "    pred4 = np.average([diff_list[-1], diff_list[-2]])\n",
    "    pred1 = sum_we/we\n",
    "    pred2 = user_habit[user_id]\n",
    "    pred3 = item_habit[product_id]\n",
    "    preds = [pred1, pred2, pred3, pred4]\n",
    "    weight = [1, 0, 0, 0]\n",
    "    #num_days = model_predict(df_train)\n",
    "    # pick off the first group (highest frequency)\n",
    "    #freqs = groupby(Counter(diff_list).most_common(), lambda x:x[1])\n",
    "    #num_days = round(mean([val for val,count in next(freqs)[1]]))\n",
    "    #model = ARIMA(diff_list, order=(0, 0, 1))\n",
    "    #model_fit = model.fit()\n",
    "    # make prediction\n",
    "    #yhat = model_fit.predict(len(diff_list), len(diff_list))\n",
    "\n",
    "    #num_days = round(sum_we/we)\n",
    "    num_days = round(np.average(preds, weights = weight))\n",
    "    return str(datetime.strftime(datetime.strptime(list_a[-1], '%Y-%m-%d') + timedelta(days=num_days), '%Y-%m-%d'))\n",
    "  \n",
    "\n",
    "\n",
    "\n",
    "df2[\"next_purchase\"] = df2.apply(lambda x: predict_last(x[\"user_id\"], x[\"product_id\"], x[\"created_at\"]), axis=1)"
   ]
  },
  {
   "cell_type": "code",
   "execution_count": null,
   "metadata": {
    "colab": {
     "base_uri": "https://localhost:8080/"
    },
    "id": "POkfM808Ayii",
    "outputId": "97538cfe-68e9-4f08-b7d0-5d8e6a123307"
   },
   "outputs": [],
   "source": []
  },
  {
   "cell_type": "code",
   "execution_count": 47,
   "metadata": {
    "colab": {
     "base_uri": "https://localhost:8080/",
     "height": 206
    },
    "id": "OnSCO2NP9GxM",
    "outputId": "9bce6985-0876-4007-8871-18aa2fcf375c"
   },
   "outputs": [
    {
     "data": {
      "text/html": [
       "<div>\n",
       "<style scoped>\n",
       "    .dataframe tbody tr th:only-of-type {\n",
       "        vertical-align: middle;\n",
       "    }\n",
       "\n",
       "    .dataframe tbody tr th {\n",
       "        vertical-align: top;\n",
       "    }\n",
       "\n",
       "    .dataframe thead th {\n",
       "        text-align: right;\n",
       "    }\n",
       "</style>\n",
       "<table border=\"1\" class=\"dataframe\">\n",
       "  <thead>\n",
       "    <tr style=\"text-align: right;\">\n",
       "      <th></th>\n",
       "      <th>user_id</th>\n",
       "      <th>product_id</th>\n",
       "      <th>created_at</th>\n",
       "      <th>last_purchase</th>\n",
       "      <th>next_purchase</th>\n",
       "    </tr>\n",
       "  </thead>\n",
       "  <tbody>\n",
       "    <tr>\n",
       "      <th>0</th>\n",
       "      <td>577243</td>\n",
       "      <td>724112</td>\n",
       "      <td>[2019-03-13, 2019-03-25, 2019-04-22, 2019-06-1...</td>\n",
       "      <td>2019-06-29</td>\n",
       "      <td>2019-07-26</td>\n",
       "    </tr>\n",
       "    <tr>\n",
       "      <th>1</th>\n",
       "      <td>577243</td>\n",
       "      <td>875550</td>\n",
       "      <td>[2019-01-19, 2019-02-13, 2019-04-13, 2019-06-16]</td>\n",
       "      <td>2019-06-16</td>\n",
       "      <td>2019-08-05</td>\n",
       "    </tr>\n",
       "    <tr>\n",
       "      <th>2</th>\n",
       "      <td>577243</td>\n",
       "      <td>895941</td>\n",
       "      <td>[2019-01-19, 2019-01-26, 2019-01-31, 2019-02-1...</td>\n",
       "      <td>2019-12-13</td>\n",
       "      <td>2020-01-22</td>\n",
       "    </tr>\n",
       "    <tr>\n",
       "      <th>3</th>\n",
       "      <td>577243</td>\n",
       "      <td>895955</td>\n",
       "      <td>[2019-02-02, 2019-05-12, 2019-10-17, 2019-10-29]</td>\n",
       "      <td>2019-10-29</td>\n",
       "      <td>2020-01-24</td>\n",
       "    </tr>\n",
       "    <tr>\n",
       "      <th>4</th>\n",
       "      <td>577243</td>\n",
       "      <td>896036</td>\n",
       "      <td>[2019-01-03, 2019-01-13, 2019-01-19, 2019-01-2...</td>\n",
       "      <td>2019-10-10</td>\n",
       "      <td>2019-11-10</td>\n",
       "    </tr>\n",
       "  </tbody>\n",
       "</table>\n",
       "</div>"
      ],
      "text/plain": [
       "   user_id  product_id                                         created_at  \\\n",
       "0   577243      724112  [2019-03-13, 2019-03-25, 2019-04-22, 2019-06-1...   \n",
       "1   577243      875550   [2019-01-19, 2019-02-13, 2019-04-13, 2019-06-16]   \n",
       "2   577243      895941  [2019-01-19, 2019-01-26, 2019-01-31, 2019-02-1...   \n",
       "3   577243      895955   [2019-02-02, 2019-05-12, 2019-10-17, 2019-10-29]   \n",
       "4   577243      896036  [2019-01-03, 2019-01-13, 2019-01-19, 2019-01-2...   \n",
       "\n",
       "  last_purchase next_purchase  \n",
       "0    2019-06-29    2019-07-26  \n",
       "1    2019-06-16    2019-08-05  \n",
       "2    2019-12-13    2020-01-22  \n",
       "3    2019-10-29    2020-01-24  \n",
       "4    2019-10-10    2019-11-10  "
      ]
     },
     "execution_count": 47,
     "metadata": {},
     "output_type": "execute_result"
    }
   ],
   "source": [
    "df2.head()"
   ]
  },
  {
   "cell_type": "code",
   "execution_count": 48,
   "metadata": {
    "id": "7oMQA2Tt9Nj_"
   },
   "outputs": [],
   "source": [
    "\n",
    "df_b = pd.DataFrame( df2[\"next_purchase\"])\n",
    "\n",
    "df_b.to_csv(\"answer.csv\",index = False)"
   ]
  },
  {
   "cell_type": "code",
   "execution_count": null,
   "metadata": {
    "id": "8M01fsCxCxHf"
   },
   "outputs": [],
   "source": []
  }
 ],
 "metadata": {
  "colab": {
   "collapsed_sections": [],
   "name": "q3.ipynb",
   "provenance": []
  },
  "kernelspec": {
   "display_name": "Python 3 (ipykernel)",
   "language": "python",
   "name": "python3"
  },
  "language_info": {
   "codemirror_mode": {
    "name": "ipython",
    "version": 3
   },
   "file_extension": ".py",
   "mimetype": "text/x-python",
   "name": "python",
   "nbconvert_exporter": "python",
   "pygments_lexer": "ipython3",
   "version": "3.9.7"
  }
 },
 "nbformat": 4,
 "nbformat_minor": 1
}
