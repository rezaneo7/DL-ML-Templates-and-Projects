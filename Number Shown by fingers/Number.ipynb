{
  "nbformat": 4,
  "nbformat_minor": 0,
  "metadata": {
    "colab": {
      "name": "Q5_C.ipynb",
      "provenance": [],
      "collapsed_sections": []
    },
    "kernelspec": {
      "name": "python3",
      "display_name": "Python 3"
    },
    "language_info": {
      "name": "python"
    },
    "accelerator": "GPU",
    "widgets": {
      "application/vnd.jupyter.widget-state+json": {
        "25bf89c96c0c45afb66a9ea2d31235d2": {
          "model_module": "@jupyter-widgets/controls",
          "model_name": "HBoxModel",
          "model_module_version": "1.5.0",
          "state": {
            "_view_name": "HBoxView",
            "_dom_classes": [],
            "_model_name": "HBoxModel",
            "_view_module": "@jupyter-widgets/controls",
            "_model_module_version": "1.5.0",
            "_view_count": null,
            "_view_module_version": "1.5.0",
            "box_style": "",
            "layout": "IPY_MODEL_83ad50d410244fceac7b02248a6e9f60",
            "_model_module": "@jupyter-widgets/controls",
            "children": [
              "IPY_MODEL_8974ee7defd14101970b203343dfafc6",
              "IPY_MODEL_c5cce5840af24629bacf43aeb1708780",
              "IPY_MODEL_c6b4f991cf514da397d09aa3164826a1"
            ]
          }
        },
        "83ad50d410244fceac7b02248a6e9f60": {
          "model_module": "@jupyter-widgets/base",
          "model_name": "LayoutModel",
          "model_module_version": "1.2.0",
          "state": {
            "_view_name": "LayoutView",
            "grid_template_rows": null,
            "right": null,
            "justify_content": null,
            "_view_module": "@jupyter-widgets/base",
            "overflow": null,
            "_model_module_version": "1.2.0",
            "_view_count": null,
            "flex_flow": null,
            "width": null,
            "min_width": null,
            "border": null,
            "align_items": null,
            "bottom": null,
            "_model_module": "@jupyter-widgets/base",
            "top": null,
            "grid_column": null,
            "overflow_y": null,
            "overflow_x": null,
            "grid_auto_flow": null,
            "grid_area": null,
            "grid_template_columns": null,
            "flex": null,
            "_model_name": "LayoutModel",
            "justify_items": null,
            "grid_row": null,
            "max_height": null,
            "align_content": null,
            "visibility": null,
            "align_self": null,
            "height": null,
            "min_height": null,
            "padding": null,
            "grid_auto_rows": null,
            "grid_gap": null,
            "max_width": null,
            "order": null,
            "_view_module_version": "1.2.0",
            "grid_template_areas": null,
            "object_position": null,
            "object_fit": null,
            "grid_auto_columns": null,
            "margin": null,
            "display": null,
            "left": null
          }
        },
        "8974ee7defd14101970b203343dfafc6": {
          "model_module": "@jupyter-widgets/controls",
          "model_name": "HTMLModel",
          "model_module_version": "1.5.0",
          "state": {
            "_view_name": "HTMLView",
            "style": "IPY_MODEL_358975289916433d8a71f598f0963c7e",
            "_dom_classes": [],
            "description": "",
            "_model_name": "HTMLModel",
            "placeholder": "​",
            "_view_module": "@jupyter-widgets/controls",
            "_model_module_version": "1.5.0",
            "value": "100%",
            "_view_count": null,
            "_view_module_version": "1.5.0",
            "description_tooltip": null,
            "_model_module": "@jupyter-widgets/controls",
            "layout": "IPY_MODEL_742bd1a0a22d4508ae7670947c2f003a"
          }
        },
        "c5cce5840af24629bacf43aeb1708780": {
          "model_module": "@jupyter-widgets/controls",
          "model_name": "FloatProgressModel",
          "model_module_version": "1.5.0",
          "state": {
            "_view_name": "ProgressView",
            "style": "IPY_MODEL_4131bea0550c405ab5e90873f72cee0f",
            "_dom_classes": [],
            "description": "",
            "_model_name": "FloatProgressModel",
            "bar_style": "success",
            "max": 266860719,
            "_view_module": "@jupyter-widgets/controls",
            "_model_module_version": "1.5.0",
            "value": 266860719,
            "_view_count": null,
            "_view_module_version": "1.5.0",
            "orientation": "horizontal",
            "min": 0,
            "description_tooltip": null,
            "_model_module": "@jupyter-widgets/controls",
            "layout": "IPY_MODEL_d925e56034094fdba2a6059871de3cb3"
          }
        },
        "c6b4f991cf514da397d09aa3164826a1": {
          "model_module": "@jupyter-widgets/controls",
          "model_name": "HTMLModel",
          "model_module_version": "1.5.0",
          "state": {
            "_view_name": "HTMLView",
            "style": "IPY_MODEL_8b06ef8b4aac4feab40c25e26b6a76c5",
            "_dom_classes": [],
            "description": "",
            "_model_name": "HTMLModel",
            "placeholder": "​",
            "_view_module": "@jupyter-widgets/controls",
            "_model_module_version": "1.5.0",
            "value": " 254M/254M [00:04&lt;00:00, 38.1MB/s]",
            "_view_count": null,
            "_view_module_version": "1.5.0",
            "description_tooltip": null,
            "_model_module": "@jupyter-widgets/controls",
            "layout": "IPY_MODEL_a873e10fcb9f41cbbf03e35a814af8b6"
          }
        },
        "358975289916433d8a71f598f0963c7e": {
          "model_module": "@jupyter-widgets/controls",
          "model_name": "DescriptionStyleModel",
          "model_module_version": "1.5.0",
          "state": {
            "_view_name": "StyleView",
            "_model_name": "DescriptionStyleModel",
            "description_width": "",
            "_view_module": "@jupyter-widgets/base",
            "_model_module_version": "1.5.0",
            "_view_count": null,
            "_view_module_version": "1.2.0",
            "_model_module": "@jupyter-widgets/controls"
          }
        },
        "742bd1a0a22d4508ae7670947c2f003a": {
          "model_module": "@jupyter-widgets/base",
          "model_name": "LayoutModel",
          "model_module_version": "1.2.0",
          "state": {
            "_view_name": "LayoutView",
            "grid_template_rows": null,
            "right": null,
            "justify_content": null,
            "_view_module": "@jupyter-widgets/base",
            "overflow": null,
            "_model_module_version": "1.2.0",
            "_view_count": null,
            "flex_flow": null,
            "width": null,
            "min_width": null,
            "border": null,
            "align_items": null,
            "bottom": null,
            "_model_module": "@jupyter-widgets/base",
            "top": null,
            "grid_column": null,
            "overflow_y": null,
            "overflow_x": null,
            "grid_auto_flow": null,
            "grid_area": null,
            "grid_template_columns": null,
            "flex": null,
            "_model_name": "LayoutModel",
            "justify_items": null,
            "grid_row": null,
            "max_height": null,
            "align_content": null,
            "visibility": null,
            "align_self": null,
            "height": null,
            "min_height": null,
            "padding": null,
            "grid_auto_rows": null,
            "grid_gap": null,
            "max_width": null,
            "order": null,
            "_view_module_version": "1.2.0",
            "grid_template_areas": null,
            "object_position": null,
            "object_fit": null,
            "grid_auto_columns": null,
            "margin": null,
            "display": null,
            "left": null
          }
        },
        "4131bea0550c405ab5e90873f72cee0f": {
          "model_module": "@jupyter-widgets/controls",
          "model_name": "ProgressStyleModel",
          "model_module_version": "1.5.0",
          "state": {
            "_view_name": "StyleView",
            "_model_name": "ProgressStyleModel",
            "description_width": "",
            "_view_module": "@jupyter-widgets/base",
            "_model_module_version": "1.5.0",
            "_view_count": null,
            "_view_module_version": "1.2.0",
            "bar_color": null,
            "_model_module": "@jupyter-widgets/controls"
          }
        },
        "d925e56034094fdba2a6059871de3cb3": {
          "model_module": "@jupyter-widgets/base",
          "model_name": "LayoutModel",
          "model_module_version": "1.2.0",
          "state": {
            "_view_name": "LayoutView",
            "grid_template_rows": null,
            "right": null,
            "justify_content": null,
            "_view_module": "@jupyter-widgets/base",
            "overflow": null,
            "_model_module_version": "1.2.0",
            "_view_count": null,
            "flex_flow": null,
            "width": null,
            "min_width": null,
            "border": null,
            "align_items": null,
            "bottom": null,
            "_model_module": "@jupyter-widgets/base",
            "top": null,
            "grid_column": null,
            "overflow_y": null,
            "overflow_x": null,
            "grid_auto_flow": null,
            "grid_area": null,
            "grid_template_columns": null,
            "flex": null,
            "_model_name": "LayoutModel",
            "justify_items": null,
            "grid_row": null,
            "max_height": null,
            "align_content": null,
            "visibility": null,
            "align_self": null,
            "height": null,
            "min_height": null,
            "padding": null,
            "grid_auto_rows": null,
            "grid_gap": null,
            "max_width": null,
            "order": null,
            "_view_module_version": "1.2.0",
            "grid_template_areas": null,
            "object_position": null,
            "object_fit": null,
            "grid_auto_columns": null,
            "margin": null,
            "display": null,
            "left": null
          }
        },
        "8b06ef8b4aac4feab40c25e26b6a76c5": {
          "model_module": "@jupyter-widgets/controls",
          "model_name": "DescriptionStyleModel",
          "model_module_version": "1.5.0",
          "state": {
            "_view_name": "StyleView",
            "_model_name": "DescriptionStyleModel",
            "description_width": "",
            "_view_module": "@jupyter-widgets/base",
            "_model_module_version": "1.5.0",
            "_view_count": null,
            "_view_module_version": "1.2.0",
            "_model_module": "@jupyter-widgets/controls"
          }
        },
        "a873e10fcb9f41cbbf03e35a814af8b6": {
          "model_module": "@jupyter-widgets/base",
          "model_name": "LayoutModel",
          "model_module_version": "1.2.0",
          "state": {
            "_view_name": "LayoutView",
            "grid_template_rows": null,
            "right": null,
            "justify_content": null,
            "_view_module": "@jupyter-widgets/base",
            "overflow": null,
            "_model_module_version": "1.2.0",
            "_view_count": null,
            "flex_flow": null,
            "width": null,
            "min_width": null,
            "border": null,
            "align_items": null,
            "bottom": null,
            "_model_module": "@jupyter-widgets/base",
            "top": null,
            "grid_column": null,
            "overflow_y": null,
            "overflow_x": null,
            "grid_auto_flow": null,
            "grid_area": null,
            "grid_template_columns": null,
            "flex": null,
            "_model_name": "LayoutModel",
            "justify_items": null,
            "grid_row": null,
            "max_height": null,
            "align_content": null,
            "visibility": null,
            "align_self": null,
            "height": null,
            "min_height": null,
            "padding": null,
            "grid_auto_rows": null,
            "grid_gap": null,
            "max_width": null,
            "order": null,
            "_view_module_version": "1.2.0",
            "grid_template_areas": null,
            "object_position": null,
            "object_fit": null,
            "grid_auto_columns": null,
            "margin": null,
            "display": null,
            "left": null
          }
        },
        "8f01d72628ce4265a1703bcf08ea922e": {
          "model_module": "@jupyter-widgets/controls",
          "model_name": "HBoxModel",
          "model_module_version": "1.5.0",
          "state": {
            "_view_name": "HBoxView",
            "_dom_classes": [],
            "_model_name": "HBoxModel",
            "_view_module": "@jupyter-widgets/controls",
            "_model_module_version": "1.5.0",
            "_view_count": null,
            "_view_module_version": "1.5.0",
            "box_style": "",
            "layout": "IPY_MODEL_382a5b1d997b4845adb38423faccaac0",
            "_model_module": "@jupyter-widgets/controls",
            "children": [
              "IPY_MODEL_748f4e0ab75f4fe6bf25cc5c3a07cc14",
              "IPY_MODEL_79a14e4ddab04783aa41ac7aa0a900fc",
              "IPY_MODEL_3fbe82cced074782854408fa164479c2"
            ]
          }
        },
        "382a5b1d997b4845adb38423faccaac0": {
          "model_module": "@jupyter-widgets/base",
          "model_name": "LayoutModel",
          "model_module_version": "1.2.0",
          "state": {
            "_view_name": "LayoutView",
            "grid_template_rows": null,
            "right": null,
            "justify_content": null,
            "_view_module": "@jupyter-widgets/base",
            "overflow": null,
            "_model_module_version": "1.2.0",
            "_view_count": null,
            "flex_flow": null,
            "width": null,
            "min_width": null,
            "border": null,
            "align_items": null,
            "bottom": null,
            "_model_module": "@jupyter-widgets/base",
            "top": null,
            "grid_column": null,
            "overflow_y": null,
            "overflow_x": null,
            "grid_auto_flow": null,
            "grid_area": null,
            "grid_template_columns": null,
            "flex": null,
            "_model_name": "LayoutModel",
            "justify_items": null,
            "grid_row": null,
            "max_height": null,
            "align_content": null,
            "visibility": null,
            "align_self": null,
            "height": null,
            "min_height": null,
            "padding": null,
            "grid_auto_rows": null,
            "grid_gap": null,
            "max_width": null,
            "order": null,
            "_view_module_version": "1.2.0",
            "grid_template_areas": null,
            "object_position": null,
            "object_fit": null,
            "grid_auto_columns": null,
            "margin": null,
            "display": null,
            "left": null
          }
        },
        "748f4e0ab75f4fe6bf25cc5c3a07cc14": {
          "model_module": "@jupyter-widgets/controls",
          "model_name": "HTMLModel",
          "model_module_version": "1.5.0",
          "state": {
            "_view_name": "HTMLView",
            "style": "IPY_MODEL_a9dd41c93aad406da5275febbbb2157d",
            "_dom_classes": [],
            "description": "",
            "_model_name": "HTMLModel",
            "placeholder": "​",
            "_view_module": "@jupyter-widgets/controls",
            "_model_module_version": "1.5.0",
            "value": "100%",
            "_view_count": null,
            "_view_module_version": "1.5.0",
            "description_tooltip": null,
            "_model_module": "@jupyter-widgets/controls",
            "layout": "IPY_MODEL_55d0fe2d50c84a008a3c477ae20eeb6f"
          }
        },
        "79a14e4ddab04783aa41ac7aa0a900fc": {
          "model_module": "@jupyter-widgets/controls",
          "model_name": "FloatProgressModel",
          "model_module_version": "1.5.0",
          "state": {
            "_view_name": "ProgressView",
            "style": "IPY_MODEL_92899cfa1c914b9aa4379eeeaa06ad1f",
            "_dom_classes": [],
            "description": "",
            "_model_name": "FloatProgressModel",
            "bar_style": "success",
            "max": 102530333,
            "_view_module": "@jupyter-widgets/controls",
            "_model_module_version": "1.5.0",
            "value": 102530333,
            "_view_count": null,
            "_view_module_version": "1.5.0",
            "orientation": "horizontal",
            "min": 0,
            "description_tooltip": null,
            "_model_module": "@jupyter-widgets/controls",
            "layout": "IPY_MODEL_de0a6caccab941659c646709077a55b9"
          }
        },
        "3fbe82cced074782854408fa164479c2": {
          "model_module": "@jupyter-widgets/controls",
          "model_name": "HTMLModel",
          "model_module_version": "1.5.0",
          "state": {
            "_view_name": "HTMLView",
            "style": "IPY_MODEL_bfb989c46ef14a04add06cc4733ff3a2",
            "_dom_classes": [],
            "description": "",
            "_model_name": "HTMLModel",
            "placeholder": "​",
            "_view_module": "@jupyter-widgets/controls",
            "_model_module_version": "1.5.0",
            "value": " 97.8M/97.8M [00:01&lt;00:00, 66.7MB/s]",
            "_view_count": null,
            "_view_module_version": "1.5.0",
            "description_tooltip": null,
            "_model_module": "@jupyter-widgets/controls",
            "layout": "IPY_MODEL_133651c88d0c4d8a9e36af767774d6d4"
          }
        },
        "a9dd41c93aad406da5275febbbb2157d": {
          "model_module": "@jupyter-widgets/controls",
          "model_name": "DescriptionStyleModel",
          "model_module_version": "1.5.0",
          "state": {
            "_view_name": "StyleView",
            "_model_name": "DescriptionStyleModel",
            "description_width": "",
            "_view_module": "@jupyter-widgets/base",
            "_model_module_version": "1.5.0",
            "_view_count": null,
            "_view_module_version": "1.2.0",
            "_model_module": "@jupyter-widgets/controls"
          }
        },
        "55d0fe2d50c84a008a3c477ae20eeb6f": {
          "model_module": "@jupyter-widgets/base",
          "model_name": "LayoutModel",
          "model_module_version": "1.2.0",
          "state": {
            "_view_name": "LayoutView",
            "grid_template_rows": null,
            "right": null,
            "justify_content": null,
            "_view_module": "@jupyter-widgets/base",
            "overflow": null,
            "_model_module_version": "1.2.0",
            "_view_count": null,
            "flex_flow": null,
            "width": null,
            "min_width": null,
            "border": null,
            "align_items": null,
            "bottom": null,
            "_model_module": "@jupyter-widgets/base",
            "top": null,
            "grid_column": null,
            "overflow_y": null,
            "overflow_x": null,
            "grid_auto_flow": null,
            "grid_area": null,
            "grid_template_columns": null,
            "flex": null,
            "_model_name": "LayoutModel",
            "justify_items": null,
            "grid_row": null,
            "max_height": null,
            "align_content": null,
            "visibility": null,
            "align_self": null,
            "height": null,
            "min_height": null,
            "padding": null,
            "grid_auto_rows": null,
            "grid_gap": null,
            "max_width": null,
            "order": null,
            "_view_module_version": "1.2.0",
            "grid_template_areas": null,
            "object_position": null,
            "object_fit": null,
            "grid_auto_columns": null,
            "margin": null,
            "display": null,
            "left": null
          }
        },
        "92899cfa1c914b9aa4379eeeaa06ad1f": {
          "model_module": "@jupyter-widgets/controls",
          "model_name": "ProgressStyleModel",
          "model_module_version": "1.5.0",
          "state": {
            "_view_name": "StyleView",
            "_model_name": "ProgressStyleModel",
            "description_width": "",
            "_view_module": "@jupyter-widgets/base",
            "_model_module_version": "1.5.0",
            "_view_count": null,
            "_view_module_version": "1.2.0",
            "bar_color": null,
            "_model_module": "@jupyter-widgets/controls"
          }
        },
        "de0a6caccab941659c646709077a55b9": {
          "model_module": "@jupyter-widgets/base",
          "model_name": "LayoutModel",
          "model_module_version": "1.2.0",
          "state": {
            "_view_name": "LayoutView",
            "grid_template_rows": null,
            "right": null,
            "justify_content": null,
            "_view_module": "@jupyter-widgets/base",
            "overflow": null,
            "_model_module_version": "1.2.0",
            "_view_count": null,
            "flex_flow": null,
            "width": null,
            "min_width": null,
            "border": null,
            "align_items": null,
            "bottom": null,
            "_model_module": "@jupyter-widgets/base",
            "top": null,
            "grid_column": null,
            "overflow_y": null,
            "overflow_x": null,
            "grid_auto_flow": null,
            "grid_area": null,
            "grid_template_columns": null,
            "flex": null,
            "_model_name": "LayoutModel",
            "justify_items": null,
            "grid_row": null,
            "max_height": null,
            "align_content": null,
            "visibility": null,
            "align_self": null,
            "height": null,
            "min_height": null,
            "padding": null,
            "grid_auto_rows": null,
            "grid_gap": null,
            "max_width": null,
            "order": null,
            "_view_module_version": "1.2.0",
            "grid_template_areas": null,
            "object_position": null,
            "object_fit": null,
            "grid_auto_columns": null,
            "margin": null,
            "display": null,
            "left": null
          }
        },
        "bfb989c46ef14a04add06cc4733ff3a2": {
          "model_module": "@jupyter-widgets/controls",
          "model_name": "DescriptionStyleModel",
          "model_module_version": "1.5.0",
          "state": {
            "_view_name": "StyleView",
            "_model_name": "DescriptionStyleModel",
            "description_width": "",
            "_view_module": "@jupyter-widgets/base",
            "_model_module_version": "1.5.0",
            "_view_count": null,
            "_view_module_version": "1.2.0",
            "_model_module": "@jupyter-widgets/controls"
          }
        },
        "133651c88d0c4d8a9e36af767774d6d4": {
          "model_module": "@jupyter-widgets/base",
          "model_name": "LayoutModel",
          "model_module_version": "1.2.0",
          "state": {
            "_view_name": "LayoutView",
            "grid_template_rows": null,
            "right": null,
            "justify_content": null,
            "_view_module": "@jupyter-widgets/base",
            "overflow": null,
            "_model_module_version": "1.2.0",
            "_view_count": null,
            "flex_flow": null,
            "width": null,
            "min_width": null,
            "border": null,
            "align_items": null,
            "bottom": null,
            "_model_module": "@jupyter-widgets/base",
            "top": null,
            "grid_column": null,
            "overflow_y": null,
            "overflow_x": null,
            "grid_auto_flow": null,
            "grid_area": null,
            "grid_template_columns": null,
            "flex": null,
            "_model_name": "LayoutModel",
            "justify_items": null,
            "grid_row": null,
            "max_height": null,
            "align_content": null,
            "visibility": null,
            "align_self": null,
            "height": null,
            "min_height": null,
            "padding": null,
            "grid_auto_rows": null,
            "grid_gap": null,
            "max_width": null,
            "order": null,
            "_view_module_version": "1.2.0",
            "grid_template_areas": null,
            "object_position": null,
            "object_fit": null,
            "grid_auto_columns": null,
            "margin": null,
            "display": null,
            "left": null
          }
        }
      }
    }
  },
  "cells": [
    {
      "cell_type": "code",
      "execution_count": null,
      "metadata": {
        "id": "9G8zeoyAg6Uk"
      },
      "outputs": [],
      "source": [
        "## import libraries\n",
        "import torch\n",
        "import torch.nn as nn\n",
        "import torch.nn.functional as F\n",
        "import torchvision\n",
        "from torchvision import models\n",
        "import torchvision.transforms as transforms"
      ]
    },
    {
      "cell_type": "code",
      "source": [
        "!pip install -U -q PyDrive \n",
        "  \n",
        "from pydrive.auth import GoogleAuth \n",
        "from pydrive.drive import GoogleDrive \n",
        "from google.colab import auth \n",
        "from oauth2client.client import GoogleCredentials \n",
        "  \n",
        "  \n",
        "# Authenticate and create the PyDrive client. \n",
        "auth.authenticate_user() \n",
        "gauth = GoogleAuth() \n",
        "gauth.credentials = GoogleCredentials.get_application_default() \n",
        "drive = GoogleDrive(gauth)"
      ],
      "metadata": {
        "id": "G8Z-80PNyhVl"
      },
      "execution_count": null,
      "outputs": []
    },
    {
      "cell_type": "code",
      "source": [
        "\n",
        "from os import path\n",
        "url = 'https://drive.google.com/file/d/1UT_9id3u08GwOO4lW1-BQffqIsl8j7VY/view'\n",
        "id = url.split(\"/\")[-2] \n",
        "  \n",
        "downloaded = drive.CreateFile({'id':id})  \n",
        "downloaded.GetContentFile('Finger-digit.zip')  \n"
      ],
      "metadata": {
        "id": "zdweVbN0yutc"
      },
      "execution_count": null,
      "outputs": []
    },
    {
      "cell_type": "code",
      "source": [
        "!unzip Finger-digit.zip"
      ],
      "metadata": {
        "id": "DFG9IS-2yekS"
      },
      "execution_count": null,
      "outputs": []
    },
    {
      "cell_type": "code",
      "source": [
        "from google.colab import drive\n",
        "drive.mount('/content/drive')"
      ],
      "metadata": {
        "colab": {
          "base_uri": "https://localhost:8080/"
        },
        "id": "MIvtPLBAg9FM",
        "outputId": "016322e0-0535-42f0-ce4b-04297650f8c0"
      },
      "execution_count": null,
      "outputs": [
        {
          "output_type": "stream",
          "name": "stdout",
          "text": [
            "Mounted at /content/drive\n"
          ]
        }
      ]
    },
    {
      "cell_type": "code",
      "source": [
        "!rm -r train"
      ],
      "metadata": {
        "id": "r9lfbjBnI4GI"
      },
      "execution_count": null,
      "outputs": []
    },
    {
      "cell_type": "code",
      "source": [
        "!rm -r test"
      ],
      "metadata": {
        "id": "wO2wU5oRI9ty"
      },
      "execution_count": null,
      "outputs": []
    },
    {
      "cell_type": "code",
      "source": [
        "!mkdir train/0"
      ],
      "metadata": {
        "id": "R-Yf0b-C5NFX"
      },
      "execution_count": null,
      "outputs": []
    },
    {
      "cell_type": "code",
      "source": [
        "!mkdir train/1\n",
        "!mkdir train/2\n",
        "!mkdir train/3\n",
        "!mkdir train/4\n",
        "!mkdir train/5"
      ],
      "metadata": {
        "id": "Tc0g0iPCHJ6D"
      },
      "execution_count": null,
      "outputs": []
    },
    {
      "cell_type": "code",
      "source": [
        "import os\n",
        "import shutil\n",
        "from PIL import Image \n",
        "\n",
        "folder_images = \"train/\"\n",
        "size_images = dict()\n",
        "\n",
        "for dirpath, _, filenames in os.walk(folder_images):\n",
        "    for path_image in filenames:\n",
        "      folder = path_image.split(\"_\")[1].split(\".\")[0]\n",
        "      \n",
        "      image = os.path.abspath(os.path.join(dirpath, path_image))\n",
        "      dest = os.path.abspath(os.path.join(dirpath, folder))\n",
        "      dest = os.path.abspath(os.path.join(dest, path_image))\n",
        "\n",
        "      shutil.move(image, dest)\n",
        "\n"
      ],
      "metadata": {
        "id": "WcoCaTTgHbzm",
        "colab": {
          "base_uri": "https://localhost:8080/",
          "height": 452
        },
        "outputId": "cf1a3668-51f3-4514-e9d5-235c80e2b71d"
      },
      "execution_count": null,
      "outputs": [
        {
          "output_type": "error",
          "ename": "FileNotFoundError",
          "evalue": "ignored",
          "traceback": [
            "\u001b[0;31m---------------------------------------------------------------------------\u001b[0m",
            "\u001b[0;31mFileNotFoundError\u001b[0m                         Traceback (most recent call last)",
            "\u001b[0;32m/usr/lib/python3.7/shutil.py\u001b[0m in \u001b[0;36mmove\u001b[0;34m(src, dst, copy_function)\u001b[0m\n\u001b[1;32m    565\u001b[0m     \u001b[0;32mtry\u001b[0m\u001b[0;34m:\u001b[0m\u001b[0;34m\u001b[0m\u001b[0;34m\u001b[0m\u001b[0m\n\u001b[0;32m--> 566\u001b[0;31m         \u001b[0mos\u001b[0m\u001b[0;34m.\u001b[0m\u001b[0mrename\u001b[0m\u001b[0;34m(\u001b[0m\u001b[0msrc\u001b[0m\u001b[0;34m,\u001b[0m \u001b[0mreal_dst\u001b[0m\u001b[0;34m)\u001b[0m\u001b[0;34m\u001b[0m\u001b[0;34m\u001b[0m\u001b[0m\n\u001b[0m\u001b[1;32m    567\u001b[0m     \u001b[0;32mexcept\u001b[0m \u001b[0mOSError\u001b[0m\u001b[0;34m:\u001b[0m\u001b[0;34m\u001b[0m\u001b[0;34m\u001b[0m\u001b[0m\n",
            "\u001b[0;31mFileNotFoundError\u001b[0m: [Errno 2] No such file or directory: '/content/train/2/3144_2.png' -> '/content/train/2/2/3144_2.png'",
            "\nDuring handling of the above exception, another exception occurred:\n",
            "\u001b[0;31mFileNotFoundError\u001b[0m                         Traceback (most recent call last)",
            "\u001b[0;32m<ipython-input-7-ea0850bc984d>\u001b[0m in \u001b[0;36m<module>\u001b[0;34m()\u001b[0m\n\u001b[1;32m     14\u001b[0m       \u001b[0mdest\u001b[0m \u001b[0;34m=\u001b[0m \u001b[0mos\u001b[0m\u001b[0;34m.\u001b[0m\u001b[0mpath\u001b[0m\u001b[0;34m.\u001b[0m\u001b[0mabspath\u001b[0m\u001b[0;34m(\u001b[0m\u001b[0mos\u001b[0m\u001b[0;34m.\u001b[0m\u001b[0mpath\u001b[0m\u001b[0;34m.\u001b[0m\u001b[0mjoin\u001b[0m\u001b[0;34m(\u001b[0m\u001b[0mdest\u001b[0m\u001b[0;34m,\u001b[0m \u001b[0mpath_image\u001b[0m\u001b[0;34m)\u001b[0m\u001b[0;34m)\u001b[0m\u001b[0;34m\u001b[0m\u001b[0;34m\u001b[0m\u001b[0m\n\u001b[1;32m     15\u001b[0m \u001b[0;34m\u001b[0m\u001b[0m\n\u001b[0;32m---> 16\u001b[0;31m       \u001b[0mshutil\u001b[0m\u001b[0;34m.\u001b[0m\u001b[0mmove\u001b[0m\u001b[0;34m(\u001b[0m\u001b[0mimage\u001b[0m\u001b[0;34m,\u001b[0m \u001b[0mdest\u001b[0m\u001b[0;34m)\u001b[0m\u001b[0;34m\u001b[0m\u001b[0;34m\u001b[0m\u001b[0m\n\u001b[0m\u001b[1;32m     17\u001b[0m \u001b[0;34m\u001b[0m\u001b[0m\n",
            "\u001b[0;32m/usr/lib/python3.7/shutil.py\u001b[0m in \u001b[0;36mmove\u001b[0;34m(src, dst, copy_function)\u001b[0m\n\u001b[1;32m    578\u001b[0m             \u001b[0mrmtree\u001b[0m\u001b[0;34m(\u001b[0m\u001b[0msrc\u001b[0m\u001b[0;34m)\u001b[0m\u001b[0;34m\u001b[0m\u001b[0;34m\u001b[0m\u001b[0m\n\u001b[1;32m    579\u001b[0m         \u001b[0;32melse\u001b[0m\u001b[0;34m:\u001b[0m\u001b[0;34m\u001b[0m\u001b[0;34m\u001b[0m\u001b[0m\n\u001b[0;32m--> 580\u001b[0;31m             \u001b[0mcopy_function\u001b[0m\u001b[0;34m(\u001b[0m\u001b[0msrc\u001b[0m\u001b[0;34m,\u001b[0m \u001b[0mreal_dst\u001b[0m\u001b[0;34m)\u001b[0m\u001b[0;34m\u001b[0m\u001b[0;34m\u001b[0m\u001b[0m\n\u001b[0m\u001b[1;32m    581\u001b[0m             \u001b[0mos\u001b[0m\u001b[0;34m.\u001b[0m\u001b[0munlink\u001b[0m\u001b[0;34m(\u001b[0m\u001b[0msrc\u001b[0m\u001b[0;34m)\u001b[0m\u001b[0;34m\u001b[0m\u001b[0;34m\u001b[0m\u001b[0m\n\u001b[1;32m    582\u001b[0m     \u001b[0;32mreturn\u001b[0m \u001b[0mreal_dst\u001b[0m\u001b[0;34m\u001b[0m\u001b[0;34m\u001b[0m\u001b[0m\n",
            "\u001b[0;32m/usr/lib/python3.7/shutil.py\u001b[0m in \u001b[0;36mcopy2\u001b[0;34m(src, dst, follow_symlinks)\u001b[0m\n\u001b[1;32m    264\u001b[0m     \u001b[0;32mif\u001b[0m \u001b[0mos\u001b[0m\u001b[0;34m.\u001b[0m\u001b[0mpath\u001b[0m\u001b[0;34m.\u001b[0m\u001b[0misdir\u001b[0m\u001b[0;34m(\u001b[0m\u001b[0mdst\u001b[0m\u001b[0;34m)\u001b[0m\u001b[0;34m:\u001b[0m\u001b[0;34m\u001b[0m\u001b[0;34m\u001b[0m\u001b[0m\n\u001b[1;32m    265\u001b[0m         \u001b[0mdst\u001b[0m \u001b[0;34m=\u001b[0m \u001b[0mos\u001b[0m\u001b[0;34m.\u001b[0m\u001b[0mpath\u001b[0m\u001b[0;34m.\u001b[0m\u001b[0mjoin\u001b[0m\u001b[0;34m(\u001b[0m\u001b[0mdst\u001b[0m\u001b[0;34m,\u001b[0m \u001b[0mos\u001b[0m\u001b[0;34m.\u001b[0m\u001b[0mpath\u001b[0m\u001b[0;34m.\u001b[0m\u001b[0mbasename\u001b[0m\u001b[0;34m(\u001b[0m\u001b[0msrc\u001b[0m\u001b[0;34m)\u001b[0m\u001b[0;34m)\u001b[0m\u001b[0;34m\u001b[0m\u001b[0;34m\u001b[0m\u001b[0m\n\u001b[0;32m--> 266\u001b[0;31m     \u001b[0mcopyfile\u001b[0m\u001b[0;34m(\u001b[0m\u001b[0msrc\u001b[0m\u001b[0;34m,\u001b[0m \u001b[0mdst\u001b[0m\u001b[0;34m,\u001b[0m \u001b[0mfollow_symlinks\u001b[0m\u001b[0;34m=\u001b[0m\u001b[0mfollow_symlinks\u001b[0m\u001b[0;34m)\u001b[0m\u001b[0;34m\u001b[0m\u001b[0;34m\u001b[0m\u001b[0m\n\u001b[0m\u001b[1;32m    267\u001b[0m     \u001b[0mcopystat\u001b[0m\u001b[0;34m(\u001b[0m\u001b[0msrc\u001b[0m\u001b[0;34m,\u001b[0m \u001b[0mdst\u001b[0m\u001b[0;34m,\u001b[0m \u001b[0mfollow_symlinks\u001b[0m\u001b[0;34m=\u001b[0m\u001b[0mfollow_symlinks\u001b[0m\u001b[0;34m)\u001b[0m\u001b[0;34m\u001b[0m\u001b[0;34m\u001b[0m\u001b[0m\n\u001b[1;32m    268\u001b[0m     \u001b[0;32mreturn\u001b[0m \u001b[0mdst\u001b[0m\u001b[0;34m\u001b[0m\u001b[0;34m\u001b[0m\u001b[0m\n",
            "\u001b[0;32m/usr/lib/python3.7/shutil.py\u001b[0m in \u001b[0;36mcopyfile\u001b[0;34m(src, dst, follow_symlinks)\u001b[0m\n\u001b[1;32m    119\u001b[0m     \u001b[0;32melse\u001b[0m\u001b[0;34m:\u001b[0m\u001b[0;34m\u001b[0m\u001b[0;34m\u001b[0m\u001b[0m\n\u001b[1;32m    120\u001b[0m         \u001b[0;32mwith\u001b[0m \u001b[0mopen\u001b[0m\u001b[0;34m(\u001b[0m\u001b[0msrc\u001b[0m\u001b[0;34m,\u001b[0m \u001b[0;34m'rb'\u001b[0m\u001b[0;34m)\u001b[0m \u001b[0;32mas\u001b[0m \u001b[0mfsrc\u001b[0m\u001b[0;34m:\u001b[0m\u001b[0;34m\u001b[0m\u001b[0;34m\u001b[0m\u001b[0m\n\u001b[0;32m--> 121\u001b[0;31m             \u001b[0;32mwith\u001b[0m \u001b[0mopen\u001b[0m\u001b[0;34m(\u001b[0m\u001b[0mdst\u001b[0m\u001b[0;34m,\u001b[0m \u001b[0;34m'wb'\u001b[0m\u001b[0;34m)\u001b[0m \u001b[0;32mas\u001b[0m \u001b[0mfdst\u001b[0m\u001b[0;34m:\u001b[0m\u001b[0;34m\u001b[0m\u001b[0;34m\u001b[0m\u001b[0m\n\u001b[0m\u001b[1;32m    122\u001b[0m                 \u001b[0mcopyfileobj\u001b[0m\u001b[0;34m(\u001b[0m\u001b[0mfsrc\u001b[0m\u001b[0;34m,\u001b[0m \u001b[0mfdst\u001b[0m\u001b[0;34m)\u001b[0m\u001b[0;34m\u001b[0m\u001b[0;34m\u001b[0m\u001b[0m\n\u001b[1;32m    123\u001b[0m     \u001b[0;32mreturn\u001b[0m \u001b[0mdst\u001b[0m\u001b[0;34m\u001b[0m\u001b[0;34m\u001b[0m\u001b[0m\n",
            "\u001b[0;31mFileNotFoundError\u001b[0m: [Errno 2] No such file or directory: '/content/train/2/2/3144_2.png'"
          ]
        }
      ]
    },
    {
      "cell_type": "code",
      "source": [
        "!mkdir test/0"
      ],
      "metadata": {
        "id": "der9GaVbJS0f"
      },
      "execution_count": null,
      "outputs": []
    },
    {
      "cell_type": "code",
      "source": [
        "!mv test/* test/0"
      ],
      "metadata": {
        "colab": {
          "base_uri": "https://localhost:8080/"
        },
        "id": "a3L9J7aG5Ph2",
        "outputId": "a6b11e0c-2a0c-4f40-f425-359f95c1bff4"
      },
      "execution_count": null,
      "outputs": [
        {
          "output_type": "stream",
          "name": "stdout",
          "text": [
            "mv: cannot move 'test/0' to a subdirectory of itself, 'test/0/0'\n"
          ]
        }
      ]
    },
    {
      "cell_type": "code",
      "source": [
        "len(train_data)"
      ],
      "metadata": {
        "colab": {
          "base_uri": "https://localhost:8080/"
        },
        "id": "5GOk5PC15MCI",
        "outputId": "97406d8c-470e-4322-e695-ceb871aa8334"
      },
      "execution_count": null,
      "outputs": [
        {
          "output_type": "execute_result",
          "data": {
            "text/plain": [
              "8582"
            ]
          },
          "metadata": {},
          "execution_count": 21
        }
      ]
    },
    {
      "cell_type": "code",
      "source": [
        "import os\n",
        "from PIL import Image \n",
        "\n",
        "folder_images = \"Food-Data/training/\"\n",
        "size_images = dict()\n",
        "\n",
        "for dirpath, _, filenames in os.walk(folder_images):\n",
        "    for path_image in filenames:\n",
        "      #print(path_image)\n",
        "      image = os.path.abspath(os.path.join(dirpath, path_image))\n",
        "      with Image.open(image) as img:\n",
        "          width, heigth = img.size\n",
        "          size_images[path_image] = {'width': width, 'heigth': heigth}\n",
        "print(size_images)"
      ],
      "metadata": {
        "id": "njTqszBR6U32"
      },
      "execution_count": null,
      "outputs": []
    },
    {
      "cell_type": "code",
      "source": [
        "%%capture\n",
        "BATCH_SIZE = 8\n",
        "\n",
        "transform = transforms.Compose(\n",
        "    [transforms.ToTensor(),\n",
        "     transforms.Resize((128,128))])\n",
        "\n",
        "\n",
        "## transformations\n",
        "\n",
        "## download and load training dataset\n",
        "train_data = torchvision.datasets.ImageFolder(root ='train', transform = transform)\n",
        "trainloader = torch.utils.data.DataLoader(dataset=train_data, batch_size=BATCH_SIZE,\n",
        "                                          shuffle=True, num_workers=2)\n",
        "\n",
        "## download and load testing dataset\n",
        "test_data = torchvision.datasets.ImageFolder(root ='test', transform = transform)\n",
        "testloader = torch.utils.data.DataLoader(dataset=test_data, batch_size=BATCH_SIZE,\n",
        "                                         shuffle=False, num_workers=2)"
      ],
      "metadata": {
        "id": "voNpJ5w2hY1n"
      },
      "execution_count": null,
      "outputs": []
    },
    {
      "cell_type": "code",
      "source": [
        "test_data = torchvision.datasets.ImageFolder(root ='Food-Data/test', transform = transform)\n",
        "testloader = torch.utils.data.DataLoader(dataset=test_data, batch_size=BATCH_SIZE,\n",
        "                                         shuffle=False, num_workers=2)"
      ],
      "metadata": {
        "id": "tOQXsc7p4-mp"
      },
      "execution_count": null,
      "outputs": []
    },
    {
      "cell_type": "code",
      "source": [
        "import numpy as np\n",
        "import matplotlib.pyplot as plt\n",
        "def imshow(inp, title=None):\n",
        "    \"\"\"Imshow for Tensor.\"\"\"\n",
        "    inp = inp.numpy().transpose((1, 2, 0))\n",
        "    mean = np.array([0.485, 0.456, 0.406])\n",
        "    std = np.array([0.229, 0.224, 0.225])\n",
        "    inp = std * inp + mean\n",
        "    inp = np.clip(inp, 0, 1)\n",
        "    plt.imshow(inp)\n",
        "    if title is not None:\n",
        "        plt.title(title)\n",
        "    plt.pause(0.001)  # pause a bit so that plots are updated\n",
        "\n",
        "\n",
        "# Get a batch of training data\n",
        "inputs, classes = next(iter(trainloader))\n",
        "\n",
        "# Make a grid from batch\n",
        "out = torchvision.utils.make_grid(inputs)\n",
        "\n",
        "imshow(out, title=[x for x in classes])"
      ],
      "metadata": {
        "colab": {
          "base_uri": "https://localhost:8080/",
          "height": 106
        },
        "id": "zNj2spu_irap",
        "outputId": "04e3c996-f1f1-41d5-ea7c-76ac0db61d7b"
      },
      "execution_count": null,
      "outputs": [
        {
          "output_type": "display_data",
          "data": {
            "image/png": "[encoded data removed]",
            "text/plain": [
              "<Figure size 432x288 with 1 Axes>"
            ]
          },
          "metadata": {
            "needs_background": "light"
          }
        }
      ]
    },
    {
      "cell_type": "code",
      "source": [
        "for images, labels in trainloader:\n",
        "    print(\"Image batch dimensions:\", images.shape)\n",
        "    print(\"Image label dimensions:\", labels.shape)\n",
        "    break"
      ],
      "metadata": {
        "colab": {
          "base_uri": "https://localhost:8080/"
        },
        "id": "-JRtRzW0oWbv",
        "outputId": "cc76cab0-5d83-4284-d896-0270fbf617b4"
      },
      "execution_count": null,
      "outputs": [
        {
          "output_type": "stream",
          "name": "stdout",
          "text": [
            "Image batch dimensions: torch.Size([8, 3, 128, 128])\n",
            "Image label dimensions: torch.Size([8])\n"
          ]
        }
      ]
    },
    {
      "cell_type": "code",
      "source": [
        "!pip install efficientnet_pytorch"
      ],
      "metadata": {
        "colab": {
          "base_uri": "https://localhost:8080/"
        },
        "id": "L3RmwSIctYEg",
        "outputId": "a85f84d4-54ab-4502-dad2-f59840acf783"
      },
      "execution_count": null,
      "outputs": [
        {
          "output_type": "stream",
          "name": "stdout",
          "text": [
            "Collecting efficientnet_pytorch\n",
            "  Downloading efficientnet_pytorch-0.7.1.tar.gz (21 kB)\n",
            "Requirement already satisfied: torch in /usr/local/lib/python3.7/dist-packages (from efficientnet_pytorch) (1.10.0+cu111)\n",
            "Requirement already satisfied: typing-extensions in /usr/local/lib/python3.7/dist-packages (from torch->efficientnet_pytorch) (3.10.0.2)\n",
            "Building wheels for collected packages: efficientnet-pytorch\n",
            "  Building wheel for efficientnet-pytorch (setup.py) ... \u001b[?25l\u001b[?25hdone\n",
            "  Created wheel for efficientnet-pytorch: filename=efficientnet_pytorch-0.7.1-py3-none-any.whl size=16446 sha256=d1650cf4629bcbde1afab899d7f77c5df3ef64946a2971cc2b3d49129b86910f\n",
            "  Stored in directory: /root/.cache/pip/wheels/0e/cc/b2/49e74588263573ff778da58cc99b9c6349b496636a7e165be6\n",
            "Successfully built efficientnet-pytorch\n",
            "Installing collected packages: efficientnet-pytorch\n",
            "Successfully installed efficientnet-pytorch-0.7.1\n"
          ]
        }
      ]
    },
    {
      "cell_type": "code",
      "source": [
        "#using efficientnet model based transfer learning\n",
        "from efficientnet_pytorch import EfficientNet\n",
        "class MyModel(nn.Module):\n",
        "    def __init__(self):\n",
        "        super(MyModel, self).__init__()\n",
        "        #self.resnet =  EfficientNet.from_pretrained('efficientnet-b7')\n",
        "        self.resnet = models.resnet50(pretrained=True)\n",
        "        self.l1 = nn.Linear(1000 , 128)\n",
        "        self.dropout = nn.Dropout(0.5)\n",
        "        self.l2 = nn.Linear(128,5)\n",
        "        self.relu = nn.ReLU()\n",
        "\n",
        "    def forward(self, input):\n",
        "        x = self.resnet(input)\n",
        "        x = x.view(x.size(0),-1)\n",
        "        x = self.dropout(self.relu(self.l1(x)))\n",
        "        x = self.l2(x)\n",
        "        return x\n",
        "\n",
        "#device = torch.device(\"cuda\" if torch.cuda.is_available() else \"cpu\")\n",
        "#classifier = Classifier().to(device)"
      ],
      "metadata": {
        "id": "tfA-Io8MohQY"
      },
      "execution_count": null,
      "outputs": []
    },
    {
      "cell_type": "code",
      "source": [
        "model = models.resnet50(pretrained=True)\n",
        "\n",
        "model = model.cuda() \n",
        "    \n",
        "num_ftrs = model.fc.in_features\n",
        "model.fc = torch.nn.Linear(num_ftrs, 1024)\n",
        "model.fc = nn.Sequential(\n",
        "    torch.nn.Dropout(0.5),\n",
        "    torch.nn.Linear(num_ftrs, 1024),\n",
        "    torch.nn.Dropout(0.2),\n",
        "    torch.nn.Linear(1024, 512),\n",
        "    torch.nn.Dropout(0.2),\n",
        "    torch.nn.Linear(512, 256),\n",
        "    torch.nn.Dropout(0.2),\n",
        "    torch.nn.Linear(256, 128),\n",
        "    torch.nn.Dropout(0.2),\n",
        "    torch.nn.Linear(128, 6)\n",
        ")\n",
        "\n",
        "model.fc = model.fc.cuda()"
      ],
      "metadata": {
        "id": "0pCB0Psq3Q0e",
        "colab": {
          "base_uri": "https://localhost:8080/",
          "height": 86,
          "referenced_widgets": [
            "8f01d72628ce4265a1703bcf08ea922e",
            "382a5b1d997b4845adb38423faccaac0",
            "748f4e0ab75f4fe6bf25cc5c3a07cc14",
            "79a14e4ddab04783aa41ac7aa0a900fc",
            "3fbe82cced074782854408fa164479c2",
            "a9dd41c93aad406da5275febbbb2157d",
            "55d0fe2d50c84a008a3c477ae20eeb6f",
            "92899cfa1c914b9aa4379eeeaa06ad1f",
            "de0a6caccab941659c646709077a55b9",
            "bfb989c46ef14a04add06cc4733ff3a2",
            "133651c88d0c4d8a9e36af767774d6d4"
          ]
        },
        "outputId": "b1056469-f004-42c6-bb40-73073a2eb503"
      },
      "execution_count": null,
      "outputs": [
        {
          "output_type": "stream",
          "name": "stderr",
          "text": [
            "Downloading: \"https://download.pytorch.org/models/resnet50-0676ba61.pth\" to /root/.cache/torch/hub/checkpoints/resnet50-0676ba61.pth\n"
          ]
        },
        {
          "output_type": "display_data",
          "data": {
            "application/vnd.jupyter.widget-view+json": {
              "model_id": "8f01d72628ce4265a1703bcf08ea922e",
              "version_minor": 0,
              "version_major": 2
            },
            "text/plain": [
              "  0%|          | 0.00/97.8M [00:00<?, ?B/s]"
            ]
          },
          "metadata": {}
        }
      ]
    },
    {
      "cell_type": "code",
      "source": [
        "batch_size = 8\n",
        "learning_rate = 3e-3\n",
        "num_epochs = 10"
      ],
      "metadata": {
        "id": "nMCYpGtM3iq-"
      },
      "execution_count": null,
      "outputs": []
    },
    {
      "cell_type": "code",
      "source": [
        "criterion = nn.CrossEntropyLoss()\n",
        "optimizer = torch.optim.SGD(model.parameters(), lr=learning_rate, momentum=0.9, weight_decay=5e-4)\n",
        "scheduler = torch.optim.lr_scheduler.StepLR(optimizer, step_size=10, gamma=0.1)"
      ],
      "metadata": {
        "id": "O-raJ4wr3dIl"
      },
      "execution_count": null,
      "outputs": []
    },
    {
      "cell_type": "code",
      "source": [
        "from torch.autograd import Variable\n"
      ],
      "metadata": {
        "id": "rul7yKwZ4OyZ"
      },
      "execution_count": null,
      "outputs": []
    },
    {
      "cell_type": "code",
      "source": [
        "dataloaders = {\n",
        "    'train':\n",
        "    torch.utils.data.DataLoader(train_data,\n",
        "                                batch_size=batch_size,\n",
        "                                shuffle=True,\n",
        "                                num_workers=2),\n",
        "    'test':\n",
        "    torch.utils.data.DataLoader(test_data,\n",
        "                                batch_size=batch_size,\n",
        "                                shuffle=False,\n",
        "                                num_workers=2)\n",
        "}"
      ],
      "metadata": {
        "id": "RaKOSPsv4mle"
      },
      "execution_count": null,
      "outputs": []
    },
    {
      "cell_type": "code",
      "source": [
        "train_acces, test_acces = [], []\n",
        "train_losses, test_losses = [], []\n",
        "total_step = len(dataloaders['train'])\n",
        "test_loss_min = np.Inf\n",
        "for epoch in range(num_epochs):\n",
        "    print(f'Epoch {epoch}\\n')\n",
        "\n",
        "    network_learned = False\n",
        "\n",
        "    for phase in ['train']:\n",
        "\n",
        "        running_loss = 0.0\n",
        "        running_corrects = 0\n",
        "\n",
        "        if phase == 'train':\n",
        "            model.train()\n",
        "\n",
        "            for batch_idx, (inputs, labels) in enumerate(dataloaders[phase]):\n",
        "\n",
        "                \n",
        "                inputs = Variable(inputs.cuda())\n",
        "                labels = Variable(labels.cuda())\n",
        "                \n",
        "  \n",
        "                inputs = inputs.float()\n",
        "                optimizer.zero_grad()\n",
        "                outputs = model(inputs)\n",
        "                loss = criterion(outputs, labels)\n",
        "                loss.backward()\n",
        "                optimizer.step()\n",
        "\n",
        "                _, preds = torch.max(outputs, 1)\n",
        "                running_loss += loss.item()\n",
        "                running_corrects += torch.sum(preds == labels.data)\n",
        "                if (batch_idx) % 20 == 0:\n",
        "                    print ('Epoch [{}/{}], Step [{}/{}], Loss: {:.4f}'.format(epoch, num_epochs-1, batch_idx, total_step, loss.item()))\n",
        "            scheduler.step()\n",
        "        else:\n",
        "            with torch.no_grad():\n",
        "                model.eval()\n",
        "                for inputs, labels in dataloaders[phase]:\n",
        "                    \n",
        "                    inputs = Variable(inputs.cuda())\n",
        "                    labels = Variable(labels.cuda())\n",
        "                  \n",
        "                    \n",
        "                    inputs = inputs.float()\n",
        "                    outputs = model(inputs)\n",
        "                    loss = criterion(outputs, labels)\n",
        "\n",
        "                    _, preds = torch.max(outputs, 1)\n",
        "                    running_loss += loss.item()\n",
        "                    running_corrects += torch.sum(preds == labels.data)\n",
        "            network_learned = running_loss < test_loss_min\n",
        "            test_loss_min = running_loss if network_learned else test_loss_min\n",
        "\n",
        "\n",
        "        epoch_loss = running_loss / len(train_data)\n",
        "        epoch_acc = running_corrects.double() / len(train_data)\n",
        "        \n",
        "        if phase == 'train':\n",
        "            train_acces.append(epoch_acc * 100)\n",
        "            train_losses.append(epoch_loss)\n",
        "        else:\n",
        "            test_acces.append(epoch_acc * 100)\n",
        "            test_losses.append(epoch_loss)\n",
        "    print(f'\\ntrain-loss: {np.mean(train_losses):.4f}, train-acc: {train_acces[-1]:.4f}')\n",
        "    #print(f'test loss: {np.mean(test_losses):.4f}, test acc: {test_acces[-1]:.4f}\\n')\n",
        "\n",
        "    if network_learned:\n",
        "        torch.save(model.state_dict(), 'models/weights.h5')\n",
        "        print('Improvement-Detected, save-model')"
      ],
      "metadata": {
        "colab": {
          "base_uri": "https://localhost:8080/",
          "height": 1000
        },
        "id": "n-o5c9j53tUS",
        "outputId": "d1fdb6c3-b9a1-4b3c-d1e8-9df340c6cbaf"
      },
      "execution_count": null,
      "outputs": [
        {
          "output_type": "stream",
          "name": "stdout",
          "text": [
            "Epoch 0\n",
            "\n",
            "Epoch [0/9], Step [0/961], Loss: 1.7628\n",
            "Epoch [0/9], Step [20/961], Loss: 1.7502\n",
            "Epoch [0/9], Step [40/961], Loss: 1.1206\n",
            "Epoch [0/9], Step [60/961], Loss: 0.1449\n",
            "Epoch [0/9], Step [80/961], Loss: 0.1233\n",
            "Epoch [0/9], Step [100/961], Loss: 0.0574\n",
            "Epoch [0/9], Step [120/961], Loss: 0.0915\n",
            "Epoch [0/9], Step [140/961], Loss: 0.2493\n",
            "Epoch [0/9], Step [160/961], Loss: 0.8930\n",
            "Epoch [0/9], Step [180/961], Loss: 0.0609\n",
            "Epoch [0/9], Step [200/961], Loss: 0.0240\n",
            "Epoch [0/9], Step [220/961], Loss: 0.1100\n",
            "Epoch [0/9], Step [240/961], Loss: 0.0274\n",
            "Epoch [0/9], Step [260/961], Loss: 0.0911\n",
            "Epoch [0/9], Step [280/961], Loss: 0.0080\n",
            "Epoch [0/9], Step [300/961], Loss: 0.1334\n",
            "Epoch [0/9], Step [320/961], Loss: 0.0022\n",
            "Epoch [0/9], Step [340/961], Loss: 0.0013\n",
            "Epoch [0/9], Step [360/961], Loss: 0.0369\n",
            "Epoch [0/9], Step [380/961], Loss: 0.0055\n",
            "Epoch [0/9], Step [400/961], Loss: 0.0718\n",
            "Epoch [0/9], Step [420/961], Loss: 0.0126\n",
            "Epoch [0/9], Step [440/961], Loss: 0.0008\n",
            "Epoch [0/9], Step [460/961], Loss: 0.0013\n",
            "Epoch [0/9], Step [480/961], Loss: 0.0221\n",
            "Epoch [0/9], Step [500/961], Loss: 0.0143\n",
            "Epoch [0/9], Step [520/961], Loss: 0.0009\n",
            "Epoch [0/9], Step [540/961], Loss: 0.5411\n",
            "Epoch [0/9], Step [560/961], Loss: 0.0073\n",
            "Epoch [0/9], Step [580/961], Loss: 0.0056\n",
            "Epoch [0/9], Step [600/961], Loss: 0.0010\n",
            "Epoch [0/9], Step [620/961], Loss: 0.0004\n",
            "Epoch [0/9], Step [640/961], Loss: 0.0011\n",
            "Epoch [0/9], Step [660/961], Loss: 0.0007\n",
            "Epoch [0/9], Step [680/961], Loss: 0.0000\n",
            "Epoch [0/9], Step [700/961], Loss: 0.0002\n",
            "Epoch [0/9], Step [720/961], Loss: 0.0023\n",
            "Epoch [0/9], Step [740/961], Loss: 0.1593\n",
            "Epoch [0/9], Step [760/961], Loss: 0.0007\n",
            "Epoch [0/9], Step [780/961], Loss: 0.0002\n",
            "Epoch [0/9], Step [800/961], Loss: 0.0004\n",
            "Epoch [0/9], Step [820/961], Loss: 0.0002\n",
            "Epoch [0/9], Step [840/961], Loss: 0.0015\n",
            "Epoch [0/9], Step [860/961], Loss: 0.0002\n",
            "Epoch [0/9], Step [880/961], Loss: 0.0011\n",
            "Epoch [0/9], Step [900/961], Loss: 0.0008\n",
            "Epoch [0/9], Step [920/961], Loss: 0.0000\n",
            "Epoch [0/9], Step [940/961], Loss: 0.0004\n",
            "Epoch [0/9], Step [960/961], Loss: 0.0033\n",
            "\n",
            "train-loss: 0.0165, train-acc: 96.2669\n",
            "Epoch 1\n",
            "\n",
            "Epoch [1/9], Step [0/961], Loss: 0.0002\n",
            "Epoch [1/9], Step [20/961], Loss: 0.0037\n",
            "Epoch [1/9], Step [40/961], Loss: 0.0006\n",
            "Epoch [1/9], Step [60/961], Loss: 0.0118\n",
            "Epoch [1/9], Step [80/961], Loss: 0.0010\n",
            "Epoch [1/9], Step [100/961], Loss: 0.0004\n",
            "Epoch [1/9], Step [120/961], Loss: 0.0001\n",
            "Epoch [1/9], Step [140/961], Loss: 0.0003\n",
            "Epoch [1/9], Step [160/961], Loss: 0.0097\n",
            "Epoch [1/9], Step [180/961], Loss: 0.0015\n",
            "Epoch [1/9], Step [200/961], Loss: 0.0313\n",
            "Epoch [1/9], Step [220/961], Loss: 0.0034\n",
            "Epoch [1/9], Step [240/961], Loss: 0.0009\n",
            "Epoch [1/9], Step [260/961], Loss: 0.0034\n",
            "Epoch [1/9], Step [280/961], Loss: 0.0002\n",
            "Epoch [1/9], Step [300/961], Loss: 0.0003\n",
            "Epoch [1/9], Step [320/961], Loss: 0.0006\n",
            "Epoch [1/9], Step [340/961], Loss: 0.0008\n",
            "Epoch [1/9], Step [360/961], Loss: 0.0001\n",
            "Epoch [1/9], Step [380/961], Loss: 0.0009\n",
            "Epoch [1/9], Step [400/961], Loss: 0.0024\n",
            "Epoch [1/9], Step [420/961], Loss: 0.0006\n",
            "Epoch [1/9], Step [440/961], Loss: 0.0002\n",
            "Epoch [1/9], Step [460/961], Loss: 0.0111\n",
            "Epoch [1/9], Step [480/961], Loss: 0.0000\n",
            "Epoch [1/9], Step [500/961], Loss: 0.0005\n",
            "Epoch [1/9], Step [520/961], Loss: 0.0001\n",
            "Epoch [1/9], Step [540/961], Loss: 0.0015\n",
            "Epoch [1/9], Step [560/961], Loss: 0.0002\n",
            "Epoch [1/9], Step [580/961], Loss: 0.0000\n",
            "Epoch [1/9], Step [600/961], Loss: 0.0074\n",
            "Epoch [1/9], Step [620/961], Loss: 0.0009\n",
            "Epoch [1/9], Step [640/961], Loss: 0.0000\n",
            "Epoch [1/9], Step [660/961], Loss: 0.0004\n",
            "Epoch [1/9], Step [680/961], Loss: 0.0000\n",
            "Epoch [1/9], Step [700/961], Loss: 0.0001\n",
            "Epoch [1/9], Step [720/961], Loss: 0.0000\n",
            "Epoch [1/9], Step [740/961], Loss: 0.0002\n",
            "Epoch [1/9], Step [760/961], Loss: 0.0000\n",
            "Epoch [1/9], Step [780/961], Loss: 0.0000\n",
            "Epoch [1/9], Step [800/961], Loss: 0.0094\n",
            "Epoch [1/9], Step [820/961], Loss: 0.0002\n",
            "Epoch [1/9], Step [840/961], Loss: 0.0011\n",
            "Epoch [1/9], Step [860/961], Loss: 0.0001\n",
            "Epoch [1/9], Step [880/961], Loss: 0.0002\n",
            "Epoch [1/9], Step [900/961], Loss: 0.0000\n",
            "Epoch [1/9], Step [920/961], Loss: 0.0003\n",
            "Epoch [1/9], Step [940/961], Loss: 0.0004\n",
            "Epoch [1/9], Step [960/961], Loss: 0.0001\n",
            "\n",
            "train-loss: 0.0087, train-acc: 99.7399\n",
            "Epoch 2\n",
            "\n",
            "Epoch [2/9], Step [0/961], Loss: 0.0010\n",
            "Epoch [2/9], Step [20/961], Loss: 0.0000\n",
            "Epoch [2/9], Step [40/961], Loss: 0.0001\n",
            "Epoch [2/9], Step [60/961], Loss: 0.0000\n",
            "Epoch [2/9], Step [80/961], Loss: 0.0001\n",
            "Epoch [2/9], Step [100/961], Loss: 0.0004\n",
            "Epoch [2/9], Step [120/961], Loss: 0.0000\n",
            "Epoch [2/9], Step [140/961], Loss: 0.0001\n",
            "Epoch [2/9], Step [160/961], Loss: 0.0001\n",
            "Epoch [2/9], Step [180/961], Loss: 0.0000\n",
            "Epoch [2/9], Step [200/961], Loss: 0.0003\n",
            "Epoch [2/9], Step [220/961], Loss: 0.0003\n",
            "Epoch [2/9], Step [240/961], Loss: 0.0000\n",
            "Epoch [2/9], Step [260/961], Loss: 0.0138\n",
            "Epoch [2/9], Step [280/961], Loss: 0.0000\n",
            "Epoch [2/9], Step [300/961], Loss: 0.0000\n",
            "Epoch [2/9], Step [320/961], Loss: 0.0000\n",
            "Epoch [2/9], Step [340/961], Loss: 0.0000\n",
            "Epoch [2/9], Step [360/961], Loss: 0.0037\n",
            "Epoch [2/9], Step [380/961], Loss: 0.0001\n",
            "Epoch [2/9], Step [400/961], Loss: 0.0001\n",
            "Epoch [2/9], Step [420/961], Loss: 0.1947\n",
            "Epoch [2/9], Step [440/961], Loss: 0.0000\n",
            "Epoch [2/9], Step [460/961], Loss: 0.0002\n",
            "Epoch [2/9], Step [480/961], Loss: 0.0001\n",
            "Epoch [2/9], Step [500/961], Loss: 0.1149\n",
            "Epoch [2/9], Step [520/961], Loss: 0.0001\n",
            "Epoch [2/9], Step [540/961], Loss: 0.0001\n",
            "Epoch [2/9], Step [560/961], Loss: 0.0004\n",
            "Epoch [2/9], Step [580/961], Loss: 0.0000\n",
            "Epoch [2/9], Step [600/961], Loss: 0.0000\n",
            "Epoch [2/9], Step [620/961], Loss: 0.0000\n",
            "Epoch [2/9], Step [640/961], Loss: 0.0000\n",
            "Epoch [2/9], Step [660/961], Loss: 0.0002\n",
            "Epoch [2/9], Step [680/961], Loss: 0.0000\n",
            "Epoch [2/9], Step [700/961], Loss: 0.0009\n",
            "Epoch [2/9], Step [720/961], Loss: 0.0000\n",
            "Epoch [2/9], Step [740/961], Loss: 0.0001\n",
            "Epoch [2/9], Step [760/961], Loss: 0.0034\n",
            "Epoch [2/9], Step [780/961], Loss: 0.0001\n",
            "Epoch [2/9], Step [800/961], Loss: 0.0000\n",
            "Epoch [2/9], Step [820/961], Loss: 0.0000\n",
            "Epoch [2/9], Step [840/961], Loss: 0.0005\n",
            "Epoch [2/9], Step [860/961], Loss: 0.0000\n",
            "Epoch [2/9], Step [880/961], Loss: 0.0000\n",
            "Epoch [2/9], Step [900/961], Loss: 0.0000\n",
            "Epoch [2/9], Step [920/961], Loss: 0.0000\n",
            "Epoch [2/9], Step [940/961], Loss: 0.0009\n",
            "Epoch [2/9], Step [960/961], Loss: 0.0000\n",
            "\n",
            "train-loss: 0.0059, train-acc: 99.9220\n",
            "Epoch 3\n",
            "\n",
            "Epoch [3/9], Step [0/961], Loss: 0.0000\n",
            "Epoch [3/9], Step [20/961], Loss: 0.0000\n",
            "Epoch [3/9], Step [40/961], Loss: 0.0012\n",
            "Epoch [3/9], Step [60/961], Loss: 0.0000\n",
            "Epoch [3/9], Step [80/961], Loss: 0.0000\n",
            "Epoch [3/9], Step [100/961], Loss: 0.0013\n",
            "Epoch [3/9], Step [120/961], Loss: 0.0000\n",
            "Epoch [3/9], Step [140/961], Loss: 0.0001\n",
            "Epoch [3/9], Step [160/961], Loss: 0.0007\n",
            "Epoch [3/9], Step [180/961], Loss: 0.0000\n",
            "Epoch [3/9], Step [200/961], Loss: 0.0000\n",
            "Epoch [3/9], Step [220/961], Loss: 0.0000\n",
            "Epoch [3/9], Step [240/961], Loss: 0.0000\n",
            "Epoch [3/9], Step [260/961], Loss: 0.0000\n",
            "Epoch [3/9], Step [280/961], Loss: 0.0000\n",
            "Epoch [3/9], Step [300/961], Loss: 0.0000\n",
            "Epoch [3/9], Step [320/961], Loss: 0.0017\n",
            "Epoch [3/9], Step [340/961], Loss: 0.0002\n",
            "Epoch [3/9], Step [360/961], Loss: 0.0021\n",
            "Epoch [3/9], Step [380/961], Loss: 0.0000\n",
            "Epoch [3/9], Step [400/961], Loss: 0.0000\n",
            "Epoch [3/9], Step [420/961], Loss: 0.0000\n",
            "Epoch [3/9], Step [440/961], Loss: 0.0000\n",
            "Epoch [3/9], Step [460/961], Loss: 0.0001\n",
            "Epoch [3/9], Step [480/961], Loss: 0.0001\n",
            "Epoch [3/9], Step [500/961], Loss: 0.0000\n",
            "Epoch [3/9], Step [520/961], Loss: 0.0000\n",
            "Epoch [3/9], Step [540/961], Loss: 0.0000\n",
            "Epoch [3/9], Step [560/961], Loss: 0.0000\n",
            "Epoch [3/9], Step [580/961], Loss: 0.0001\n",
            "Epoch [3/9], Step [600/961], Loss: 0.0056\n",
            "Epoch [3/9], Step [620/961], Loss: 0.0006\n",
            "Epoch [3/9], Step [640/961], Loss: 0.0000\n",
            "Epoch [3/9], Step [660/961], Loss: 0.0001\n",
            "Epoch [3/9], Step [680/961], Loss: 0.0001\n",
            "Epoch [3/9], Step [700/961], Loss: 0.0001\n",
            "Epoch [3/9], Step [720/961], Loss: 0.0000\n",
            "Epoch [3/9], Step [740/961], Loss: 0.0000\n",
            "Epoch [3/9], Step [760/961], Loss: 0.0000\n",
            "Epoch [3/9], Step [780/961], Loss: 0.0001\n",
            "Epoch [3/9], Step [800/961], Loss: 0.0000\n",
            "Epoch [3/9], Step [820/961], Loss: 0.0000\n",
            "Epoch [3/9], Step [840/961], Loss: 0.0000\n",
            "Epoch [3/9], Step [860/961], Loss: 0.0000\n",
            "Epoch [3/9], Step [880/961], Loss: 0.0000\n",
            "Epoch [3/9], Step [900/961], Loss: 0.0000\n",
            "Epoch [3/9], Step [920/961], Loss: 0.0000\n",
            "Epoch [3/9], Step [940/961], Loss: 0.0001\n",
            "Epoch [3/9], Step [960/961], Loss: 0.0001\n",
            "\n",
            "train-loss: 0.0044, train-acc: 100.0000\n",
            "Epoch 4\n",
            "\n",
            "Epoch [4/9], Step [0/961], Loss: 0.0000\n",
            "Epoch [4/9], Step [20/961], Loss: 0.0000\n",
            "Epoch [4/9], Step [40/961], Loss: 0.0001\n",
            "Epoch [4/9], Step [60/961], Loss: 0.0000\n",
            "Epoch [4/9], Step [80/961], Loss: 0.0000\n",
            "Epoch [4/9], Step [100/961], Loss: 0.0000\n",
            "Epoch [4/9], Step [120/961], Loss: 0.0000\n",
            "Epoch [4/9], Step [140/961], Loss: 0.0000\n",
            "Epoch [4/9], Step [160/961], Loss: 0.0001\n",
            "Epoch [4/9], Step [180/961], Loss: 0.0000\n",
            "Epoch [4/9], Step [200/961], Loss: 0.0000\n",
            "Epoch [4/9], Step [220/961], Loss: 0.0001\n",
            "Epoch [4/9], Step [240/961], Loss: 0.0000\n",
            "Epoch [4/9], Step [260/961], Loss: 0.0001\n",
            "Epoch [4/9], Step [280/961], Loss: 0.0000\n",
            "Epoch [4/9], Step [300/961], Loss: 0.0001\n",
            "Epoch [4/9], Step [320/961], Loss: 0.0000\n",
            "Epoch [4/9], Step [340/961], Loss: 0.0000\n",
            "Epoch [4/9], Step [360/961], Loss: 0.0000\n",
            "Epoch [4/9], Step [380/961], Loss: 0.0000\n",
            "Epoch [4/9], Step [400/961], Loss: 0.0017\n",
            "Epoch [4/9], Step [420/961], Loss: 0.0000\n",
            "Epoch [4/9], Step [440/961], Loss: 0.0000\n",
            "Epoch [4/9], Step [460/961], Loss: 0.0007\n",
            "Epoch [4/9], Step [480/961], Loss: 0.0000\n",
            "Epoch [4/9], Step [500/961], Loss: 0.0000\n",
            "Epoch [4/9], Step [520/961], Loss: 0.0000\n",
            "Epoch [4/9], Step [540/961], Loss: 0.0000\n",
            "Epoch [4/9], Step [560/961], Loss: 0.0002\n",
            "Epoch [4/9], Step [580/961], Loss: 0.0000\n",
            "Epoch [4/9], Step [600/961], Loss: 0.0000\n",
            "Epoch [4/9], Step [620/961], Loss: 0.0000\n",
            "Epoch [4/9], Step [640/961], Loss: 0.0000\n",
            "Epoch [4/9], Step [660/961], Loss: 0.0000\n",
            "Epoch [4/9], Step [680/961], Loss: 0.0000\n",
            "Epoch [4/9], Step [700/961], Loss: 0.0000\n",
            "Epoch [4/9], Step [720/961], Loss: 0.0000\n",
            "Epoch [4/9], Step [740/961], Loss: 0.0000\n",
            "Epoch [4/9], Step [760/961], Loss: 0.0006\n",
            "Epoch [4/9], Step [780/961], Loss: 0.0001\n",
            "Epoch [4/9], Step [800/961], Loss: 0.0001\n",
            "Epoch [4/9], Step [820/961], Loss: 0.0000\n",
            "Epoch [4/9], Step [840/961], Loss: 0.0000\n",
            "Epoch [4/9], Step [860/961], Loss: 0.0000\n",
            "Epoch [4/9], Step [880/961], Loss: 0.0017\n",
            "Epoch [4/9], Step [900/961], Loss: 0.0017\n",
            "Epoch [4/9], Step [920/961], Loss: 0.0000\n",
            "Epoch [4/9], Step [940/961], Loss: 0.0000\n",
            "Epoch [4/9], Step [960/961], Loss: 0.0002\n",
            "\n",
            "train-loss: 0.0036, train-acc: 100.0000\n",
            "Epoch 5\n",
            "\n",
            "Epoch [5/9], Step [0/961], Loss: 0.0002\n",
            "Epoch [5/9], Step [20/961], Loss: 0.0000\n",
            "Epoch [5/9], Step [40/961], Loss: 0.0003\n"
          ]
        },
        {
          "output_type": "error",
          "ename": "KeyboardInterrupt",
          "evalue": "ignored",
          "traceback": [
            "\u001b[0;31m---------------------------------------------------------------------------\u001b[0m",
            "\u001b[0;31mKeyboardInterrupt\u001b[0m                         Traceback (most recent call last)",
            "\u001b[0;32m<ipython-input-18-9b387cc19e74>\u001b[0m in \u001b[0;36m<module>\u001b[0;34m()\u001b[0m\n\u001b[1;32m     31\u001b[0m \u001b[0;34m\u001b[0m\u001b[0m\n\u001b[1;32m     32\u001b[0m                 \u001b[0m_\u001b[0m\u001b[0;34m,\u001b[0m \u001b[0mpreds\u001b[0m \u001b[0;34m=\u001b[0m \u001b[0mtorch\u001b[0m\u001b[0;34m.\u001b[0m\u001b[0mmax\u001b[0m\u001b[0;34m(\u001b[0m\u001b[0moutputs\u001b[0m\u001b[0;34m,\u001b[0m \u001b[0;36m1\u001b[0m\u001b[0;34m)\u001b[0m\u001b[0;34m\u001b[0m\u001b[0;34m\u001b[0m\u001b[0m\n\u001b[0;32m---> 33\u001b[0;31m                 \u001b[0mrunning_loss\u001b[0m \u001b[0;34m+=\u001b[0m \u001b[0mloss\u001b[0m\u001b[0;34m.\u001b[0m\u001b[0mitem\u001b[0m\u001b[0;34m(\u001b[0m\u001b[0;34m)\u001b[0m\u001b[0;34m\u001b[0m\u001b[0;34m\u001b[0m\u001b[0m\n\u001b[0m\u001b[1;32m     34\u001b[0m                 \u001b[0mrunning_corrects\u001b[0m \u001b[0;34m+=\u001b[0m \u001b[0mtorch\u001b[0m\u001b[0;34m.\u001b[0m\u001b[0msum\u001b[0m\u001b[0;34m(\u001b[0m\u001b[0mpreds\u001b[0m \u001b[0;34m==\u001b[0m \u001b[0mlabels\u001b[0m\u001b[0;34m.\u001b[0m\u001b[0mdata\u001b[0m\u001b[0;34m)\u001b[0m\u001b[0;34m\u001b[0m\u001b[0;34m\u001b[0m\u001b[0m\n\u001b[1;32m     35\u001b[0m                 \u001b[0;32mif\u001b[0m \u001b[0;34m(\u001b[0m\u001b[0mbatch_idx\u001b[0m\u001b[0;34m)\u001b[0m \u001b[0;34m%\u001b[0m \u001b[0;36m20\u001b[0m \u001b[0;34m==\u001b[0m \u001b[0;36m0\u001b[0m\u001b[0;34m:\u001b[0m\u001b[0;34m\u001b[0m\u001b[0;34m\u001b[0m\u001b[0m\n",
            "\u001b[0;31mKeyboardInterrupt\u001b[0m: "
          ]
        }
      ]
    },
    {
      "cell_type": "code",
      "source": [
        "!mkdir models"
      ],
      "metadata": {
        "id": "g_YveI67-XB4"
      },
      "execution_count": null,
      "outputs": []
    },
    {
      "cell_type": "code",
      "source": [
        "torch.save(model.state_dict(), 'models/weights1.h5')"
      ],
      "metadata": {
        "id": "4Ox_2Giy-Tvg"
      },
      "execution_count": null,
      "outputs": []
    },
    {
      "cell_type": "code",
      "source": [
        "!cp -r models/weights1.h5 drive/MyDrive/"
      ],
      "metadata": {
        "id": "rx9IvfSG6GuP"
      },
      "execution_count": null,
      "outputs": []
    },
    {
      "cell_type": "code",
      "source": [
        ""
      ],
      "metadata": {
        "id": "8a0PVfQo-TV2"
      },
      "execution_count": null,
      "outputs": []
    },
    {
      "cell_type": "code",
      "source": [
        "output_pred = []\n",
        "with torch.no_grad():\n",
        "  model.eval()\n",
        "  for (inputs, labels) in dataloaders['test']:\n",
        "      \n",
        "      inputs = Variable(inputs.cuda())\n",
        "      \n",
        "      inputs = inputs.float()\n",
        "      outputs = model(inputs)\n",
        "      _, preds = torch.max(outputs, 1)\n",
        "      for x in preds.tolist():\n",
        "        output_pred.append(x)"
      ],
      "metadata": {
        "id": "JoEe11Gp3eSs"
      },
      "execution_count": null,
      "outputs": []
    },
    {
      "cell_type": "code",
      "source": [
        "class_mapping ={0:'Egg', 1:'Fried food', 2:'Meat', 3:'Rice', 4:'Seafood'}"
      ],
      "metadata": {
        "id": "EAlRdpGs5ihp"
      },
      "execution_count": null,
      "outputs": []
    },
    {
      "cell_type": "code",
      "source": [
        "output_pred = [class_mapping[x] for x in output_pred]"
      ],
      "metadata": {
        "id": "jxOfrD1m5D68"
      },
      "execution_count": null,
      "outputs": []
    },
    {
      "cell_type": "code",
      "source": [
        "image_names = [x[0].split(\"/\")[-1].split(\".\")[0] for x in test_data.imgs]\n",
        "image_names[0:4]"
      ],
      "metadata": {
        "colab": {
          "base_uri": "https://localhost:8080/"
        },
        "id": "xIe8BoZv_o-z",
        "outputId": "354525a8-cdcc-40cf-9cbb-e136844bad16"
      },
      "execution_count": null,
      "outputs": [
        {
          "output_type": "execute_result",
          "data": {
            "text/plain": [
              "['0', '1', '10', '100']"
            ]
          },
          "metadata": {},
          "execution_count": 20
        }
      ]
    },
    {
      "cell_type": "code",
      "source": [
        "import pandas as pd\n",
        "\n",
        "data = { \"ID\" : image_names, \"prediction\" : output_pred}\n",
        "df = pd.DataFrame(data)\n",
        "\n",
        "df.head()"
      ],
      "metadata": {
        "colab": {
          "base_uri": "https://localhost:8080/",
          "height": 206
        },
        "id": "g5EGyZsX_qSr",
        "outputId": "96f324b4-55a7-4874-a823-3aa88f0000f3"
      },
      "execution_count": null,
      "outputs": [
        {
          "output_type": "execute_result",
          "data": {
            "text/html": [
              "\n",
              "  <div id=\"df-49150f0e-7761-4b8e-bd92-d7e2aa1cd775\">\n",
              "    <div class=\"colab-df-container\">\n",
              "      <div>\n",
              "<style scoped>\n",
              "    .dataframe tbody tr th:only-of-type {\n",
              "        vertical-align: middle;\n",
              "    }\n",
              "\n",
              "    .dataframe tbody tr th {\n",
              "        vertical-align: top;\n",
              "    }\n",
              "\n",
              "    .dataframe thead th {\n",
              "        text-align: right;\n",
              "    }\n",
              "</style>\n",
              "<table border=\"1\" class=\"dataframe\">\n",
              "  <thead>\n",
              "    <tr style=\"text-align: right;\">\n",
              "      <th></th>\n",
              "      <th>ID</th>\n",
              "      <th>prediction</th>\n",
              "    </tr>\n",
              "  </thead>\n",
              "  <tbody>\n",
              "    <tr>\n",
              "      <th>0</th>\n",
              "      <td>0</td>\n",
              "      <td>1</td>\n",
              "    </tr>\n",
              "    <tr>\n",
              "      <th>1</th>\n",
              "      <td>1</td>\n",
              "      <td>3</td>\n",
              "    </tr>\n",
              "    <tr>\n",
              "      <th>2</th>\n",
              "      <td>10</td>\n",
              "      <td>0</td>\n",
              "    </tr>\n",
              "    <tr>\n",
              "      <th>3</th>\n",
              "      <td>100</td>\n",
              "      <td>3</td>\n",
              "    </tr>\n",
              "    <tr>\n",
              "      <th>4</th>\n",
              "      <td>1000</td>\n",
              "      <td>0</td>\n",
              "    </tr>\n",
              "  </tbody>\n",
              "</table>\n",
              "</div>\n",
              "      <button class=\"colab-df-convert\" onclick=\"convertToInteractive('df-49150f0e-7761-4b8e-bd92-d7e2aa1cd775')\"\n",
              "              title=\"Convert this dataframe to an interactive table.\"\n",
              "              style=\"display:none;\">\n",
              "        \n",
              "  <svg xmlns=\"http://www.w3.org/2000/svg\" height=\"24px\"viewBox=\"0 0 24 24\"\n",
              "       width=\"24px\">\n",
              "    <path d=\"M0 0h24v24H0V0z\" fill=\"none\"/>\n",
              "    <path d=\"M18.56 5.44l.94 2.06.94-2.06 2.06-.94-2.06-.94-.94-2.06-.94 2.06-2.06.94zm-11 1L8.5 8.5l.94-2.06 2.06-.94-2.06-.94L8.5 2.5l-.94 2.06-2.06.94zm10 10l.94 2.06.94-2.06 2.06-.94-2.06-.94-.94-2.06-.94 2.06-2.06.94z\"/><path d=\"M17.41 7.96l-1.37-1.37c-.4-.4-.92-.59-1.43-.59-.52 0-1.04.2-1.43.59L10.3 9.45l-7.72 7.72c-.78.78-.78 2.05 0 2.83L4 21.41c.39.39.9.59 1.41.59.51 0 1.02-.2 1.41-.59l7.78-7.78 2.81-2.81c.8-.78.8-2.07 0-2.86zM5.41 20L4 18.59l7.72-7.72 1.47 1.35L5.41 20z\"/>\n",
              "  </svg>\n",
              "      </button>\n",
              "      \n",
              "  <style>\n",
              "    .colab-df-container {\n",
              "      display:flex;\n",
              "      flex-wrap:wrap;\n",
              "      gap: 12px;\n",
              "    }\n",
              "\n",
              "    .colab-df-convert {\n",
              "      background-color: #E8F0FE;\n",
              "      border: none;\n",
              "      border-radius: 50%;\n",
              "      cursor: pointer;\n",
              "      display: none;\n",
              "      fill: #1967D2;\n",
              "      height: 32px;\n",
              "      padding: 0 0 0 0;\n",
              "      width: 32px;\n",
              "    }\n",
              "\n",
              "    .colab-df-convert:hover {\n",
              "      background-color: #E2EBFA;\n",
              "      box-shadow: 0px 1px 2px rgba(60, 64, 67, 0.3), 0px 1px 3px 1px rgba(60, 64, 67, 0.15);\n",
              "      fill: #174EA6;\n",
              "    }\n",
              "\n",
              "    [theme=dark] .colab-df-convert {\n",
              "      background-color: #3B4455;\n",
              "      fill: #D2E3FC;\n",
              "    }\n",
              "\n",
              "    [theme=dark] .colab-df-convert:hover {\n",
              "      background-color: #434B5C;\n",
              "      box-shadow: 0px 1px 3px 1px rgba(0, 0, 0, 0.15);\n",
              "      filter: drop-shadow(0px 1px 2px rgba(0, 0, 0, 0.3));\n",
              "      fill: #FFFFFF;\n",
              "    }\n",
              "  </style>\n",
              "\n",
              "      <script>\n",
              "        const buttonEl =\n",
              "          document.querySelector('#df-49150f0e-7761-4b8e-bd92-d7e2aa1cd775 button.colab-df-convert');\n",
              "        buttonEl.style.display =\n",
              "          google.colab.kernel.accessAllowed ? 'block' : 'none';\n",
              "\n",
              "        async function convertToInteractive(key) {\n",
              "          const element = document.querySelector('#df-49150f0e-7761-4b8e-bd92-d7e2aa1cd775');\n",
              "          const dataTable =\n",
              "            await google.colab.kernel.invokeFunction('convertToInteractive',\n",
              "                                                     [key], {});\n",
              "          if (!dataTable) return;\n",
              "\n",
              "          const docLinkHtml = 'Like what you see? Visit the ' +\n",
              "            '<a target=\"_blank\" href=https://colab.research.google.com/notebooks/data_table.ipynb>data table notebook</a>'\n",
              "            + ' to learn more about interactive tables.';\n",
              "          element.innerHTML = '';\n",
              "          dataTable['output_type'] = 'display_data';\n",
              "          await google.colab.output.renderOutput(dataTable, element);\n",
              "          const docLink = document.createElement('div');\n",
              "          docLink.innerHTML = docLinkHtml;\n",
              "          element.appendChild(docLink);\n",
              "        }\n",
              "      </script>\n",
              "    </div>\n",
              "  </div>\n",
              "  "
            ],
            "text/plain": [
              "     ID  prediction\n",
              "0     0           1\n",
              "1     1           3\n",
              "2    10           0\n",
              "3   100           3\n",
              "4  1000           0"
            ]
          },
          "metadata": {},
          "execution_count": 22
        }
      ]
    },
    {
      "cell_type": "code",
      "source": [
        "df.to_csv(\"output.csv\", index = False)"
      ],
      "metadata": {
        "id": "B4wnGZ3L_xuz"
      },
      "execution_count": null,
      "outputs": []
    },
    {
      "cell_type": "code",
      "source": [
        "!cp -r output.csv drive/MyDrive/output_last.csv"
      ],
      "metadata": {
        "id": "4cfOwkXdEvQr"
      },
      "execution_count": null,
      "outputs": []
    },
    {
      "cell_type": "code",
      "source": [
        "## test the model with 1 batch\n",
        "model = MyModel()\n",
        "for images, labels in trainloader:\n",
        "    print(\"batch size:\", images.shape)\n",
        "    out = model(images)\n",
        "    print(out.shape)\n",
        "    break"
      ],
      "metadata": {
        "colab": {
          "base_uri": "https://localhost:8080/"
        },
        "id": "5ht9sF5cozkq",
        "outputId": "4d700e61-bcc8-4756-ceaa-cb652460e16f"
      },
      "execution_count": null,
      "outputs": [
        {
          "output_type": "stream",
          "name": "stdout",
          "text": [
            "Loaded pretrained weights for efficientnet-b7\n",
            "batch size: torch.Size([4, 3, 128, 128])\n",
            "torch.Size([4, 2])\n"
          ]
        }
      ]
    },
    {
      "cell_type": "code",
      "source": [
        "learning_rate = 0.001\n",
        "num_epochs = 5\n",
        "\n",
        "device = torch.device(\"cuda:0\" if torch.cuda.is_available() else \"cpu\")\n",
        "model = MyModel()\n",
        "model = model.to(device)\n",
        "criterion = nn.CrossEntropyLoss()\n",
        "optimizer = torch.optim.Adam(model.parameters(), lr=learning_rate)"
      ],
      "metadata": {
        "colab": {
          "base_uri": "https://localhost:8080/",
          "height": 104,
          "referenced_widgets": [
            "25bf89c96c0c45afb66a9ea2d31235d2",
            "83ad50d410244fceac7b02248a6e9f60",
            "8974ee7defd14101970b203343dfafc6",
            "c5cce5840af24629bacf43aeb1708780",
            "c6b4f991cf514da397d09aa3164826a1",
            "358975289916433d8a71f598f0963c7e",
            "742bd1a0a22d4508ae7670947c2f003a",
            "4131bea0550c405ab5e90873f72cee0f",
            "d925e56034094fdba2a6059871de3cb3",
            "8b06ef8b4aac4feab40c25e26b6a76c5",
            "a873e10fcb9f41cbbf03e35a814af8b6"
          ]
        },
        "id": "hbZZwRmXpgT6",
        "outputId": "ede074b3-f62b-4264-e292-2a52039c84d7"
      },
      "execution_count": null,
      "outputs": [
        {
          "output_type": "stream",
          "name": "stderr",
          "text": [
            "Downloading: \"https://github.com/lukemelas/EfficientNet-PyTorch/releases/download/1.0/efficientnet-b7-dcc49843.pth\" to /root/.cache/torch/hub/checkpoints/efficientnet-b7-dcc49843.pth\n"
          ]
        },
        {
          "output_type": "display_data",
          "data": {
            "application/vnd.jupyter.widget-view+json": {
              "model_id": "25bf89c96c0c45afb66a9ea2d31235d2",
              "version_minor": 0,
              "version_major": 2
            },
            "text/plain": [
              "  0%|          | 0.00/254M [00:00<?, ?B/s]"
            ]
          },
          "metadata": {}
        },
        {
          "output_type": "stream",
          "name": "stdout",
          "text": [
            "Loaded pretrained weights for efficientnet-b7\n"
          ]
        }
      ]
    },
    {
      "cell_type": "code",
      "source": [
        "## compute accuracy\n",
        "def get_accuracy(logit, target, batch_size):\n",
        "    ''' Obtain accuracy for training round '''\n",
        "    corrects = (torch.max(logit, 1)[1].view(target.size()).data == target.data).sum()\n",
        "    accuracy = 100.0 * corrects/batch_size\n",
        "    return accuracy.item()"
      ],
      "metadata": {
        "id": "AndKpUQbo2dJ"
      },
      "execution_count": null,
      "outputs": []
    },
    {
      "cell_type": "code",
      "source": [
        "for epoch in range(num_epochs):\n",
        "    train_running_loss = 0.0\n",
        "    train_acc = 0.0\n",
        "\n",
        "    model = model.train()\n",
        "\n",
        "    ## training step\n",
        "    for i, (images, labels) in enumerate(trainloader):\n",
        "        \n",
        "        images = images.to(device)\n",
        "        labels = labels.to(device)\n",
        "\n",
        "        ## forward + backprop + loss\n",
        "        logits = model(images)\n",
        "        loss = criterion(logits, labels)\n",
        "        optimizer.zero_grad()\n",
        "        loss.backward()\n",
        "\n",
        "        ## update model params\n",
        "        optimizer.step()\n",
        "\n",
        "        train_running_loss += loss.detach().item()\n",
        "        train_acc += get_accuracy(logits, labels, BATCH_SIZE)\n",
        "    \n",
        "    model.eval()\n",
        "    print('Epoch: %d | Loss: %.4f | Train Accuracy: %.2f' \\\n",
        "          %(epoch, train_running_loss / i, train_acc/i))        "
      ],
      "metadata": {
        "id": "IBoynguqpbtf"
      },
      "execution_count": null,
      "outputs": []
    },
    {
      "cell_type": "code",
      "source": [
        "torch.save(model.state_dict(), \"check_model\")"
      ],
      "metadata": {
        "id": "KXmjdGhB5y7-"
      },
      "execution_count": null,
      "outputs": []
    },
    {
      "cell_type": "code",
      "source": [
        "test_acc = 0.0\n",
        "outputs = []\n",
        "for i, (images, labels) in enumerate(testloader, 0):\n",
        "    \n",
        "    images = images.to(device)\n",
        "    #labels = labels.to(device)\n",
        "    outputs.append(model(images))\n",
        "    "
      ],
      "metadata": {
        "id": "iX4EqzO4t1Or"
      },
      "execution_count": null,
      "outputs": []
    },
    {
      "cell_type": "code",
      "source": [
        ""
      ],
      "metadata": {
        "id": "nmXensMW4aX1"
      },
      "execution_count": null,
      "outputs": []
    }
  ]
}