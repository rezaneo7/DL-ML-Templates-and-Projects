{
  "cells": [
    {
      "cell_type": "code",
      "execution_count": null,
      "metadata": {
        "id": "PIYKw0gRSL7n"
      },
      "outputs": [],
      "source": [
        "!pip install -U -q PyDrive \n",
        "  \n",
        "from pydrive.auth import GoogleAuth \n",
        "from pydrive.drive import GoogleDrive \n",
        "from google.colab import auth \n",
        "from oauth2client.client import GoogleCredentials \n",
        "  \n",
        "  \n",
        "# Authenticate and create the PyDrive client. \n",
        "auth.authenticate_user() \n",
        "gauth = GoogleAuth() \n",
        "gauth.credentials = GoogleCredentials.get_application_default() \n",
        "drive = GoogleDrive(gauth)"
      ]
    },
    {
      "cell_type": "code",
      "execution_count": null,
      "metadata": {
        "colab": {
          "base_uri": "https://localhost:8080/"
        },
        "id": "_8Z5Frg1SRqb",
        "outputId": "b12e48c9-ca47-485b-c312-cfa524988bd7"
      },
      "outputs": [
        {
          "name": "stdout",
          "output_type": "stream",
          "text": [
            "--2022-03-03 05:40:30--  https://quera.org/contest/assignments/39253/download_problem_initial_project/132527/?noconvert=true\n",
            "Resolving quera.org (quera.org)... 185.143.234.61, 185.143.233.61\n",
            "Connecting to quera.org (quera.org)|185.143.234.61|:443... ^C\n"
          ]
        }
      ],
      "source": [
        "\n",
        "from os import path\n",
        "url = \"https://quera.org/contest/assignments/39253/download_problem_initial_project/132527/?noconvert=true\"\n",
        "\n",
        "!wget https://quera.org/contest/assignments/39253/download_problem_initial_project/132527/?noconvert=true"
      ]
    },
    {
      "cell_type": "code",
      "execution_count": null,
      "metadata": {
        "id": "ELQ-iqI1mcxG"
      },
      "outputs": [],
      "source": []
    },
    {
      "cell_type": "code",
      "execution_count": 1,
      "metadata": {
        "colab": {
          "base_uri": "https://localhost:8080/"
        },
        "id": "EuJZtV_jSrFr",
        "outputId": "9dfcd3fb-49c2-4601-c5bc-3e035f74218b"
      },
      "outputs": [
        {
          "name": "stdout",
          "output_type": "stream",
          "text": [
            "Archive:  data.zip\n",
            "   creating: data/\n",
            "  inflating: data/test.csv           \n",
            "  inflating: data/train.csv          \n"
          ]
        }
      ],
      "source": [
        "!unzip data.zip"
      ]
    },
    {
      "cell_type": "code",
      "execution_count": 1,
      "metadata": {
        "id": "O9nY5qCpTK57"
      },
      "outputs": [
        {
          "ename": "ModuleNotFoundError",
          "evalue": "No module named 'torchvision'",
          "output_type": "error",
          "traceback": [
            "\u001b[1;31m---------------------------------------------------------------------------\u001b[0m",
            "\u001b[1;31mModuleNotFoundError\u001b[0m                       Traceback (most recent call last)",
            "\u001b[1;32m~\\AppData\\Local\\Temp/ipykernel_19752/3085033923.py\u001b[0m in \u001b[0;36m<module>\u001b[1;34m\u001b[0m\n\u001b[0;32m      7\u001b[0m \u001b[1;32mfrom\u001b[0m \u001b[0mtorch\u001b[0m \u001b[1;32mimport\u001b[0m \u001b[0moptim\u001b[0m\u001b[1;33m\u001b[0m\u001b[1;33m\u001b[0m\u001b[0m\n\u001b[0;32m      8\u001b[0m \u001b[1;32mimport\u001b[0m \u001b[0mtorch\u001b[0m\u001b[1;33m.\u001b[0m\u001b[0mnn\u001b[0m\u001b[1;33m.\u001b[0m\u001b[0mfunctional\u001b[0m \u001b[1;32mas\u001b[0m \u001b[0mF\u001b[0m\u001b[1;33m\u001b[0m\u001b[1;33m\u001b[0m\u001b[0m\n\u001b[1;32m----> 9\u001b[1;33m \u001b[1;32mfrom\u001b[0m \u001b[0mtorchvision\u001b[0m \u001b[1;32mimport\u001b[0m \u001b[0mdatasets\u001b[0m\u001b[1;33m,\u001b[0m \u001b[0mtransforms\u001b[0m\u001b[1;33m,\u001b[0m \u001b[0mmodels\u001b[0m\u001b[1;33m\u001b[0m\u001b[1;33m\u001b[0m\u001b[0m\n\u001b[0m",
            "\u001b[1;31mModuleNotFoundError\u001b[0m: No module named 'torchvision'"
          ]
        }
      ],
      "source": [
        "%matplotlib inline\n",
        "%config InlineBackend.figure_format = 'retina'\n",
        "import matplotlib.pyplot as plt\n",
        "import numpy as np\n",
        "import torch\n",
        "from torch import nn\n",
        "from torch import optim\n",
        "import torch.nn.functional as F\n",
        "from torchvision import datasets, transforms, models"
      ]
    },
    {
      "cell_type": "code",
      "execution_count": 2,
      "metadata": {
        "colab": {
          "base_uri": "https://localhost:8080/",
          "height": 224
        },
        "id": "Cs913Y15TSOZ",
        "outputId": "0de60bfc-88a9-4310-869e-fa11f28c1330"
      },
      "outputs": [
        {
          "name": "stdout",
          "output_type": "stream",
          "text": [
            "68840\n"
          ]
        },
        {
          "data": {
            "text/html": [
              "<div>\n",
              "<style scoped>\n",
              "    .dataframe tbody tr th:only-of-type {\n",
              "        vertical-align: middle;\n",
              "    }\n",
              "\n",
              "    .dataframe tbody tr th {\n",
              "        vertical-align: top;\n",
              "    }\n",
              "\n",
              "    .dataframe thead th {\n",
              "        text-align: right;\n",
              "    }\n",
              "</style>\n",
              "<table border=\"1\" class=\"dataframe\">\n",
              "  <thead>\n",
              "    <tr style=\"text-align: right;\">\n",
              "      <th></th>\n",
              "      <th>id</th>\n",
              "      <th>product_description</th>\n",
              "      <th>price</th>\n",
              "    </tr>\n",
              "  </thead>\n",
              "  <tbody>\n",
              "    <tr>\n",
              "      <th>0</th>\n",
              "      <td>0</td>\n",
              "      <td>{'مشخصات فنی': 'متراژ: 150 سانتی متر\\r\\nپورت ی...</td>\n",
              "      <td>1080000</td>\n",
              "    </tr>\n",
              "    <tr>\n",
              "      <th>1</th>\n",
              "      <td>1</td>\n",
              "      <td>{'مشخصات فنی': 'CABLE LENTH:\\r\\n10feet \\\\/3M\\r...</td>\n",
              "      <td>990000</td>\n",
              "    </tr>\n",
              "    <tr>\n",
              "      <th>2</th>\n",
              "      <td>2</td>\n",
              "      <td>{'مشخصات فنی': 'نوع کابل: KVM USB\\r\\nطول کابل:...</td>\n",
              "      <td>1680000</td>\n",
              "    </tr>\n",
              "    <tr>\n",
              "      <th>3</th>\n",
              "      <td>3</td>\n",
              "      <td>{'دسته بندی': 'کابل کمبو', 'برند': 'متفرقه'}</td>\n",
              "      <td>4500000</td>\n",
              "    </tr>\n",
              "    <tr>\n",
              "      <th>4</th>\n",
              "      <td>4</td>\n",
              "      <td>{'مشخصات فنی': 'کیبورد: 6pin Mini-DIN Male - P...</td>\n",
              "      <td>700000</td>\n",
              "    </tr>\n",
              "  </tbody>\n",
              "</table>\n",
              "</div>"
            ],
            "text/plain": [
              "   id                                product_description    price\n",
              "0   0  {'مشخصات فنی': 'متراژ: 150 سانتی متر\\r\\nپورت ی...  1080000\n",
              "1   1  {'مشخصات فنی': 'CABLE LENTH:\\r\\n10feet \\\\/3M\\r...   990000\n",
              "2   2  {'مشخصات فنی': 'نوع کابل: KVM USB\\r\\nطول کابل:...  1680000\n",
              "3   3       {'دسته بندی': 'کابل کمبو', 'برند': 'متفرقه'}  4500000\n",
              "4   4  {'مشخصات فنی': 'کیبورد: 6pin Mini-DIN Male - P...   700000"
            ]
          },
          "execution_count": 2,
          "metadata": {},
          "output_type": "execute_result"
        }
      ],
      "source": [
        "import pandas as pd\n",
        "\n",
        "df = pd.read_csv(\"data/train.csv\")\n",
        "\n",
        "\n",
        "\n",
        "price_y = df[\"price\"]\n",
        "\n",
        "#df.drop(columns = [\"price\"], inplace = True)\n",
        "print(len(df))\n",
        "df.head()"
      ]
    },
    {
      "cell_type": "code",
      "execution_count": 3,
      "metadata": {
        "colab": {
          "base_uri": "https://localhost:8080/",
          "height": 206
        },
        "id": "xT0lAe2RKei-",
        "outputId": "3e5ae28c-6de0-4d5d-c1c8-ede3d3b3bcf9"
      },
      "outputs": [
        {
          "data": {
            "text/html": [
              "<div>\n",
              "<style scoped>\n",
              "    .dataframe tbody tr th:only-of-type {\n",
              "        vertical-align: middle;\n",
              "    }\n",
              "\n",
              "    .dataframe tbody tr th {\n",
              "        vertical-align: top;\n",
              "    }\n",
              "\n",
              "    .dataframe thead th {\n",
              "        text-align: right;\n",
              "    }\n",
              "</style>\n",
              "<table border=\"1\" class=\"dataframe\">\n",
              "  <thead>\n",
              "    <tr style=\"text-align: right;\">\n",
              "      <th></th>\n",
              "      <th>id</th>\n",
              "      <th>product_description</th>\n",
              "    </tr>\n",
              "  </thead>\n",
              "  <tbody>\n",
              "    <tr>\n",
              "      <th>0</th>\n",
              "      <td>0</td>\n",
              "      <td>{'سازگار با': 'C21N1401\\r\\nX455', 'ولتاژ باتری...</td>\n",
              "    </tr>\n",
              "    <tr>\n",
              "      <th>1</th>\n",
              "      <td>1</td>\n",
              "      <td>{'سازگار با': 'A31N1519\\r\\nX540', 'ولتاژ باتری...</td>\n",
              "    </tr>\n",
              "    <tr>\n",
              "      <th>2</th>\n",
              "      <td>2</td>\n",
              "      <td>{'تعداد فن': 'ندارد', 'نوع سیستم خنک کنندگی': ...</td>\n",
              "    </tr>\n",
              "    <tr>\n",
              "      <th>3</th>\n",
              "      <td>3</td>\n",
              "      <td>{'سازگار با': 'A41N1424\\r\\nGL552\\r\\nZX50\\r\\nAS...</td>\n",
              "    </tr>\n",
              "    <tr>\n",
              "      <th>4</th>\n",
              "      <td>4</td>\n",
              "      <td>{'سازگار با': 'AP31\\r\\nASUS 1008', 'ولتاژ باتر...</td>\n",
              "    </tr>\n",
              "  </tbody>\n",
              "</table>\n",
              "</div>"
            ],
            "text/plain": [
              "   id                                product_description\n",
              "0   0  {'سازگار با': 'C21N1401\\r\\nX455', 'ولتاژ باتری...\n",
              "1   1  {'سازگار با': 'A31N1519\\r\\nX540', 'ولتاژ باتری...\n",
              "2   2  {'تعداد فن': 'ندارد', 'نوع سیستم خنک کنندگی': ...\n",
              "3   3  {'سازگار با': 'A41N1424\\r\\nGL552\\r\\nZX50\\r\\nAS...\n",
              "4   4  {'سازگار با': 'AP31\\r\\nASUS 1008', 'ولتاژ باتر..."
            ]
          },
          "execution_count": 3,
          "metadata": {},
          "output_type": "execute_result"
        }
      ],
      "source": [
        "test_df = pd.read_csv(\"data/test.csv\")\n",
        "\n",
        "test_df.head()"
      ]
    },
    {
      "cell_type": "code",
      "execution_count": 4,
      "metadata": {
        "id": "sjftHzvfKqm4"
      },
      "outputs": [],
      "source": [
        "train_test_df = pd.concat([df, test_df], ignore_index=True)"
      ]
    },
    {
      "cell_type": "code",
      "execution_count": 5,
      "metadata": {
        "id": "kHntT0tQTfPv"
      },
      "outputs": [],
      "source": [
        "import ast\n",
        "train_test_df['product_description'] = train_test_df['product_description'].apply(lambda x: ast.literal_eval(x))"
      ]
    },
    {
      "cell_type": "code",
      "execution_count": 6,
      "metadata": {
        "colab": {
          "base_uri": "https://localhost:8080/"
        },
        "id": "YBUhbsgqT9-i",
        "outputId": "14f49dc4-f08b-4f91-eaff-976de8d4eb63"
      },
      "outputs": [
        {
          "data": {
            "text/plain": [
              "1080000.0"
            ]
          },
          "execution_count": 6,
          "metadata": {},
          "output_type": "execute_result"
        }
      ],
      "source": [
        "train_test_df['keys'] = train_test_df['product_description'].apply(lambda x: x.keys())\n",
        "train_test_df.loc[0][2]"
      ]
    },
    {
      "cell_type": "code",
      "execution_count": 7,
      "metadata": {
        "colab": {
          "base_uri": "https://localhost:8080/",
          "height": 53
        },
        "id": "SDmgZTndvhxz",
        "outputId": "d4491f74-07ea-410b-d06a-50d66ea5061c"
      },
      "outputs": [
        {
          "data": {
            "text/plain": [
              "'مدل: CAB-CONSOLE-RJ45\\r\\nتوضيحات: Cisco RJ45 Male to DB9 Female 6ft Console Cable 72-3383-01\\r\\nكانكتور 1: RJ-45 – male\\r\\nكانكتور 2: 9-pin D-Sub (DB-9) – female\\r\\nطول: 180سانتی متر\\r\\nنوع كابل: Serial cable '"
            ]
          },
          "execution_count": 7,
          "metadata": {},
          "output_type": "execute_result"
        }
      ],
      "source": [
        "train_test_df.loc[5][1]['مشخصات فنی']"
      ]
    },
    {
      "cell_type": "code",
      "execution_count": 8,
      "metadata": {
        "colab": {
          "base_uri": "https://localhost:8080/",
          "height": 363
        },
        "id": "-LxIgyMFwyQR",
        "outputId": "c948fa1f-e38e-4d91-b860-776332aaf325"
      },
      "outputs": [
        {
          "data": {
            "text/html": [
              "<div>\n",
              "<style scoped>\n",
              "    .dataframe tbody tr th:only-of-type {\n",
              "        vertical-align: middle;\n",
              "    }\n",
              "\n",
              "    .dataframe tbody tr th {\n",
              "        vertical-align: top;\n",
              "    }\n",
              "\n",
              "    .dataframe thead th {\n",
              "        text-align: right;\n",
              "    }\n",
              "</style>\n",
              "<table border=\"1\" class=\"dataframe\">\n",
              "  <thead>\n",
              "    <tr style=\"text-align: right;\">\n",
              "      <th></th>\n",
              "      <th>id</th>\n",
              "      <th>product_description</th>\n",
              "      <th>price</th>\n",
              "      <th>keys</th>\n",
              "      <th>brand</th>\n",
              "      <th>category</th>\n",
              "    </tr>\n",
              "  </thead>\n",
              "  <tbody>\n",
              "    <tr>\n",
              "      <th>0</th>\n",
              "      <td>0</td>\n",
              "      <td>{'مشخصات فنی': 'متراژ: 150 سانتی متر\r\n",
              "پورت یو ...</td>\n",
              "      <td>1080000.0</td>\n",
              "      <td>(مشخصات فنی, دسته بندی, برند)</td>\n",
              "      <td>متفرقه</td>\n",
              "      <td>کابل کمبو</td>\n",
              "    </tr>\n",
              "    <tr>\n",
              "      <th>1</th>\n",
              "      <td>1</td>\n",
              "      <td>{'مشخصات فنی': 'CABLE LENTH:\r\n",
              "10feet \\/3M\r\n",
              "PC ...</td>\n",
              "      <td>990000.0</td>\n",
              "      <td>(مشخصات فنی, دسته بندی, برند)</td>\n",
              "      <td>ادیمکس</td>\n",
              "      <td>کابل کمبو</td>\n",
              "    </tr>\n",
              "    <tr>\n",
              "      <th>2</th>\n",
              "      <td>2</td>\n",
              "      <td>{'مشخصات فنی': 'نوع کابل: KVM USB\r\n",
              "طول کابل: 1...</td>\n",
              "      <td>1680000.0</td>\n",
              "      <td>(مشخصات فنی, دسته بندی, برند)</td>\n",
              "      <td>متفرقه</td>\n",
              "      <td>کابل کمبو</td>\n",
              "    </tr>\n",
              "    <tr>\n",
              "      <th>3</th>\n",
              "      <td>3</td>\n",
              "      <td>{'دسته بندی': 'کابل کمبو', 'برند': 'متفرقه'}</td>\n",
              "      <td>4500000.0</td>\n",
              "      <td>(دسته بندی, برند)</td>\n",
              "      <td>متفرقه</td>\n",
              "      <td>کابل کمبو</td>\n",
              "    </tr>\n",
              "    <tr>\n",
              "      <th>4</th>\n",
              "      <td>4</td>\n",
              "      <td>{'مشخصات فنی': 'کیبورد: 6pin Mini-DIN Male - P...</td>\n",
              "      <td>700000.0</td>\n",
              "      <td>(مشخصات فنی, دسته بندی, برند)</td>\n",
              "      <td>دی-لینک</td>\n",
              "      <td>کابل کمبو</td>\n",
              "    </tr>\n",
              "    <tr>\n",
              "      <th>5</th>\n",
              "      <td>5</td>\n",
              "      <td>{'مشخصات فنی': 'مدل: CAB-CONSOLE-RJ45\r\n",
              "توضيحات...</td>\n",
              "      <td>470000.0</td>\n",
              "      <td>(مشخصات فنی, دسته بندی, برند)</td>\n",
              "      <td>متفرقه</td>\n",
              "      <td>کابل کمبو</td>\n",
              "    </tr>\n",
              "    <tr>\n",
              "      <th>6</th>\n",
              "      <td>6</td>\n",
              "      <td>{'کارکرد': 'در دستگاه های ریسوگراف', 'دستگاه‌ه...</td>\n",
              "      <td>4950000.0</td>\n",
              "      <td>(کارکرد, دستگاه‌های سازگار, سایر توضیحات, حجم,...</td>\n",
              "      <td>متفرقه</td>\n",
              "      <td>ریسوگراف</td>\n",
              "    </tr>\n",
              "    <tr>\n",
              "      <th>7</th>\n",
              "      <td>7</td>\n",
              "      <td>{'کارکرد': '12000-15000 برگ', 'دستگاه‌های سازگ...</td>\n",
              "      <td>1840000.0</td>\n",
              "      <td>(کارکرد, دستگاه‌های سازگار, حجم, دسته بندی, برند)</td>\n",
              "      <td>متفرقه</td>\n",
              "      <td>ریسوگراف</td>\n",
              "    </tr>\n",
              "    <tr>\n",
              "      <th>8</th>\n",
              "      <td>8</td>\n",
              "      <td>{'کارکرد': 'در دستگاه های ریکو', 'دستگاه‌های س...</td>\n",
              "      <td>840000.0</td>\n",
              "      <td>(کارکرد, دستگاه‌های سازگار, سایر توضیحات, حجم,...</td>\n",
              "      <td>متفرقه</td>\n",
              "      <td>ریسوگراف</td>\n",
              "    </tr>\n",
              "    <tr>\n",
              "      <th>9</th>\n",
              "      <td>9</td>\n",
              "      <td>{'کارکرد': 'در دستگاه های ریسوگراف', 'دستگاه‌ه...</td>\n",
              "      <td>6950000.0</td>\n",
              "      <td>(کارکرد, دستگاه‌های سازگار, سایر توضیحات, حجم,...</td>\n",
              "      <td>متفرقه</td>\n",
              "      <td>ریسوگراف</td>\n",
              "    </tr>\n",
              "  </tbody>\n",
              "</table>\n",
              "</div>"
            ],
            "text/plain": [
              "   id                                product_description      price  \\\n",
              "0   0  {'مشخصات فنی': 'متراژ: 150 سانتی متر\n",
              "پورت یو ...  1080000.0   \n",
              "1   1  {'مشخصات فنی': 'CABLE LENTH:\n",
              "10feet \\/3M\n",
              "PC ...   990000.0   \n",
              "2   2  {'مشخصات فنی': 'نوع کابل: KVM USB\n",
              "طول کابل: 1...  1680000.0   \n",
              "3   3       {'دسته بندی': 'کابل کمبو', 'برند': 'متفرقه'}  4500000.0   \n",
              "4   4  {'مشخصات فنی': 'کیبورد: 6pin Mini-DIN Male - P...   700000.0   \n",
              "5   5  {'مشخصات فنی': 'مدل: CAB-CONSOLE-RJ45\n",
              "توضيحات...   470000.0   \n",
              "6   6  {'کارکرد': 'در دستگاه های ریسوگراف', 'دستگاه‌ه...  4950000.0   \n",
              "7   7  {'کارکرد': '12000-15000 برگ', 'دستگاه‌های سازگ...  1840000.0   \n",
              "8   8  {'کارکرد': 'در دستگاه های ریکو', 'دستگاه‌های س...   840000.0   \n",
              "9   9  {'کارکرد': 'در دستگاه های ریسوگراف', 'دستگاه‌ه...  6950000.0   \n",
              "\n",
              "                                                keys    brand   category  \n",
              "0                      (مشخصات فنی, دسته بندی, برند)   متفرقه  کابل کمبو  \n",
              "1                      (مشخصات فنی, دسته بندی, برند)   ادیمکس  کابل کمبو  \n",
              "2                      (مشخصات فنی, دسته بندی, برند)   متفرقه  کابل کمبو  \n",
              "3                                  (دسته بندی, برند)   متفرقه  کابل کمبو  \n",
              "4                      (مشخصات فنی, دسته بندی, برند)  دی-لینک  کابل کمبو  \n",
              "5                      (مشخصات فنی, دسته بندی, برند)   متفرقه  کابل کمبو  \n",
              "6  (کارکرد, دستگاه‌های سازگار, سایر توضیحات, حجم,...   متفرقه   ریسوگراف  \n",
              "7  (کارکرد, دستگاه‌های سازگار, حجم, دسته بندی, برند)   متفرقه   ریسوگراف  \n",
              "8  (کارکرد, دستگاه‌های سازگار, سایر توضیحات, حجم,...   متفرقه   ریسوگراف  \n",
              "9  (کارکرد, دستگاه‌های سازگار, سایر توضیحات, حجم,...   متفرقه   ریسوگراف  "
            ]
          },
          "execution_count": 8,
          "metadata": {},
          "output_type": "execute_result"
        }
      ],
      "source": [
        "train_test_df[\"brand\"] = train_test_df['product_description'].apply(lambda x: x['برند'])\n",
        "train_test_df[\"category\"] = train_test_df['product_description'].apply(lambda x: x['دسته بندی'])\n",
        "train_test_df.head(10)"
      ]
    },
    {
      "cell_type": "code",
      "execution_count": 9,
      "metadata": {
        "colab": {
          "base_uri": "https://localhost:8080/",
          "height": 206
        },
        "id": "xK_9cq_4zck4",
        "outputId": "b625d7ab-4fb3-44c9-ebec-05db570a535b"
      },
      "outputs": [
        {
          "data": {
            "text/html": [
              "<div>\n",
              "<style scoped>\n",
              "    .dataframe tbody tr th:only-of-type {\n",
              "        vertical-align: middle;\n",
              "    }\n",
              "\n",
              "    .dataframe tbody tr th {\n",
              "        vertical-align: top;\n",
              "    }\n",
              "\n",
              "    .dataframe thead th {\n",
              "        text-align: right;\n",
              "    }\n",
              "</style>\n",
              "<table border=\"1\" class=\"dataframe\">\n",
              "  <thead>\n",
              "    <tr style=\"text-align: right;\">\n",
              "      <th></th>\n",
              "      <th>id</th>\n",
              "      <th>product_description</th>\n",
              "      <th>price</th>\n",
              "      <th>keys</th>\n",
              "      <th>brand</th>\n",
              "      <th>category</th>\n",
              "      <th>num_features</th>\n",
              "    </tr>\n",
              "  </thead>\n",
              "  <tbody>\n",
              "    <tr>\n",
              "      <th>0</th>\n",
              "      <td>0</td>\n",
              "      <td>{'مشخصات فنی': 'متراژ: 150 سانتی متر\r\n",
              "پورت یو ...</td>\n",
              "      <td>1080000.0</td>\n",
              "      <td>(مشخصات فنی, دسته بندی, برند)</td>\n",
              "      <td>متفرقه</td>\n",
              "      <td>کابل کمبو</td>\n",
              "      <td>1</td>\n",
              "    </tr>\n",
              "    <tr>\n",
              "      <th>1</th>\n",
              "      <td>1</td>\n",
              "      <td>{'مشخصات فنی': 'CABLE LENTH:\r\n",
              "10feet \\/3M\r\n",
              "PC ...</td>\n",
              "      <td>990000.0</td>\n",
              "      <td>(مشخصات فنی, دسته بندی, برند)</td>\n",
              "      <td>ادیمکس</td>\n",
              "      <td>کابل کمبو</td>\n",
              "      <td>3</td>\n",
              "    </tr>\n",
              "    <tr>\n",
              "      <th>2</th>\n",
              "      <td>2</td>\n",
              "      <td>{'مشخصات فنی': 'نوع کابل: KVM USB\r\n",
              "طول کابل: 1...</td>\n",
              "      <td>1680000.0</td>\n",
              "      <td>(مشخصات فنی, دسته بندی, برند)</td>\n",
              "      <td>متفرقه</td>\n",
              "      <td>کابل کمبو</td>\n",
              "      <td>2</td>\n",
              "    </tr>\n",
              "    <tr>\n",
              "      <th>3</th>\n",
              "      <td>3</td>\n",
              "      <td>{'دسته بندی': 'کابل کمبو', 'برند': 'متفرقه'}</td>\n",
              "      <td>4500000.0</td>\n",
              "      <td>(دسته بندی, برند)</td>\n",
              "      <td>متفرقه</td>\n",
              "      <td>کابل کمبو</td>\n",
              "      <td>0</td>\n",
              "    </tr>\n",
              "    <tr>\n",
              "      <th>4</th>\n",
              "      <td>4</td>\n",
              "      <td>{'مشخصات فنی': 'کیبورد: 6pin Mini-DIN Male - P...</td>\n",
              "      <td>700000.0</td>\n",
              "      <td>(مشخصات فنی, دسته بندی, برند)</td>\n",
              "      <td>دی-لینک</td>\n",
              "      <td>کابل کمبو</td>\n",
              "      <td>4</td>\n",
              "    </tr>\n",
              "  </tbody>\n",
              "</table>\n",
              "</div>"
            ],
            "text/plain": [
              "   id                                product_description      price  \\\n",
              "0   0  {'مشخصات فنی': 'متراژ: 150 سانتی متر\n",
              "پورت یو ...  1080000.0   \n",
              "1   1  {'مشخصات فنی': 'CABLE LENTH:\n",
              "10feet \\/3M\n",
              "PC ...   990000.0   \n",
              "2   2  {'مشخصات فنی': 'نوع کابل: KVM USB\n",
              "طول کابل: 1...  1680000.0   \n",
              "3   3       {'دسته بندی': 'کابل کمبو', 'برند': 'متفرقه'}  4500000.0   \n",
              "4   4  {'مشخصات فنی': 'کیبورد: 6pin Mini-DIN Male - P...   700000.0   \n",
              "\n",
              "                            keys    brand   category  num_features  \n",
              "0  (مشخصات فنی, دسته بندی, برند)   متفرقه  کابل کمبو             1  \n",
              "1  (مشخصات فنی, دسته بندی, برند)   ادیمکس  کابل کمبو             3  \n",
              "2  (مشخصات فنی, دسته بندی, برند)   متفرقه  کابل کمبو             2  \n",
              "3              (دسته بندی, برند)   متفرقه  کابل کمبو             0  \n",
              "4  (مشخصات فنی, دسته بندی, برند)  دی-لینک  کابل کمبو             4  "
            ]
          },
          "execution_count": 9,
          "metadata": {},
          "output_type": "execute_result"
        }
      ],
      "source": [
        "def len_feature(x):\n",
        "\n",
        "  if('مشخصات فنی' in x):\n",
        "    return x['مشخصات فنی'].count(\":\")\n",
        "  else:\n",
        "    return 0\n",
        "\n",
        "train_test_df[\"num_features\"] = train_test_df['product_description'].apply(lambda x: len_feature(x))\n",
        "train_test_df.head()"
      ]
    },
    {
      "cell_type": "code",
      "execution_count": 10,
      "metadata": {
        "colab": {
          "base_uri": "https://localhost:8080/"
        },
        "id": "F2DQzk3xG2Gv",
        "outputId": "4a500d89-e9d9-4cba-b10b-5471cc43960c"
      },
      "outputs": [
        {
          "data": {
            "text/plain": [
              "{'مشخصات فنی': 'CABLE LENTH:\\r\\n10feet \\\\/3M\\r\\nPC SIDE CONNECTORS_CONNECTED TO PC : \\r\\nPS\\\\/2 Keyboard mini-Din 6 pin, male\\r\\nPS\\\\/2 Mouse Mini-Din 6 pin, male\\r\\nVGA HDDB 15pin, male\\r\\nKVM SIDE CONNECTORS-CONNECTED TO KVM SWITCH: \\r\\nHDDB 15pin, male',\n",
              " 'دسته بندی': 'کابل کمبو',\n",
              " 'برند': 'ادیمکس'}"
            ]
          },
          "execution_count": 10,
          "metadata": {},
          "output_type": "execute_result"
        }
      ],
      "source": [
        "train_test_df.loc[1]['product_description']"
      ]
    },
    {
      "cell_type": "code",
      "execution_count": 11,
      "metadata": {
        "colab": {
          "base_uri": "https://localhost:8080/"
        },
        "id": "7dSCBMqPGQYw",
        "outputId": "deeaf9c0-4094-4d3d-e1e0-924c173d0a12"
      },
      "outputs": [
        {
          "data": {
            "text/plain": [
              "['10feet']"
            ]
          },
          "execution_count": 11,
          "metadata": {},
          "output_type": "execute_result"
        }
      ],
      "source": [
        "import re\n",
        "from __future__ import unicode_literals\n",
        "\n",
        "re.findall(u\"-?\\d+\\.?\\d*feet\", train_test_df.loc[1]['product_description'][\"مشخصات فنی\"])"
      ]
    },
    {
      "cell_type": "code",
      "execution_count": 12,
      "metadata": {
        "id": "fsMZUAFw1W8J"
      },
      "outputs": [],
      "source": [
        "import re\n",
        "not_found_list = []\n",
        "def cable_length(x):\n",
        "\n",
        "  if(\"مشخصات فنی\" in x):\n",
        "    x = x[\"مشخصات فنی\"]\n",
        "  else:\n",
        "    return 0\n",
        "  if(re.findall(u\"-?\\d+\\.?\\d* سانتی متر\", x)):\n",
        "    y = re.findall(u\"-?\\d+\\.?\\d* سانتی متر\", x)[0]\n",
        "    return float(re.findall(u\"-?\\d+\\.?\\d*\", y)[0])\n",
        "  elif(re.findall(u\"-?\\d+\\.?\\d*سانتی متر\", x)):\n",
        "    y = re.findall(u\"-?\\d+\\.?\\d*سانتی متر\", x)[0]\n",
        "    return float(re.findall(u\"-?\\d+\\.?\\d*\", y)[0])\n",
        "  elif(re.findall(u\"-?\\d+\\.?\\d* متر\", x)):\n",
        "    y = re.findall(u\"-?\\d+\\.?\\d* متر\", x)[0]\n",
        "    return float(re.findall(u\"-?\\d+\\.?\\d*\", y)[0])*100\n",
        "  elif(re.findall(u\"-?\\d+\\.?\\d*متر\", x)):\n",
        "    y = re.findall(u\"-?\\d+\\.?\\d*متر\", x)[0]\n",
        "    return float(re.findall(u\"-?\\d+\\.?\\d*\", y)[0])*100\n",
        "  elif(re.findall(u\"-?\\d+\\.?\\d* feet\", x)):\n",
        "    y = re.findall(u\"-?\\d+\\.?\\d* feet\", x)[0]\n",
        "    return float(re.findall(u\"-?\\d+\\.?\\d*\", y)[0])*30.48\n",
        "  elif(re.findall(u\"-?\\d+\\.?\\d*feet\", x)):\n",
        "    y = re.findall(u\"-?\\d+\\.?\\d*feet\", x)[0]\n",
        "    return float(re.findall(u\"-?\\d+\\.?\\d*\", y)[0])*30.48\n",
        "  else:\n",
        "    not_found_list.append(x)\n",
        "    return 0\n",
        "\n",
        "  \n",
        "\n",
        "\n",
        "\n",
        "\n",
        "\n",
        "\n",
        "\n",
        "train_test_df[\"cable_length\"] = train_test_df['product_description'].apply(lambda x: cable_length(x))"
      ]
    },
    {
      "cell_type": "code",
      "execution_count": 13,
      "metadata": {
        "colab": {
          "base_uri": "https://localhost:8080/"
        },
        "id": "yTxpWHHrL5Z-",
        "outputId": "8d2371d5-916f-489c-ae6a-f68f13e5d003"
      },
      "outputs": [
        {
          "data": {
            "text/plain": [
              "2485"
            ]
          },
          "execution_count": 13,
          "metadata": {},
          "output_type": "execute_result"
        }
      ],
      "source": [
        "len(not_found_list)"
      ]
    },
    {
      "cell_type": "code",
      "execution_count": 14,
      "metadata": {
        "colab": {
          "base_uri": "https://localhost:8080/",
          "height": 320
        },
        "id": "96MKEL8VKsRA",
        "outputId": "469889dd-fc8b-45ba-b713-0057baecc366"
      },
      "outputs": [
        {
          "data": {
            "text/html": [
              "<div>\n",
              "<style scoped>\n",
              "    .dataframe tbody tr th:only-of-type {\n",
              "        vertical-align: middle;\n",
              "    }\n",
              "\n",
              "    .dataframe tbody tr th {\n",
              "        vertical-align: top;\n",
              "    }\n",
              "\n",
              "    .dataframe thead th {\n",
              "        text-align: right;\n",
              "    }\n",
              "</style>\n",
              "<table border=\"1\" class=\"dataframe\">\n",
              "  <thead>\n",
              "    <tr style=\"text-align: right;\">\n",
              "      <th></th>\n",
              "      <th>id</th>\n",
              "      <th>product_description</th>\n",
              "      <th>price</th>\n",
              "      <th>keys</th>\n",
              "      <th>brand</th>\n",
              "      <th>category</th>\n",
              "      <th>num_features</th>\n",
              "      <th>cable_length</th>\n",
              "    </tr>\n",
              "  </thead>\n",
              "  <tbody>\n",
              "    <tr>\n",
              "      <th>0</th>\n",
              "      <td>0</td>\n",
              "      <td>{'مشخصات فنی': 'متراژ: 150 سانتی متر\r\n",
              "پورت یو ...</td>\n",
              "      <td>1080000.0</td>\n",
              "      <td>(مشخصات فنی, دسته بندی, برند)</td>\n",
              "      <td>متفرقه</td>\n",
              "      <td>کابل کمبو</td>\n",
              "      <td>1</td>\n",
              "      <td>150.0</td>\n",
              "    </tr>\n",
              "    <tr>\n",
              "      <th>1</th>\n",
              "      <td>1</td>\n",
              "      <td>{'مشخصات فنی': 'CABLE LENTH:\r\n",
              "10feet \\/3M\r\n",
              "PC ...</td>\n",
              "      <td>990000.0</td>\n",
              "      <td>(مشخصات فنی, دسته بندی, برند)</td>\n",
              "      <td>ادیمکس</td>\n",
              "      <td>کابل کمبو</td>\n",
              "      <td>3</td>\n",
              "      <td>304.8</td>\n",
              "    </tr>\n",
              "    <tr>\n",
              "      <th>2</th>\n",
              "      <td>2</td>\n",
              "      <td>{'مشخصات فنی': 'نوع کابل: KVM USB\r\n",
              "طول کابل: 1...</td>\n",
              "      <td>1680000.0</td>\n",
              "      <td>(مشخصات فنی, دسته بندی, برند)</td>\n",
              "      <td>متفرقه</td>\n",
              "      <td>کابل کمبو</td>\n",
              "      <td>2</td>\n",
              "      <td>150.0</td>\n",
              "    </tr>\n",
              "    <tr>\n",
              "      <th>3</th>\n",
              "      <td>3</td>\n",
              "      <td>{'دسته بندی': 'کابل کمبو', 'برند': 'متفرقه'}</td>\n",
              "      <td>4500000.0</td>\n",
              "      <td>(دسته بندی, برند)</td>\n",
              "      <td>متفرقه</td>\n",
              "      <td>کابل کمبو</td>\n",
              "      <td>0</td>\n",
              "      <td>0.0</td>\n",
              "    </tr>\n",
              "    <tr>\n",
              "      <th>4</th>\n",
              "      <td>4</td>\n",
              "      <td>{'مشخصات فنی': 'کیبورد: 6pin Mini-DIN Male - P...</td>\n",
              "      <td>700000.0</td>\n",
              "      <td>(مشخصات فنی, دسته بندی, برند)</td>\n",
              "      <td>دی-لینک</td>\n",
              "      <td>کابل کمبو</td>\n",
              "      <td>4</td>\n",
              "      <td>300.0</td>\n",
              "    </tr>\n",
              "  </tbody>\n",
              "</table>\n",
              "</div>"
            ],
            "text/plain": [
              "   id                                product_description      price  \\\n",
              "0   0  {'مشخصات فنی': 'متراژ: 150 سانتی متر\n",
              "پورت یو ...  1080000.0   \n",
              "1   1  {'مشخصات فنی': 'CABLE LENTH:\n",
              "10feet \\/3M\n",
              "PC ...   990000.0   \n",
              "2   2  {'مشخصات فنی': 'نوع کابل: KVM USB\n",
              "طول کابل: 1...  1680000.0   \n",
              "3   3       {'دسته بندی': 'کابل کمبو', 'برند': 'متفرقه'}  4500000.0   \n",
              "4   4  {'مشخصات فنی': 'کیبورد: 6pin Mini-DIN Male - P...   700000.0   \n",
              "\n",
              "                            keys    brand   category  num_features  \\\n",
              "0  (مشخصات فنی, دسته بندی, برند)   متفرقه  کابل کمبو             1   \n",
              "1  (مشخصات فنی, دسته بندی, برند)   ادیمکس  کابل کمبو             3   \n",
              "2  (مشخصات فنی, دسته بندی, برند)   متفرقه  کابل کمبو             2   \n",
              "3              (دسته بندی, برند)   متفرقه  کابل کمبو             0   \n",
              "4  (مشخصات فنی, دسته بندی, برند)  دی-لینک  کابل کمبو             4   \n",
              "\n",
              "   cable_length  \n",
              "0         150.0  \n",
              "1         304.8  \n",
              "2         150.0  \n",
              "3           0.0  \n",
              "4         300.0  "
            ]
          },
          "execution_count": 14,
          "metadata": {},
          "output_type": "execute_result"
        }
      ],
      "source": [
        "train_test_df.head()"
      ]
    },
    {
      "cell_type": "code",
      "execution_count": 15,
      "metadata": {
        "colab": {
          "base_uri": "https://localhost:8080/",
          "height": 320
        },
        "id": "fL9Gd1C2nxj4",
        "outputId": "a31a0bca-03ab-48bc-d89c-c9fc199c828b"
      },
      "outputs": [
        {
          "data": {
            "text/html": [
              "<div>\n",
              "<style scoped>\n",
              "    .dataframe tbody tr th:only-of-type {\n",
              "        vertical-align: middle;\n",
              "    }\n",
              "\n",
              "    .dataframe tbody tr th {\n",
              "        vertical-align: top;\n",
              "    }\n",
              "\n",
              "    .dataframe thead th {\n",
              "        text-align: right;\n",
              "    }\n",
              "</style>\n",
              "<table border=\"1\" class=\"dataframe\">\n",
              "  <thead>\n",
              "    <tr style=\"text-align: right;\">\n",
              "      <th></th>\n",
              "      <th>id</th>\n",
              "      <th>product_description</th>\n",
              "      <th>price</th>\n",
              "      <th>keys</th>\n",
              "      <th>brand</th>\n",
              "      <th>category</th>\n",
              "      <th>num_features</th>\n",
              "      <th>cable_length</th>\n",
              "    </tr>\n",
              "  </thead>\n",
              "  <tbody>\n",
              "    <tr>\n",
              "      <th>0</th>\n",
              "      <td>0</td>\n",
              "      <td>{'مشخصات فنی': 'متراژ: 150 سانتی متر\r\n",
              "پورت یو ...</td>\n",
              "      <td>1080000.0</td>\n",
              "      <td>(مشخصات فنی, دسته بندی, برند)</td>\n",
              "      <td>0</td>\n",
              "      <td>کابل کمبو</td>\n",
              "      <td>1</td>\n",
              "      <td>150.0</td>\n",
              "    </tr>\n",
              "    <tr>\n",
              "      <th>1</th>\n",
              "      <td>1</td>\n",
              "      <td>{'مشخصات فنی': 'CABLE LENTH:\r\n",
              "10feet \\/3M\r\n",
              "PC ...</td>\n",
              "      <td>990000.0</td>\n",
              "      <td>(مشخصات فنی, دسته بندی, برند)</td>\n",
              "      <td>607</td>\n",
              "      <td>کابل کمبو</td>\n",
              "      <td>3</td>\n",
              "      <td>304.8</td>\n",
              "    </tr>\n",
              "    <tr>\n",
              "      <th>2</th>\n",
              "      <td>2</td>\n",
              "      <td>{'مشخصات فنی': 'نوع کابل: KVM USB\r\n",
              "طول کابل: 1...</td>\n",
              "      <td>1680000.0</td>\n",
              "      <td>(مشخصات فنی, دسته بندی, برند)</td>\n",
              "      <td>0</td>\n",
              "      <td>کابل کمبو</td>\n",
              "      <td>2</td>\n",
              "      <td>150.0</td>\n",
              "    </tr>\n",
              "    <tr>\n",
              "      <th>3</th>\n",
              "      <td>3</td>\n",
              "      <td>{'دسته بندی': 'کابل کمبو', 'برند': 'متفرقه'}</td>\n",
              "      <td>4500000.0</td>\n",
              "      <td>(دسته بندی, برند)</td>\n",
              "      <td>0</td>\n",
              "      <td>کابل کمبو</td>\n",
              "      <td>0</td>\n",
              "      <td>0.0</td>\n",
              "    </tr>\n",
              "    <tr>\n",
              "      <th>4</th>\n",
              "      <td>4</td>\n",
              "      <td>{'مشخصات فنی': 'کیبورد: 6pin Mini-DIN Male - P...</td>\n",
              "      <td>700000.0</td>\n",
              "      <td>(مشخصات فنی, دسته بندی, برند)</td>\n",
              "      <td>48</td>\n",
              "      <td>کابل کمبو</td>\n",
              "      <td>4</td>\n",
              "      <td>300.0</td>\n",
              "    </tr>\n",
              "  </tbody>\n",
              "</table>\n",
              "</div>"
            ],
            "text/plain": [
              "   id                                product_description      price  \\\n",
              "0   0  {'مشخصات فنی': 'متراژ: 150 سانتی متر\n",
              "پورت یو ...  1080000.0   \n",
              "1   1  {'مشخصات فنی': 'CABLE LENTH:\n",
              "10feet \\/3M\n",
              "PC ...   990000.0   \n",
              "2   2  {'مشخصات فنی': 'نوع کابل: KVM USB\n",
              "طول کابل: 1...  1680000.0   \n",
              "3   3       {'دسته بندی': 'کابل کمبو', 'برند': 'متفرقه'}  4500000.0   \n",
              "4   4  {'مشخصات فنی': 'کیبورد: 6pin Mini-DIN Male - P...   700000.0   \n",
              "\n",
              "                            keys  brand   category  num_features  cable_length  \n",
              "0  (مشخصات فنی, دسته بندی, برند)      0  کابل کمبو             1         150.0  \n",
              "1  (مشخصات فنی, دسته بندی, برند)    607  کابل کمبو             3         304.8  \n",
              "2  (مشخصات فنی, دسته بندی, برند)      0  کابل کمبو             2         150.0  \n",
              "3              (دسته بندی, برند)      0  کابل کمبو             0           0.0  \n",
              "4  (مشخصات فنی, دسته بندی, برند)     48  کابل کمبو             4         300.0  "
            ]
          },
          "execution_count": 15,
          "metadata": {},
          "output_type": "execute_result"
        }
      ],
      "source": [
        "list_brand = train_test_df['brand'].value_counts().index.tolist()\n",
        "brand_dict = { x:i for i,x in enumerate(list_brand)}\n",
        "train_test_df[\"brand\"] = train_test_df[\"brand\"].apply(lambda x: brand_dict[x] if x in brand_dict.keys() else n)\n",
        "train_test_df.head()"
      ]
    },
    {
      "cell_type": "code",
      "execution_count": 16,
      "metadata": {
        "id": "RMsbVz4FovJT"
      },
      "outputs": [],
      "source": [
        "list_category = train_test_df['category'].value_counts().index.tolist()\n",
        "category_dict = { x:i for i,x in enumerate(list_category)}\n",
        "train_test_df[\"category\"] = train_test_df[\"category\"].apply(lambda x: category_dict[x] if x in category_dict.keys() else n)"
      ]
    },
    {
      "cell_type": "code",
      "execution_count": 14,
      "metadata": {
        "colab": {
          "base_uri": "https://localhost:8080/",
          "height": 320
        },
        "id": "Gc7pAfXnLESd",
        "outputId": "e2efac0b-b749-4b66-ca17-b10452b4f9dc"
      },
      "outputs": [
        {
          "data": {
            "text/html": [
              "\n",
              "  <div id=\"df-46573d11-7b16-4840-9b25-9e924d5ede0e\">\n",
              "    <div class=\"colab-df-container\">\n",
              "      <div>\n",
              "<style scoped>\n",
              "    .dataframe tbody tr th:only-of-type {\n",
              "        vertical-align: middle;\n",
              "    }\n",
              "\n",
              "    .dataframe tbody tr th {\n",
              "        vertical-align: top;\n",
              "    }\n",
              "\n",
              "    .dataframe thead th {\n",
              "        text-align: right;\n",
              "    }\n",
              "</style>\n",
              "<table border=\"1\" class=\"dataframe\">\n",
              "  <thead>\n",
              "    <tr style=\"text-align: right;\">\n",
              "      <th></th>\n",
              "      <th>id</th>\n",
              "      <th>product_description</th>\n",
              "      <th>price</th>\n",
              "      <th>keys</th>\n",
              "      <th>brand</th>\n",
              "      <th>category</th>\n",
              "      <th>num_features</th>\n",
              "      <th>cable_length</th>\n",
              "    </tr>\n",
              "  </thead>\n",
              "  <tbody>\n",
              "    <tr>\n",
              "      <th>0</th>\n",
              "      <td>0</td>\n",
              "      <td>{'مشخصات فنی': 'متراژ: 150 سانتی متر\r\n",
              "پورت یو ...</td>\n",
              "      <td>1080000.0</td>\n",
              "      <td>(مشخصات فنی, دسته بندی, برند)</td>\n",
              "      <td>0</td>\n",
              "      <td>کابل کمبو</td>\n",
              "      <td>1</td>\n",
              "      <td>150.0</td>\n",
              "    </tr>\n",
              "    <tr>\n",
              "      <th>1</th>\n",
              "      <td>1</td>\n",
              "      <td>{'مشخصات فنی': 'CABLE LENTH:\r\n",
              "10feet \\/3M\r\n",
              "PC ...</td>\n",
              "      <td>990000.0</td>\n",
              "      <td>(مشخصات فنی, دسته بندی, برند)</td>\n",
              "      <td>30</td>\n",
              "      <td>کابل کمبو</td>\n",
              "      <td>3</td>\n",
              "      <td>304.8</td>\n",
              "    </tr>\n",
              "    <tr>\n",
              "      <th>2</th>\n",
              "      <td>2</td>\n",
              "      <td>{'مشخصات فنی': 'نوع کابل: KVM USB\r\n",
              "طول کابل: 1...</td>\n",
              "      <td>1680000.0</td>\n",
              "      <td>(مشخصات فنی, دسته بندی, برند)</td>\n",
              "      <td>0</td>\n",
              "      <td>کابل کمبو</td>\n",
              "      <td>2</td>\n",
              "      <td>150.0</td>\n",
              "    </tr>\n",
              "    <tr>\n",
              "      <th>3</th>\n",
              "      <td>3</td>\n",
              "      <td>{'دسته بندی': 'کابل کمبو', 'برند': 'متفرقه'}</td>\n",
              "      <td>4500000.0</td>\n",
              "      <td>(دسته بندی, برند)</td>\n",
              "      <td>0</td>\n",
              "      <td>کابل کمبو</td>\n",
              "      <td>0</td>\n",
              "      <td>0.0</td>\n",
              "    </tr>\n",
              "    <tr>\n",
              "      <th>4</th>\n",
              "      <td>4</td>\n",
              "      <td>{'مشخصات فنی': 'کیبورد: 6pin Mini-DIN Male - P...</td>\n",
              "      <td>700000.0</td>\n",
              "      <td>(مشخصات فنی, دسته بندی, برند)</td>\n",
              "      <td>30</td>\n",
              "      <td>کابل کمبو</td>\n",
              "      <td>4</td>\n",
              "      <td>300.0</td>\n",
              "    </tr>\n",
              "  </tbody>\n",
              "</table>\n",
              "</div>\n",
              "      <button class=\"colab-df-convert\" onclick=\"convertToInteractive('df-46573d11-7b16-4840-9b25-9e924d5ede0e')\"\n",
              "              title=\"Convert this dataframe to an interactive table.\"\n",
              "              style=\"display:none;\">\n",
              "        \n",
              "  <svg xmlns=\"http://www.w3.org/2000/svg\" height=\"24px\"viewBox=\"0 0 24 24\"\n",
              "       width=\"24px\">\n",
              "    <path d=\"M0 0h24v24H0V0z\" fill=\"none\"/>\n",
              "    <path d=\"M18.56 5.44l.94 2.06.94-2.06 2.06-.94-2.06-.94-.94-2.06-.94 2.06-2.06.94zm-11 1L8.5 8.5l.94-2.06 2.06-.94-2.06-.94L8.5 2.5l-.94 2.06-2.06.94zm10 10l.94 2.06.94-2.06 2.06-.94-2.06-.94-.94-2.06-.94 2.06-2.06.94z\"/><path d=\"M17.41 7.96l-1.37-1.37c-.4-.4-.92-.59-1.43-.59-.52 0-1.04.2-1.43.59L10.3 9.45l-7.72 7.72c-.78.78-.78 2.05 0 2.83L4 21.41c.39.39.9.59 1.41.59.51 0 1.02-.2 1.41-.59l7.78-7.78 2.81-2.81c.8-.78.8-2.07 0-2.86zM5.41 20L4 18.59l7.72-7.72 1.47 1.35L5.41 20z\"/>\n",
              "  </svg>\n",
              "      </button>\n",
              "      \n",
              "  <style>\n",
              "    .colab-df-container {\n",
              "      display:flex;\n",
              "      flex-wrap:wrap;\n",
              "      gap: 12px;\n",
              "    }\n",
              "\n",
              "    .colab-df-convert {\n",
              "      background-color: #E8F0FE;\n",
              "      border: none;\n",
              "      border-radius: 50%;\n",
              "      cursor: pointer;\n",
              "      display: none;\n",
              "      fill: #1967D2;\n",
              "      height: 32px;\n",
              "      padding: 0 0 0 0;\n",
              "      width: 32px;\n",
              "    }\n",
              "\n",
              "    .colab-df-convert:hover {\n",
              "      background-color: #E2EBFA;\n",
              "      box-shadow: 0px 1px 2px rgba(60, 64, 67, 0.3), 0px 1px 3px 1px rgba(60, 64, 67, 0.15);\n",
              "      fill: #174EA6;\n",
              "    }\n",
              "\n",
              "    [theme=dark] .colab-df-convert {\n",
              "      background-color: #3B4455;\n",
              "      fill: #D2E3FC;\n",
              "    }\n",
              "\n",
              "    [theme=dark] .colab-df-convert:hover {\n",
              "      background-color: #434B5C;\n",
              "      box-shadow: 0px 1px 3px 1px rgba(0, 0, 0, 0.15);\n",
              "      filter: drop-shadow(0px 1px 2px rgba(0, 0, 0, 0.3));\n",
              "      fill: #FFFFFF;\n",
              "    }\n",
              "  </style>\n",
              "\n",
              "      <script>\n",
              "        const buttonEl =\n",
              "          document.querySelector('#df-46573d11-7b16-4840-9b25-9e924d5ede0e button.colab-df-convert');\n",
              "        buttonEl.style.display =\n",
              "          google.colab.kernel.accessAllowed ? 'block' : 'none';\n",
              "\n",
              "        async function convertToInteractive(key) {\n",
              "          const element = document.querySelector('#df-46573d11-7b16-4840-9b25-9e924d5ede0e');\n",
              "          const dataTable =\n",
              "            await google.colab.kernel.invokeFunction('convertToInteractive',\n",
              "                                                     [key], {});\n",
              "          if (!dataTable) return;\n",
              "\n",
              "          const docLinkHtml = 'Like what you see? Visit the ' +\n",
              "            '<a target=\"_blank\" href=https://colab.research.google.com/notebooks/data_table.ipynb>data table notebook</a>'\n",
              "            + ' to learn more about interactive tables.';\n",
              "          element.innerHTML = '';\n",
              "          dataTable['output_type'] = 'display_data';\n",
              "          await google.colab.output.renderOutput(dataTable, element);\n",
              "          const docLink = document.createElement('div');\n",
              "          docLink.innerHTML = docLinkHtml;\n",
              "          element.appendChild(docLink);\n",
              "        }\n",
              "      </script>\n",
              "    </div>\n",
              "  </div>\n",
              "  "
            ],
            "text/plain": [
              "   id                                product_description      price  \\\n",
              "0   0  {'مشخصات فنی': 'متراژ: 150 سانتی متر\n",
              "پورت یو ...  1080000.0   \n",
              "1   1  {'مشخصات فنی': 'CABLE LENTH:\n",
              "10feet \\/3M\n",
              "PC ...   990000.0   \n",
              "2   2  {'مشخصات فنی': 'نوع کابل: KVM USB\n",
              "طول کابل: 1...  1680000.0   \n",
              "3   3       {'دسته بندی': 'کابل کمبو', 'برند': 'متفرقه'}  4500000.0   \n",
              "4   4  {'مشخصات فنی': 'کیبورد: 6pin Mini-DIN Male - P...   700000.0   \n",
              "\n",
              "                            keys  brand   category  num_features  cable_length  \n",
              "0  (مشخصات فنی, دسته بندی, برند)      0  کابل کمبو             1         150.0  \n",
              "1  (مشخصات فنی, دسته بندی, برند)     30  کابل کمبو             3         304.8  \n",
              "2  (مشخصات فنی, دسته بندی, برند)      0  کابل کمبو             2         150.0  \n",
              "3              (دسته بندی, برند)      0  کابل کمبو             0           0.0  \n",
              "4  (مشخصات فنی, دسته بندی, برند)     30  کابل کمبو             4         300.0  "
            ]
          },
          "execution_count": 14,
          "metadata": {},
          "output_type": "execute_result"
        }
      ],
      "source": [
        "n = 30\n",
        "list_brand = train_test_df['brand'].value_counts()[:n].index.tolist()\n",
        "brand_dict = { x:i for i,x in enumerate(list_brand)}\n",
        "train_test_df[\"brand\"] = train_test_df[\"brand\"].apply(lambda x: brand_dict[x] if x in brand_dict.keys() else n)\n",
        "train_test_df.head()"
      ]
    },
    {
      "cell_type": "code",
      "execution_count": 15,
      "metadata": {
        "id": "lk7FKBHSLkfH"
      },
      "outputs": [],
      "source": [
        "n = 30\n",
        "list_category = train_test_df['category'].value_counts()[:n].index.tolist()\n",
        "category_dict = { x:i for i,x in enumerate(list_category)}\n",
        "train_test_df[\"category\"] = train_test_df[\"category\"].apply(lambda x: category_dict[x] if x in category_dict.keys() else n)"
      ]
    },
    {
      "cell_type": "code",
      "execution_count": 13,
      "metadata": {
        "colab": {
          "base_uri": "https://localhost:8080/",
          "height": 424
        },
        "id": "JXrOY8qeo35s",
        "outputId": "5e97c481-abf4-4f4a-a49c-d8484cfe4258"
      },
      "outputs": [
        {
          "data": {
            "text/html": [
              "\n",
              "  <div id=\"df-800e50aa-2bea-4aa7-b670-a581d534a981\">\n",
              "    <div class=\"colab-df-container\">\n",
              "      <div>\n",
              "<style scoped>\n",
              "    .dataframe tbody tr th:only-of-type {\n",
              "        vertical-align: middle;\n",
              "    }\n",
              "\n",
              "    .dataframe tbody tr th {\n",
              "        vertical-align: top;\n",
              "    }\n",
              "\n",
              "    .dataframe thead th {\n",
              "        text-align: right;\n",
              "    }\n",
              "</style>\n",
              "<table border=\"1\" class=\"dataframe\">\n",
              "  <thead>\n",
              "    <tr style=\"text-align: right;\">\n",
              "      <th></th>\n",
              "      <th>brand</th>\n",
              "      <th>category</th>\n",
              "      <th>num_features</th>\n",
              "      <th>cable_length</th>\n",
              "    </tr>\n",
              "  </thead>\n",
              "  <tbody>\n",
              "    <tr>\n",
              "      <th>0</th>\n",
              "      <td>0</td>\n",
              "      <td>179</td>\n",
              "      <td>1</td>\n",
              "      <td>150.0</td>\n",
              "    </tr>\n",
              "    <tr>\n",
              "      <th>1</th>\n",
              "      <td>607</td>\n",
              "      <td>179</td>\n",
              "      <td>3</td>\n",
              "      <td>304.8</td>\n",
              "    </tr>\n",
              "    <tr>\n",
              "      <th>2</th>\n",
              "      <td>0</td>\n",
              "      <td>179</td>\n",
              "      <td>2</td>\n",
              "      <td>150.0</td>\n",
              "    </tr>\n",
              "    <tr>\n",
              "      <th>3</th>\n",
              "      <td>0</td>\n",
              "      <td>179</td>\n",
              "      <td>0</td>\n",
              "      <td>0.0</td>\n",
              "    </tr>\n",
              "    <tr>\n",
              "      <th>4</th>\n",
              "      <td>48</td>\n",
              "      <td>179</td>\n",
              "      <td>4</td>\n",
              "      <td>300.0</td>\n",
              "    </tr>\n",
              "    <tr>\n",
              "      <th>...</th>\n",
              "      <td>...</td>\n",
              "      <td>...</td>\n",
              "      <td>...</td>\n",
              "      <td>...</td>\n",
              "    </tr>\n",
              "    <tr>\n",
              "      <th>103097</th>\n",
              "      <td>2</td>\n",
              "      <td>0</td>\n",
              "      <td>0</td>\n",
              "      <td>0.0</td>\n",
              "    </tr>\n",
              "    <tr>\n",
              "      <th>103098</th>\n",
              "      <td>0</td>\n",
              "      <td>0</td>\n",
              "      <td>0</td>\n",
              "      <td>0.0</td>\n",
              "    </tr>\n",
              "    <tr>\n",
              "      <th>103099</th>\n",
              "      <td>7</td>\n",
              "      <td>0</td>\n",
              "      <td>0</td>\n",
              "      <td>0.0</td>\n",
              "    </tr>\n",
              "    <tr>\n",
              "      <th>103100</th>\n",
              "      <td>0</td>\n",
              "      <td>0</td>\n",
              "      <td>0</td>\n",
              "      <td>0.0</td>\n",
              "    </tr>\n",
              "    <tr>\n",
              "      <th>103101</th>\n",
              "      <td>42</td>\n",
              "      <td>0</td>\n",
              "      <td>0</td>\n",
              "      <td>0.0</td>\n",
              "    </tr>\n",
              "  </tbody>\n",
              "</table>\n",
              "<p>103102 rows × 4 columns</p>\n",
              "</div>\n",
              "      <button class=\"colab-df-convert\" onclick=\"convertToInteractive('df-800e50aa-2bea-4aa7-b670-a581d534a981')\"\n",
              "              title=\"Convert this dataframe to an interactive table.\"\n",
              "              style=\"display:none;\">\n",
              "        \n",
              "  <svg xmlns=\"http://www.w3.org/2000/svg\" height=\"24px\"viewBox=\"0 0 24 24\"\n",
              "       width=\"24px\">\n",
              "    <path d=\"M0 0h24v24H0V0z\" fill=\"none\"/>\n",
              "    <path d=\"M18.56 5.44l.94 2.06.94-2.06 2.06-.94-2.06-.94-.94-2.06-.94 2.06-2.06.94zm-11 1L8.5 8.5l.94-2.06 2.06-.94-2.06-.94L8.5 2.5l-.94 2.06-2.06.94zm10 10l.94 2.06.94-2.06 2.06-.94-2.06-.94-.94-2.06-.94 2.06-2.06.94z\"/><path d=\"M17.41 7.96l-1.37-1.37c-.4-.4-.92-.59-1.43-.59-.52 0-1.04.2-1.43.59L10.3 9.45l-7.72 7.72c-.78.78-.78 2.05 0 2.83L4 21.41c.39.39.9.59 1.41.59.51 0 1.02-.2 1.41-.59l7.78-7.78 2.81-2.81c.8-.78.8-2.07 0-2.86zM5.41 20L4 18.59l7.72-7.72 1.47 1.35L5.41 20z\"/>\n",
              "  </svg>\n",
              "      </button>\n",
              "      \n",
              "  <style>\n",
              "    .colab-df-container {\n",
              "      display:flex;\n",
              "      flex-wrap:wrap;\n",
              "      gap: 12px;\n",
              "    }\n",
              "\n",
              "    .colab-df-convert {\n",
              "      background-color: #E8F0FE;\n",
              "      border: none;\n",
              "      border-radius: 50%;\n",
              "      cursor: pointer;\n",
              "      display: none;\n",
              "      fill: #1967D2;\n",
              "      height: 32px;\n",
              "      padding: 0 0 0 0;\n",
              "      width: 32px;\n",
              "    }\n",
              "\n",
              "    .colab-df-convert:hover {\n",
              "      background-color: #E2EBFA;\n",
              "      box-shadow: 0px 1px 2px rgba(60, 64, 67, 0.3), 0px 1px 3px 1px rgba(60, 64, 67, 0.15);\n",
              "      fill: #174EA6;\n",
              "    }\n",
              "\n",
              "    [theme=dark] .colab-df-convert {\n",
              "      background-color: #3B4455;\n",
              "      fill: #D2E3FC;\n",
              "    }\n",
              "\n",
              "    [theme=dark] .colab-df-convert:hover {\n",
              "      background-color: #434B5C;\n",
              "      box-shadow: 0px 1px 3px 1px rgba(0, 0, 0, 0.15);\n",
              "      filter: drop-shadow(0px 1px 2px rgba(0, 0, 0, 0.3));\n",
              "      fill: #FFFFFF;\n",
              "    }\n",
              "  </style>\n",
              "\n",
              "      <script>\n",
              "        const buttonEl =\n",
              "          document.querySelector('#df-800e50aa-2bea-4aa7-b670-a581d534a981 button.colab-df-convert');\n",
              "        buttonEl.style.display =\n",
              "          google.colab.kernel.accessAllowed ? 'block' : 'none';\n",
              "\n",
              "        async function convertToInteractive(key) {\n",
              "          const element = document.querySelector('#df-800e50aa-2bea-4aa7-b670-a581d534a981');\n",
              "          const dataTable =\n",
              "            await google.colab.kernel.invokeFunction('convertToInteractive',\n",
              "                                                     [key], {});\n",
              "          if (!dataTable) return;\n",
              "\n",
              "          const docLinkHtml = 'Like what you see? Visit the ' +\n",
              "            '<a target=\"_blank\" href=https://colab.research.google.com/notebooks/data_table.ipynb>data table notebook</a>'\n",
              "            + ' to learn more about interactive tables.';\n",
              "          element.innerHTML = '';\n",
              "          dataTable['output_type'] = 'display_data';\n",
              "          await google.colab.output.renderOutput(dataTable, element);\n",
              "          const docLink = document.createElement('div');\n",
              "          docLink.innerHTML = docLinkHtml;\n",
              "          element.appendChild(docLink);\n",
              "        }\n",
              "      </script>\n",
              "    </div>\n",
              "  </div>\n",
              "  "
            ],
            "text/plain": [
              "        brand  category  num_features  cable_length\n",
              "0           0       179             1         150.0\n",
              "1         607       179             3         304.8\n",
              "2           0       179             2         150.0\n",
              "3           0       179             0           0.0\n",
              "4          48       179             4         300.0\n",
              "...       ...       ...           ...           ...\n",
              "103097      2         0             0           0.0\n",
              "103098      0         0             0           0.0\n",
              "103099      7         0             0           0.0\n",
              "103100      0         0             0           0.0\n",
              "103101     42         0             0           0.0\n",
              "\n",
              "[103102 rows x 4 columns]"
            ]
          },
          "execution_count": 13,
          "metadata": {},
          "output_type": "execute_result"
        }
      ],
      "source": [
        "y = train_test_df.drop(columns = [\"id\", \"price\", \"product_description\", 'keys'])\n",
        "y"
      ]
    },
    {
      "cell_type": "code",
      "execution_count": 17,
      "metadata": {
        "colab": {
          "base_uri": "https://localhost:8080/",
          "height": 488
        },
        "id": "ypTK8hyixzjM",
        "outputId": "0e9ac397-7ed6-4940-d31c-a6505e905bee"
      },
      "outputs": [
        {
          "data": {
            "text/html": [
              "<div>\n",
              "<style scoped>\n",
              "    .dataframe tbody tr th:only-of-type {\n",
              "        vertical-align: middle;\n",
              "    }\n",
              "\n",
              "    .dataframe tbody tr th {\n",
              "        vertical-align: top;\n",
              "    }\n",
              "\n",
              "    .dataframe thead th {\n",
              "        text-align: right;\n",
              "    }\n",
              "</style>\n",
              "<table border=\"1\" class=\"dataframe\">\n",
              "  <thead>\n",
              "    <tr style=\"text-align: right;\">\n",
              "      <th></th>\n",
              "      <th>num_features</th>\n",
              "      <th>cable_length</th>\n",
              "      <th>Brand_0</th>\n",
              "      <th>Brand_1</th>\n",
              "      <th>Brand_2</th>\n",
              "      <th>Brand_3</th>\n",
              "      <th>Brand_4</th>\n",
              "      <th>Brand_5</th>\n",
              "      <th>Brand_6</th>\n",
              "      <th>Brand_7</th>\n",
              "      <th>...</th>\n",
              "      <th>category_170</th>\n",
              "      <th>category_171</th>\n",
              "      <th>category_172</th>\n",
              "      <th>category_173</th>\n",
              "      <th>category_174</th>\n",
              "      <th>category_175</th>\n",
              "      <th>category_176</th>\n",
              "      <th>category_177</th>\n",
              "      <th>category_178</th>\n",
              "      <th>category_179</th>\n",
              "    </tr>\n",
              "  </thead>\n",
              "  <tbody>\n",
              "    <tr>\n",
              "      <th>0</th>\n",
              "      <td>1</td>\n",
              "      <td>150.0</td>\n",
              "      <td>1</td>\n",
              "      <td>0</td>\n",
              "      <td>0</td>\n",
              "      <td>0</td>\n",
              "      <td>0</td>\n",
              "      <td>0</td>\n",
              "      <td>0</td>\n",
              "      <td>0</td>\n",
              "      <td>...</td>\n",
              "      <td>0</td>\n",
              "      <td>0</td>\n",
              "      <td>0</td>\n",
              "      <td>0</td>\n",
              "      <td>0</td>\n",
              "      <td>0</td>\n",
              "      <td>0</td>\n",
              "      <td>0</td>\n",
              "      <td>0</td>\n",
              "      <td>1</td>\n",
              "    </tr>\n",
              "    <tr>\n",
              "      <th>1</th>\n",
              "      <td>3</td>\n",
              "      <td>304.8</td>\n",
              "      <td>0</td>\n",
              "      <td>0</td>\n",
              "      <td>0</td>\n",
              "      <td>0</td>\n",
              "      <td>0</td>\n",
              "      <td>0</td>\n",
              "      <td>0</td>\n",
              "      <td>0</td>\n",
              "      <td>...</td>\n",
              "      <td>0</td>\n",
              "      <td>0</td>\n",
              "      <td>0</td>\n",
              "      <td>0</td>\n",
              "      <td>0</td>\n",
              "      <td>0</td>\n",
              "      <td>0</td>\n",
              "      <td>0</td>\n",
              "      <td>0</td>\n",
              "      <td>1</td>\n",
              "    </tr>\n",
              "    <tr>\n",
              "      <th>2</th>\n",
              "      <td>2</td>\n",
              "      <td>150.0</td>\n",
              "      <td>1</td>\n",
              "      <td>0</td>\n",
              "      <td>0</td>\n",
              "      <td>0</td>\n",
              "      <td>0</td>\n",
              "      <td>0</td>\n",
              "      <td>0</td>\n",
              "      <td>0</td>\n",
              "      <td>...</td>\n",
              "      <td>0</td>\n",
              "      <td>0</td>\n",
              "      <td>0</td>\n",
              "      <td>0</td>\n",
              "      <td>0</td>\n",
              "      <td>0</td>\n",
              "      <td>0</td>\n",
              "      <td>0</td>\n",
              "      <td>0</td>\n",
              "      <td>1</td>\n",
              "    </tr>\n",
              "    <tr>\n",
              "      <th>3</th>\n",
              "      <td>0</td>\n",
              "      <td>0.0</td>\n",
              "      <td>1</td>\n",
              "      <td>0</td>\n",
              "      <td>0</td>\n",
              "      <td>0</td>\n",
              "      <td>0</td>\n",
              "      <td>0</td>\n",
              "      <td>0</td>\n",
              "      <td>0</td>\n",
              "      <td>...</td>\n",
              "      <td>0</td>\n",
              "      <td>0</td>\n",
              "      <td>0</td>\n",
              "      <td>0</td>\n",
              "      <td>0</td>\n",
              "      <td>0</td>\n",
              "      <td>0</td>\n",
              "      <td>0</td>\n",
              "      <td>0</td>\n",
              "      <td>1</td>\n",
              "    </tr>\n",
              "    <tr>\n",
              "      <th>4</th>\n",
              "      <td>4</td>\n",
              "      <td>300.0</td>\n",
              "      <td>0</td>\n",
              "      <td>0</td>\n",
              "      <td>0</td>\n",
              "      <td>0</td>\n",
              "      <td>0</td>\n",
              "      <td>0</td>\n",
              "      <td>0</td>\n",
              "      <td>0</td>\n",
              "      <td>...</td>\n",
              "      <td>0</td>\n",
              "      <td>0</td>\n",
              "      <td>0</td>\n",
              "      <td>0</td>\n",
              "      <td>0</td>\n",
              "      <td>0</td>\n",
              "      <td>0</td>\n",
              "      <td>0</td>\n",
              "      <td>0</td>\n",
              "      <td>1</td>\n",
              "    </tr>\n",
              "    <tr>\n",
              "      <th>...</th>\n",
              "      <td>...</td>\n",
              "      <td>...</td>\n",
              "      <td>...</td>\n",
              "      <td>...</td>\n",
              "      <td>...</td>\n",
              "      <td>...</td>\n",
              "      <td>...</td>\n",
              "      <td>...</td>\n",
              "      <td>...</td>\n",
              "      <td>...</td>\n",
              "      <td>...</td>\n",
              "      <td>...</td>\n",
              "      <td>...</td>\n",
              "      <td>...</td>\n",
              "      <td>...</td>\n",
              "      <td>...</td>\n",
              "      <td>...</td>\n",
              "      <td>...</td>\n",
              "      <td>...</td>\n",
              "      <td>...</td>\n",
              "      <td>...</td>\n",
              "    </tr>\n",
              "    <tr>\n",
              "      <th>103097</th>\n",
              "      <td>0</td>\n",
              "      <td>0.0</td>\n",
              "      <td>0</td>\n",
              "      <td>0</td>\n",
              "      <td>1</td>\n",
              "      <td>0</td>\n",
              "      <td>0</td>\n",
              "      <td>0</td>\n",
              "      <td>0</td>\n",
              "      <td>0</td>\n",
              "      <td>...</td>\n",
              "      <td>0</td>\n",
              "      <td>0</td>\n",
              "      <td>0</td>\n",
              "      <td>0</td>\n",
              "      <td>0</td>\n",
              "      <td>0</td>\n",
              "      <td>0</td>\n",
              "      <td>0</td>\n",
              "      <td>0</td>\n",
              "      <td>0</td>\n",
              "    </tr>\n",
              "    <tr>\n",
              "      <th>103098</th>\n",
              "      <td>0</td>\n",
              "      <td>0.0</td>\n",
              "      <td>1</td>\n",
              "      <td>0</td>\n",
              "      <td>0</td>\n",
              "      <td>0</td>\n",
              "      <td>0</td>\n",
              "      <td>0</td>\n",
              "      <td>0</td>\n",
              "      <td>0</td>\n",
              "      <td>...</td>\n",
              "      <td>0</td>\n",
              "      <td>0</td>\n",
              "      <td>0</td>\n",
              "      <td>0</td>\n",
              "      <td>0</td>\n",
              "      <td>0</td>\n",
              "      <td>0</td>\n",
              "      <td>0</td>\n",
              "      <td>0</td>\n",
              "      <td>0</td>\n",
              "    </tr>\n",
              "    <tr>\n",
              "      <th>103099</th>\n",
              "      <td>0</td>\n",
              "      <td>0.0</td>\n",
              "      <td>0</td>\n",
              "      <td>0</td>\n",
              "      <td>0</td>\n",
              "      <td>0</td>\n",
              "      <td>0</td>\n",
              "      <td>0</td>\n",
              "      <td>0</td>\n",
              "      <td>1</td>\n",
              "      <td>...</td>\n",
              "      <td>0</td>\n",
              "      <td>0</td>\n",
              "      <td>0</td>\n",
              "      <td>0</td>\n",
              "      <td>0</td>\n",
              "      <td>0</td>\n",
              "      <td>0</td>\n",
              "      <td>0</td>\n",
              "      <td>0</td>\n",
              "      <td>0</td>\n",
              "    </tr>\n",
              "    <tr>\n",
              "      <th>103100</th>\n",
              "      <td>0</td>\n",
              "      <td>0.0</td>\n",
              "      <td>1</td>\n",
              "      <td>0</td>\n",
              "      <td>0</td>\n",
              "      <td>0</td>\n",
              "      <td>0</td>\n",
              "      <td>0</td>\n",
              "      <td>0</td>\n",
              "      <td>0</td>\n",
              "      <td>...</td>\n",
              "      <td>0</td>\n",
              "      <td>0</td>\n",
              "      <td>0</td>\n",
              "      <td>0</td>\n",
              "      <td>0</td>\n",
              "      <td>0</td>\n",
              "      <td>0</td>\n",
              "      <td>0</td>\n",
              "      <td>0</td>\n",
              "      <td>0</td>\n",
              "    </tr>\n",
              "    <tr>\n",
              "      <th>103101</th>\n",
              "      <td>0</td>\n",
              "      <td>0.0</td>\n",
              "      <td>0</td>\n",
              "      <td>0</td>\n",
              "      <td>0</td>\n",
              "      <td>0</td>\n",
              "      <td>0</td>\n",
              "      <td>0</td>\n",
              "      <td>0</td>\n",
              "      <td>0</td>\n",
              "      <td>...</td>\n",
              "      <td>0</td>\n",
              "      <td>0</td>\n",
              "      <td>0</td>\n",
              "      <td>0</td>\n",
              "      <td>0</td>\n",
              "      <td>0</td>\n",
              "      <td>0</td>\n",
              "      <td>0</td>\n",
              "      <td>0</td>\n",
              "      <td>0</td>\n",
              "    </tr>\n",
              "  </tbody>\n",
              "</table>\n",
              "<p>103102 rows × 2020 columns</p>\n",
              "</div>"
            ],
            "text/plain": [
              "        num_features  cable_length  Brand_0  Brand_1  Brand_2  Brand_3  \\\n",
              "0                  1         150.0        1        0        0        0   \n",
              "1                  3         304.8        0        0        0        0   \n",
              "2                  2         150.0        1        0        0        0   \n",
              "3                  0           0.0        1        0        0        0   \n",
              "4                  4         300.0        0        0        0        0   \n",
              "...              ...           ...      ...      ...      ...      ...   \n",
              "103097             0           0.0        0        0        1        0   \n",
              "103098             0           0.0        1        0        0        0   \n",
              "103099             0           0.0        0        0        0        0   \n",
              "103100             0           0.0        1        0        0        0   \n",
              "103101             0           0.0        0        0        0        0   \n",
              "\n",
              "        Brand_4  Brand_5  Brand_6  Brand_7  ...  category_170  category_171  \\\n",
              "0             0        0        0        0  ...             0             0   \n",
              "1             0        0        0        0  ...             0             0   \n",
              "2             0        0        0        0  ...             0             0   \n",
              "3             0        0        0        0  ...             0             0   \n",
              "4             0        0        0        0  ...             0             0   \n",
              "...         ...      ...      ...      ...  ...           ...           ...   \n",
              "103097        0        0        0        0  ...             0             0   \n",
              "103098        0        0        0        0  ...             0             0   \n",
              "103099        0        0        0        1  ...             0             0   \n",
              "103100        0        0        0        0  ...             0             0   \n",
              "103101        0        0        0        0  ...             0             0   \n",
              "\n",
              "        category_172  category_173  category_174  category_175  category_176  \\\n",
              "0                  0             0             0             0             0   \n",
              "1                  0             0             0             0             0   \n",
              "2                  0             0             0             0             0   \n",
              "3                  0             0             0             0             0   \n",
              "4                  0             0             0             0             0   \n",
              "...              ...           ...           ...           ...           ...   \n",
              "103097             0             0             0             0             0   \n",
              "103098             0             0             0             0             0   \n",
              "103099             0             0             0             0             0   \n",
              "103100             0             0             0             0             0   \n",
              "103101             0             0             0             0             0   \n",
              "\n",
              "        category_177  category_178  category_179  \n",
              "0                  0             0             1  \n",
              "1                  0             0             1  \n",
              "2                  0             0             1  \n",
              "3                  0             0             1  \n",
              "4                  0             0             1  \n",
              "...              ...           ...           ...  \n",
              "103097             0             0             0  \n",
              "103098             0             0             0  \n",
              "103099             0             0             0  \n",
              "103100             0             0             0  \n",
              "103101             0             0             0  \n",
              "\n",
              "[103102 rows x 2020 columns]"
            ]
          },
          "execution_count": 17,
          "metadata": {},
          "output_type": "execute_result"
        }
      ],
      "source": [
        "y = pd.get_dummies(train_test_df, columns=['brand', 'category'], prefix=['Brand', 'category']).drop(columns = [\"id\", \"price\", \"product_description\", 'keys'])\n",
        "y"
      ]
    },
    {
      "cell_type": "code",
      "execution_count": 21,
      "metadata": {},
      "outputs": [],
      "source": [
        "from scipy import sparse\n",
        "\n",
        "y = sparse.csr_matrix(y.values)\n",
        "x_train = y[0:68840]\n",
        "x_test = y[68840:]"
      ]
    },
    {
      "cell_type": "code",
      "execution_count": 18,
      "metadata": {
        "id": "7S6p4ChLyfxl"
      },
      "outputs": [],
      "source": [
        "from sklearn.linear_model import LogisticRegression\n",
        "from sklearn.svm import SVC\n",
        "from sklearn.ensemble import RandomForestClassifier\n",
        "from sklearn.ensemble import GradientBoostingClassifier\n",
        "from sklearn.pipeline import Pipeline\n",
        "from sklearn.model_selection import GridSearchCV, RandomizedSearchCV\n",
        "from sklearn.model_selection import train_test_split\n",
        "from sklearn.tree import DecisionTreeClassifier\n",
        "from sklearn.naive_bayes import MultinomialNB\n",
        "from sklearn.neighbors import KNeighborsClassifier\n",
        "from sklearn.model_selection import train_test_split\n",
        "from sklearn.model_selection import GridSearchCV\n",
        "from sklearn.ensemble import GradientBoostingRegressor\n",
        "from sklearn.metrics import *\n",
        "from sklearn.pipeline import Pipeline\n",
        "from sklearn.preprocessing import StandardScaler\n"
      ]
    },
    {
      "cell_type": "code",
      "execution_count": null,
      "metadata": {
        "id": "TJ-EDev40and"
      },
      "outputs": [],
      "source": [
        "GBR = GradientBoostingRegressor()\n",
        "parameters = {'learning_rate': [0.01,0.02,0.03,0.04],\n",
        "                  'subsample'    : [0.9, 0.5, 0.2, 0.1],\n",
        "                  'n_estimators' : [100,500,1000, 1500],\n",
        "                  'max_depth'    : [4,6,8,10]\n",
        "                 }\n",
        "                 "
      ]
    },
    {
      "cell_type": "code",
      "execution_count": null,
      "metadata": {
        "id": "mPfLGN93Mw5x"
      },
      "outputs": [],
      "source": [
        "pipe = Pipeline(steps=[('Scalar', StandardScaler()), ('SVM', SVC())])\n",
        "\n",
        "param_grid = {'SVM__C': [0.1],\n",
        "              'SVM__gamma': [1],\n",
        "              'SVM__kernel': ['rbf']}\n",
        " "
      ]
    },
    {
      "cell_type": "code",
      "execution_count": 14,
      "metadata": {
        "id": "9V1vkDQq1bqX"
      },
      "outputs": [],
      "source": [
        "x_train = y.loc[0:68839].values\n",
        "x_test = y.loc[68840:].values"
      ]
    },
    {
      "cell_type": "code",
      "execution_count": null,
      "metadata": {
        "id": "c1cSNR50eSb_"
      },
      "outputs": [],
      "source": [
        "svc_model = SVC(C=1, kernel=\"rbf\", gamma=\"scale\")\n",
        "svc_model.fit(x_train, price_y)"
      ]
    },
    {
      "cell_type": "code",
      "execution_count": null,
      "metadata": {
        "id": "zcbNVQaee0I2"
      },
      "outputs": [],
      "source": [
        "from sklearn.metrics import classification_report, confusion_matrix\n",
        "predictions = model.predict(x_train)\n",
        "print(classification_report(price_y, predictions))"
      ]
    },
    {
      "cell_type": "code",
      "execution_count": null,
      "metadata": {
        "id": "gshmc4Hg1jpk"
      },
      "outputs": [],
      "source": [
        "grid = GridSearchCV(pipe, param_grid, cv = 4, verbose = 3, n_jobs = -1)\n",
        "grid.fit(x_train, price_y.values)"
      ]
    },
    {
      "cell_type": "code",
      "execution_count": null,
      "metadata": {
        "id": "ECoTwYLe1Vv7"
      },
      "outputs": [],
      "source": [
        "print(\" Results from Grid Search \" )\n",
        "print(\"\\n The best estimator across ALL searched params:\\n\",grid.best_estimator_)\n",
        "print(\"\\n The best score across ALL searched params:\\n\",grid.best_score_)\n",
        "print(\"\\n The best parameters across ALL searched params:\\n\",grid.best_params_)"
      ]
    },
    {
      "cell_type": "code",
      "execution_count": null,
      "metadata": {
        "id": "8X1fQzbT083J"
      },
      "outputs": [],
      "source": [
        "grid_GBR = GridSearchCV(estimator=GBR, param_grid = parameters, cv = 2, n_jobs=-1, verbose = 3)\n",
        "grid_GBR.fit(x_train, price_y)"
      ]
    },
    {
      "cell_type": "code",
      "execution_count": 19,
      "metadata": {
        "id": "xxMbgb5RQfVd"
      },
      "outputs": [],
      "source": [
        "from sklearn.model_selection import train_test_split\n",
        "import sklearn\n",
        "import seaborn as sns"
      ]
    },
    {
      "cell_type": "code",
      "execution_count": 22,
      "metadata": {
        "id": "gfw9gnxznIZT"
      },
      "outputs": [],
      "source": [
        "train_X, test_X, train_y, test_y = train_test_split(x_train, price_y, test_size=0.10, random_state=0)\n"
      ]
    },
    {
      "cell_type": "code",
      "execution_count": 24,
      "metadata": {
        "id": "qPdppREk12uX"
      },
      "outputs": [],
      "source": [
        "from sklearn.preprocessing import StandardScaler\n",
        "sc = StandardScaler(with_mean=False)\n",
        " \n",
        "\n",
        "X_train = sc.fit_transform(train_X)\n",
        "X_test = sc.transform(test_X)"
      ]
    },
    {
      "cell_type": "code",
      "execution_count": null,
      "metadata": {
        "id": "t_U3pjbs16WY"
      },
      "outputs": [],
      "source": [
        "from sklearn.decomposition import PCA\n",
        " \n",
        "pca = PCA(n_components = 20)\n",
        " \n",
        "X_train = pca.fit_transform(train_X)\n",
        "X_test = pca.transform(test_X)\n",
        " \n",
        "explained_variance = pca.explained_variance_ratio_"
      ]
    },
    {
      "cell_type": "code",
      "execution_count": null,
      "metadata": {
        "colab": {
          "base_uri": "https://localhost:8080/"
        },
        "id": "Kq9ALjir2US1",
        "outputId": "3f98c841-02b5-4330-e695-0f46623b0b2e"
      },
      "outputs": [
        {
          "data": {
            "text/plain": [
              "array([0.0559374 , 0.05544951, 0.05511998, 0.05287868, 0.05104168,\n",
              "       0.05087531, 0.05054775, 0.05042241, 0.05019751, 0.0499501 ,\n",
              "       0.04920638, 0.04893961, 0.0485314 , 0.04816392, 0.04795232,\n",
              "       0.04741729, 0.04724052, 0.04705785, 0.04664254, 0.04642784])"
            ]
          },
          "execution_count": 43,
          "metadata": {},
          "output_type": "execute_result"
        }
      ],
      "source": [
        "explained_variance"
      ]
    },
    {
      "cell_type": "code",
      "execution_count": 40,
      "metadata": {
        "colab": {
          "base_uri": "https://localhost:8080/"
        },
        "id": "zZJNfxYbBs5V",
        "outputId": "b749fc6f-dafd-4f07-ed8b-09e9e6ad175b"
      },
      "outputs": [
        {
          "data": {
            "text/plain": [
              "RandomForestRegressor(random_state=0)"
            ]
          },
          "execution_count": 40,
          "metadata": {},
          "output_type": "execute_result"
        }
      ],
      "source": [
        "from sklearn.ensemble import RandomForestRegressor\n",
        " \n",
        " # create regressor object\n",
        "model = RandomForestRegressor(n_estimators = 100, random_state = 0)\n",
        " \n",
        "# fit the regressor with x and y data\n",
        "model.fit(train_X, train_y) "
      ]
    },
    {
      "cell_type": "code",
      "execution_count": 28,
      "metadata": {
        "id": "sZZDyJR6OuwY"
      },
      "outputs": [],
      "source": [
        "from sklearn.svm import SVR\n",
        "model = SVR(kernel=\"rbf\", C=100, gamma=0.1, epsilon=0.1).fit(X_train, train_y) "
      ]
    },
    {
      "cell_type": "code",
      "execution_count": null,
      "metadata": {
        "id": "4rA4pulUALiz"
      },
      "outputs": [],
      "source": [
        "from sklearn.gaussian_process.kernels import RBF\n",
        "from sklearn.gaussian_process import GaussianProcessClassifier\n",
        "\n",
        "# Definition of the Radial Basis Function (RBF) as kernel\n",
        "kernel = RBF( length_scale=1.0 , length_scale_bounds=(0.1, 10.0))\n",
        "\n",
        "# Train Gaussian Process\n",
        "model = GaussianProcessClassifier(kernel=kernel, random_state=0).fit(train_X, train_y)"
      ]
    },
    {
      "cell_type": "code",
      "execution_count": 19,
      "metadata": {
        "colab": {
          "base_uri": "https://localhost:8080/"
        },
        "id": "at9JKjyL_dfs",
        "outputId": "783220dc-65e9-4977-f357-a90cce2e98b3"
      },
      "outputs": [
        {
          "data": {
            "text/plain": [
              "DecisionTreeRegressor(max_depth=500)"
            ]
          },
          "execution_count": 19,
          "metadata": {},
          "output_type": "execute_result"
        }
      ],
      "source": [
        "from sklearn.tree import DecisionTreeRegressor\n",
        "\n",
        "# Build decision tree\n",
        "model=DecisionTreeRegressor(max_depth=500)\n",
        "model.fit(X_train,train_y)"
      ]
    },
    {
      "cell_type": "code",
      "execution_count": null,
      "metadata": {
        "id": "jaAAX7eZ2V2r"
      },
      "outputs": [],
      "source": [
        "from sklearn.linear_model import LinearRegression \n",
        "\n",
        "from sklearn.preprocessing import PolynomialFeatures\n",
        "from sklearn.pipeline import Pipeline\n",
        "\n",
        "# define the pipeline and train model\n",
        "model = Pipeline([('poly', PolynomialFeatures(degree=3)),\n",
        "                  ('linear', LinearRegression(fit_intercept=False))])\n",
        "                  \n",
        "model.fit(X_train, train_y.values)\n",
        "\n",
        "# print out regression coefficients\n",
        "print(model.named_steps['linear'].coef_)    \n",
        "print(model.named_steps['linear'].intercept_)  "
      ]
    },
    {
      "cell_type": "code",
      "execution_count": 31,
      "metadata": {},
      "outputs": [
        {
          "data": {
            "text/plain": [
              "KNeighborsRegressor()"
            ]
          },
          "execution_count": 31,
          "metadata": {},
          "output_type": "execute_result"
        }
      ],
      "source": [
        "from sklearn.neighbors import KNeighborsRegressor\n",
        "model = KNeighborsRegressor(n_neighbors=5)\n",
        "model.fit(X_train,train_y)"
      ]
    },
    {
      "cell_type": "code",
      "execution_count": 32,
      "metadata": {
        "id": "Go9SJPwc5Ikq"
      },
      "outputs": [],
      "source": [
        "y_pred = model.predict(X_train)"
      ]
    },
    {
      "cell_type": "code",
      "execution_count": 33,
      "metadata": {
        "colab": {
          "base_uri": "https://localhost:8080/"
        },
        "id": "o5yWZndP5QsV",
        "outputId": "b42408a9-214b-4656-a652-afb3cfdd6431"
      },
      "outputs": [
        {
          "name": "stdout",
          "output_type": "stream",
          "text": [
            "MAE 8815582.240583641\n",
            "MAPE 1.2823367300802732e+20\n"
          ]
        }
      ],
      "source": [
        "from sklearn.metrics import mean_absolute_error, mean_absolute_percentage_error\n",
        "print(\"MAE\",mean_absolute_error(train_y,y_pred))\n",
        "print(\"MAPE\",mean_absolute_percentage_error(train_y, y_pred))\n"
      ]
    },
    {
      "cell_type": "code",
      "execution_count": 30,
      "metadata": {},
      "outputs": [
        {
          "name": "stdout",
          "output_type": "stream",
          "text": [
            "MAE 15062835.698862353\n",
            "MAPE 1.66046490334853e+19\n"
          ]
        }
      ],
      "source": [
        "from sklearn.metrics import mean_absolute_error, mean_absolute_percentage_error\n",
        "print(\"MAE\",mean_absolute_error(train_y,y_pred))\n",
        "print(\"MAPE\",mean_absolute_percentage_error(train_y, y_pred))\n"
      ]
    },
    {
      "cell_type": "code",
      "execution_count": null,
      "metadata": {
        "colab": {
          "base_uri": "https://localhost:8080/"
        },
        "id": "4OzB5xR89xgM",
        "outputId": "691170cf-13a7-4a60-ee29-b8ec08fe23ef"
      },
      "outputs": [
        {
          "data": {
            "text/plain": [
              "array([  550000,   950000,  5900000, ...,   475000, 91200000,  7995000])"
            ]
          },
          "execution_count": 47,
          "metadata": {},
          "output_type": "execute_result"
        }
      ],
      "source": [
        "test_y.values"
      ]
    },
    {
      "cell_type": "code",
      "execution_count": null,
      "metadata": {
        "colab": {
          "base_uri": "https://localhost:8080/"
        },
        "id": "SjDs1w5m9In4",
        "outputId": "1d6a7a84-f77d-4603-b2fd-2eee20787957"
      },
      "outputs": [
        {
          "name": "stdout",
          "output_type": "stream",
          "text": [
            "MAPE inf\n"
          ]
        },
        {
          "name": "stderr",
          "output_type": "stream",
          "text": [
            "/usr/local/lib/python3.7/dist-packages/ipykernel_launcher.py:13: RuntimeWarning: divide by zero encountered in true_divide\n",
            "  del sys.path[0]\n"
          ]
        }
      ],
      "source": [
        "import numpy as np\n",
        "def calculate_mape(actual, predicted):\n",
        "  \n",
        "    # Convert actual and predicted\n",
        "    # to numpy array data type if not already\n",
        "    if not all([isinstance(actual, np.ndarray),\n",
        "                isinstance(predicted, np.ndarray)]):\n",
        "        actual, predicted = np.array(actual), \n",
        "        np.array(predicted)\n",
        "  \n",
        "    # Calculate the MAPE value and return\n",
        "    return round(np.mean(np.abs((\n",
        "      actual - predicted) / actual)) * 100, 2)\n",
        "print(\"MAPE\",calculate_mape(test_y.values,y_pred))\n"
      ]
    },
    {
      "cell_type": "code",
      "execution_count": null,
      "metadata": {
        "id": "4JVGAmMN6rwe"
      },
      "outputs": [],
      "source": [
        "model1.predict(train_X)"
      ]
    },
    {
      "cell_type": "code",
      "execution_count": null,
      "metadata": {
        "id": "WLeXS0aD4cTi"
      },
      "outputs": [],
      "source": [
        "out_x = pca.transform(sc.transform(y.loc[68840:].values))"
      ]
    },
    {
      "cell_type": "code",
      "execution_count": 24,
      "metadata": {
        "colab": {
          "base_uri": "https://localhost:8080/",
          "height": 165
        },
        "id": "rQsXkRErNQnE",
        "outputId": "4d293e59-f7c3-46d7-8857-e93dceee685f"
      },
      "outputs": [
        {
          "ename": "NameError",
          "evalue": "ignored",
          "output_type": "error",
          "traceback": [
            "\u001b[0;31m---------------------------------------------------------------------------\u001b[0m",
            "\u001b[0;31mNameError\u001b[0m                                 Traceback (most recent call last)",
            "\u001b[0;32m<ipython-input-24-f268b4873098>\u001b[0m in \u001b[0;36m<module>\u001b[0;34m()\u001b[0m\n\u001b[0;32m----> 1\u001b[0;31m \u001b[0mout_x\u001b[0m \u001b[0;34m=\u001b[0m \u001b[0mpca\u001b[0m\u001b[0;34m.\u001b[0m\u001b[0mtransform\u001b[0m\u001b[0;34m(\u001b[0m\u001b[0my\u001b[0m\u001b[0;34m.\u001b[0m\u001b[0mloc\u001b[0m\u001b[0;34m[\u001b[0m\u001b[0;36m68840\u001b[0m\u001b[0;34m:\u001b[0m\u001b[0;34m]\u001b[0m\u001b[0;34m.\u001b[0m\u001b[0mvalues\u001b[0m\u001b[0;34m)\u001b[0m\u001b[0;34m\u001b[0m\u001b[0;34m\u001b[0m\u001b[0m\n\u001b[0m",
            "\u001b[0;31mNameError\u001b[0m: name 'pca' is not defined"
          ]
        }
      ],
      "source": [
        "out_x = pca.transform(y.loc[68840:].values)"
      ]
    },
    {
      "cell_type": "code",
      "execution_count": 28,
      "metadata": {
        "id": "Gz4CcPFk2cNW"
      },
      "outputs": [],
      "source": [
        "out_y = model1.predict(sc.transform(y.loc[68840:].values))"
      ]
    },
    {
      "cell_type": "code",
      "execution_count": 29,
      "metadata": {
        "colab": {
          "base_uri": "https://localhost:8080/"
        },
        "id": "crHcj_y0V8HY",
        "outputId": "aea90a4a-f203-49a1-9e78-b5072e8c9e2e"
      },
      "outputs": [
        {
          "data": {
            "text/plain": [
              "array([[10662854. ],\n",
              "       [10662854. ],\n",
              "       [31890016. ],\n",
              "       ...,\n",
              "       [ 3615313. ],\n",
              "       [ 3616690.5],\n",
              "       [ 3635155.2]], dtype=float32)"
            ]
          },
          "execution_count": 29,
          "metadata": {},
          "output_type": "execute_result"
        }
      ],
      "source": [
        "out_y"
      ]
    },
    {
      "cell_type": "code",
      "execution_count": 55,
      "metadata": {
        "id": "FZoTm06X7Rgx"
      },
      "outputs": [],
      "source": [
        "out_y = [x[0] for x in out_y]"
      ]
    },
    {
      "cell_type": "code",
      "execution_count": 52,
      "metadata": {
        "id": "bg895CKg8b3u"
      },
      "outputs": [],
      "source": [
        "data = {\"id\": test_df[\"id\"], \"price\":out_y}\n",
        "df_out = pd.DataFrame(data)\n",
        "\n",
        "df_out.to_csv(\"output.csv\", index= False)"
      ]
    },
    {
      "cell_type": "code",
      "execution_count": null,
      "metadata": {
        "colab": {
          "base_uri": "https://localhost:8080/"
        },
        "id": "kMqJvNXNnVJ-",
        "outputId": "87c42bbf-0018-4949-d1bf-151dde54e4de"
      },
      "outputs": [
        {
          "name": "stdout",
          "output_type": "stream",
          "text": [
            "torch.Size([61956, 2018]) torch.Size([61956])\n"
          ]
        }
      ],
      "source": [
        "tensor_X = torch.from_numpy(train_X).float() \n",
        "tensor_y = torch.from_numpy(train_y.values).float() \n",
        "print(tensor_X.shape, tensor_y.shape)"
      ]
    },
    {
      "cell_type": "code",
      "execution_count": null,
      "metadata": {
        "colab": {
          "base_uri": "https://localhost:8080/"
        },
        "id": "U3V8t70VnXkX",
        "outputId": "13013b61-9093-42e7-9544-d3afd18eb610"
      },
      "outputs": [
        {
          "name": "stdout",
          "output_type": "stream",
          "text": [
            "torch.Size([61956, 2018]) torch.Size([61956, 1])\n"
          ]
        }
      ],
      "source": [
        "tensor_y = tensor_y.unsqueeze(1)\n",
        "print(tensor_X.shape, tensor_y.shape)"
      ]
    },
    {
      "cell_type": "code",
      "execution_count": null,
      "metadata": {
        "id": "jKBLcvX_nnfA"
      },
      "outputs": [],
      "source": [
        "torch_dataset = Data.TensorDataset(tensor_X, tensor_y)\n"
      ]
    },
    {
      "cell_type": "code",
      "execution_count": null,
      "metadata": {
        "id": "ZMAxKtCcnzRb"
      },
      "outputs": [],
      "source": [
        "batch = 16"
      ]
    },
    {
      "cell_type": "code",
      "execution_count": null,
      "metadata": {
        "id": "-37nGtSxn2EI"
      },
      "outputs": [],
      "source": [
        "loader = Data.DataLoader(\n",
        "    dataset = torch_dataset,      # torch TensorDataset format\n",
        "    batch_size = batch,           # mini batch size\n",
        "    shuffle=True,                 # random shuffle for training\n",
        "    num_workers=2,                # subprocesses for loading data\n",
        ")"
      ]
    },
    {
      "cell_type": "code",
      "execution_count": null,
      "metadata": {
        "id": "ieslTm6Un4JA"
      },
      "outputs": [],
      "source": [
        "model = nn.Sequential(nn.Linear(2018, 1024), # first layer\n",
        "   nn.ReLU(),\n",
        "   nn.Linear(1024, 256), # second layer\n",
        "   nn.ReLU(),\n",
        "   nn.Linear(256, 32), # third layer\n",
        "   nn.ReLU(),\n",
        "   nn.Linear(32, 1)   # fourth layer\n",
        "   )\n",
        "model = model.cuda() "
      ]
    },
    {
      "cell_type": "code",
      "execution_count": null,
      "metadata": {
        "id": "WUHvtZISoIJx"
      },
      "outputs": [],
      "source": [
        "optimizer = torch.optim.Adam(model.parameters(), lr=0.000000001)\n",
        "loss_function = torch.nn.MSELoss()"
      ]
    },
    {
      "cell_type": "code",
      "execution_count": null,
      "metadata": {
        "id": "szEfFtc-oLUA"
      },
      "outputs": [],
      "source": [
        "loss_lst = []\n",
        "for epoch in range(1, 5):\n",
        "    batch = 1\n",
        "    print(\"Epoch\", epoch)\n",
        "    for step, (batch_x, batch_y) in enumerate(loader): \n",
        "        var_X, var_y = Variable(batch_x.cuda()), Variable(batch_y.cuda())\n",
        "        prediction = model(var_X)\n",
        "        rmse_loss = loss_function(prediction, var_y)\n",
        "\n",
        "        optimizer.zero_grad()\n",
        "        rmse_loss.backward()\n",
        "        optimizer.step()\n",
        "        \n",
        "        loss_lst.append(float(rmse_loss))\n",
        "        print(\"Batch: \", batch, \", loss: \", rmse_loss)\n",
        "        batch += 1\n",
        "    print(\"Result of the last epoch's batch: \", rmse_loss)\n",
        "    print(' ')"
      ]
    },
    {
      "cell_type": "code",
      "execution_count": null,
      "metadata": {
        "id": "vCBNzdskwQ6C"
      },
      "outputs": [],
      "source": [
        "import time\n",
        "from timeit import Timer as timer"
      ]
    },
    {
      "cell_type": "code",
      "execution_count": 23,
      "metadata": {
        "id": "UlYEv3OgoeKX"
      },
      "outputs": [],
      "source": [
        "def run_model1(X_train, y_train, X_valid, y_valid):\n",
        "    '''- returns an MLP model trained on tfidf vectorized sparse input.\n",
        "    - Does not perform best on binarized input.\n",
        "    - Uses Adam optimizer with constant learning rate. \n",
        "    - trains 2 epochs, Batch size is doubled at every epoch to speed up the optimization'''\n",
        "\n",
        "    model_in = ks.Input(shape=(X_train.shape[1],), dtype='float32', sparse=True)\n",
        "    out = ks.layers.Dense(256, activation='relu')(model_in)\n",
        "    # out = ks.layers.Dropout(0.1)(out)     ## performance is better without dropouts\n",
        "    out = ks.layers.Dense(128, activation='relu')(out)\n",
        "    # out = ks.layers.Dropout(0.1)(out)\n",
        "    out = ks.layers.Dense(64, activation='relu')(out)\n",
        "    # out = ks.layers.Dropout(0.2)(out)\n",
        "    out = ks.layers.Dense(32, activation='relu')(out)\n",
        "    out = ks.layers.Dense(1)(out)\n",
        "    model = ks.Model(model_in, out)\n",
        "    \n",
        "    #mean_absolute_percentage_error\n",
        "    model.compile(loss='mean_squared_error', optimizer=ks.optimizers.Adam(learning_rate=3e-3))\n",
        "    \n",
        "    \n",
        "    return model"
      ]
    },
    {
      "cell_type": "code",
      "execution_count": 22,
      "metadata": {
        "id": "jziapQLgvZ6c"
      },
      "outputs": [],
      "source": [
        "from tensorflow import keras as ks\n",
        "import pandas as pd\n",
        "import numpy as np\n",
        "import scipy\n",
        "import tensorflow as tf\n",
        "from keras.models import load_model\n",
        "\n",
        "from sklearn.preprocessing import OneHotEncoder\n",
        "from sklearn.feature_extraction.text import TfidfVectorizer as Tfidf\n",
        "\n",
        "\n",
        "from scipy.sparse import hstack\n",
        "from sklearn.preprocessing import StandardScaler\n",
        "from sklearn.metrics import mean_squared_log_error as msle\n",
        "from sklearn.model_selection import KFold"
      ]
    },
    {
      "cell_type": "code",
      "execution_count": 46,
      "metadata": {
        "id": "evJS3-CUcPEi"
      },
      "outputs": [],
      "source": [
        "ks.backend.set_epsilon(1)"
      ]
    },
    {
      "cell_type": "code",
      "execution_count": null,
      "metadata": {
        "id": "Jqk9U2ApinjV"
      },
      "outputs": [],
      "source": []
    },
    {
      "cell_type": "code",
      "execution_count": 24,
      "metadata": {
        "id": "xxYkDl0TveUm"
      },
      "outputs": [],
      "source": [
        "model1 = run_model1(X_train, np.array(train_y, dtype='float32'), test_X, np.array(test_y, dtype='float32'))"
      ]
    },
    {
      "cell_type": "code",
      "execution_count": 25,
      "metadata": {
        "colab": {
          "base_uri": "https://localhost:8080/"
        },
        "id": "lmctBosYv1mT",
        "outputId": "8cd5e069-8ea1-469d-9f34-51a8e531fbcf"
      },
      "outputs": [
        {
          "name": "stdout",
          "output_type": "stream",
          "text": [
            "Epoch 1/50\n",
            "969/969 [==============================] - 6s 4ms/step - loss: 4102577994072064.0000 - val_loss: 5329401042436096.0000\n",
            "Epoch 2/50\n",
            "969/969 [==============================] - 4s 4ms/step - loss: 4022512019046400.0000 - val_loss: 5329298500091904.0000\n",
            "Epoch 3/50\n",
            "969/969 [==============================] - 4s 4ms/step - loss: 4020857919766528.0000 - val_loss: 5308732586065920.0000\n",
            "Epoch 4/50\n",
            "969/969 [==============================] - 4s 4ms/step - loss: 4018940485304320.0000 - val_loss: 5316325551374336.0000\n",
            "Epoch 5/50\n",
            "969/969 [==============================] - 4s 4ms/step - loss: 4017448252604416.0000 - val_loss: 5326540594216960.0000\n",
            "Epoch 6/50\n",
            "969/969 [==============================] - 4s 4ms/step - loss: 4017120224477184.0000 - val_loss: 5334930275958784.0000\n",
            "Epoch 7/50\n",
            "969/969 [==============================] - 4s 4ms/step - loss: 4013151674695680.0000 - val_loss: 5323536264593408.0000\n",
            "Epoch 8/50\n",
            "969/969 [==============================] - 4s 4ms/step - loss: 4008381845078016.0000 - val_loss: 5301973381283840.0000\n",
            "Epoch 9/50\n",
            "969/969 [==============================] - 4s 4ms/step - loss: 4002623904546816.0000 - val_loss: 5313726559289344.0000\n",
            "Epoch 10/50\n",
            "969/969 [==============================] - 4s 4ms/step - loss: 3994096515416064.0000 - val_loss: 5294122717937664.0000\n",
            "Epoch 11/50\n",
            "969/969 [==============================] - 4s 4ms/step - loss: 3986398323408896.0000 - val_loss: 5281585171529728.0000\n",
            "Epoch 12/50\n",
            "969/969 [==============================] - 5s 5ms/step - loss: 3979121575067648.0000 - val_loss: 5274000259284992.0000\n",
            "Epoch 13/50\n",
            "969/969 [==============================] - 4s 4ms/step - loss: 3969084236496896.0000 - val_loss: 5275079369818112.0000\n",
            "Epoch 14/50\n",
            "969/969 [==============================] - 4s 4ms/step - loss: 3963004173418496.0000 - val_loss: 5255476065337344.0000\n",
            "Epoch 15/50\n",
            "969/969 [==============================] - 4s 4ms/step - loss: 3955800976392192.0000 - val_loss: 5249459353026560.0000\n",
            "Epoch 16/50\n",
            "969/969 [==============================] - 4s 4ms/step - loss: 3950358984392704.0000 - val_loss: 5268147292602368.0000\n",
            "Epoch 17/50\n",
            "969/969 [==============================] - 4s 4ms/step - loss: 3944543061803008.0000 - val_loss: 5275682812723200.0000\n",
            "Epoch 18/50\n",
            "969/969 [==============================] - 4s 4ms/step - loss: 3942903458037760.0000 - val_loss: 5239490733932544.0000\n",
            "Epoch 19/50\n",
            "969/969 [==============================] - 4s 4ms/step - loss: 3938462461853696.0000 - val_loss: 5251908558127104.0000\n",
            "Epoch 20/50\n",
            "969/969 [==============================] - 4s 4ms/step - loss: 3935486854823936.0000 - val_loss: 5237015222157312.0000\n",
            "Epoch 21/50\n",
            "969/969 [==============================] - 4s 4ms/step - loss: 3932898331721728.0000 - val_loss: 5230917979209728.0000\n",
            "Epoch 22/50\n",
            "969/969 [==============================] - 4s 4ms/step - loss: 3930182570213376.0000 - val_loss: 5219203455909888.0000\n",
            "Epoch 23/50\n",
            "969/969 [==============================] - 4s 4ms/step - loss: 3930686691999744.0000 - val_loss: 5252128138330112.0000\n",
            "Epoch 24/50\n",
            "969/969 [==============================] - 4s 4ms/step - loss: 3929251904487424.0000 - val_loss: 5231524106469376.0000\n",
            "Epoch 25/50\n",
            "969/969 [==============================] - 4s 4ms/step - loss: 3928385663270912.0000 - val_loss: 5243157025390592.0000\n",
            "Epoch 26/50\n",
            "969/969 [==============================] - 4s 4ms/step - loss: 3926891014651904.0000 - val_loss: 5232248882200576.0000\n",
            "Epoch 27/50\n",
            "969/969 [==============================] - 4s 4ms/step - loss: 3926856654913536.0000 - val_loss: 5254544057434112.0000\n",
            "Epoch 28/50\n",
            "969/969 [==============================] - 4s 4ms/step - loss: 3926888330297344.0000 - val_loss: 5216761767002112.0000\n",
            "Epoch 29/50\n",
            "969/969 [==============================] - 4s 4ms/step - loss: 3923222844145664.0000 - val_loss: 5227276383813632.0000\n",
            "Epoch 30/50\n",
            "969/969 [==============================] - 4s 4ms/step - loss: 3924759100260352.0000 - val_loss: 5217088184516608.0000\n",
            "Epoch 31/50\n",
            "969/969 [==============================] - 4s 4ms/step - loss: 3922860456280064.0000 - val_loss: 5220694346432512.0000\n",
            "Epoch 32/50\n",
            "969/969 [==============================] - 4s 4ms/step - loss: 3920317567205376.0000 - val_loss: 5218921598681088.0000\n",
            "Epoch 33/50\n",
            "969/969 [==============================] - 4s 4ms/step - loss: 3915976160575488.0000 - val_loss: 5195763671891968.0000\n",
            "Epoch 34/50\n",
            "969/969 [==============================] - 4s 4ms/step - loss: 3912675209773056.0000 - val_loss: 5214128952049664.0000\n",
            "Epoch 35/50\n",
            "969/969 [==============================] - 4s 4ms/step - loss: 3905975329226752.0000 - val_loss: 5207426118713344.0000\n",
            "Epoch 36/50\n",
            "969/969 [==============================] - 4s 4ms/step - loss: 3897191852670976.0000 - val_loss: 5184062033494016.0000\n",
            "Epoch 37/50\n",
            "969/969 [==============================] - 4s 4ms/step - loss: 3885355191238656.0000 - val_loss: 5179219994738688.0000\n",
            "Epoch 38/50\n",
            "969/969 [==============================] - 4s 4ms/step - loss: 3868272764125184.0000 - val_loss: 5159779362144256.0000\n",
            "Epoch 39/50\n",
            "969/969 [==============================] - 4s 4ms/step - loss: 3841048577048576.0000 - val_loss: 5137969518215168.0000\n",
            "Epoch 40/50\n",
            "969/969 [==============================] - 4s 4ms/step - loss: 3797886571642880.0000 - val_loss: 5090527846334464.0000\n",
            "Epoch 41/50\n",
            "969/969 [==============================] - 4s 4ms/step - loss: 3723459351805952.0000 - val_loss: 4986969205506048.0000\n",
            "Epoch 42/50\n",
            "969/969 [==============================] - 4s 4ms/step - loss: 3640040349499392.0000 - val_loss: 4869710692745216.0000\n",
            "Epoch 43/50\n",
            "969/969 [==============================] - 4s 4ms/step - loss: 3537238159785984.0000 - val_loss: 4755435571642368.0000\n",
            "Epoch 44/50\n",
            "969/969 [==============================] - 5s 5ms/step - loss: 3429462397943808.0000 - val_loss: 4647492306075648.0000\n",
            "Epoch 45/50\n",
            "969/969 [==============================] - 4s 4ms/step - loss: 3331590025379840.0000 - val_loss: 4598381502529536.0000\n",
            "Epoch 46/50\n",
            "969/969 [==============================] - 4s 4ms/step - loss: 3244980399243264.0000 - val_loss: 4462767641722880.0000\n",
            "Epoch 47/50\n",
            "969/969 [==============================] - 4s 4ms/step - loss: 3175412398030848.0000 - val_loss: 4426006479765504.0000\n",
            "Epoch 48/50\n",
            "969/969 [==============================] - 4s 4ms/step - loss: 3151611568324608.0000 - val_loss: 4402409929441280.0000\n",
            "Epoch 49/50\n",
            "969/969 [==============================] - 4s 4ms/step - loss: 3113227982471168.0000 - val_loss: 4461161055518720.0000\n",
            "Epoch 50/50\n",
            "969/969 [==============================] - 4s 4ms/step - loss: 3094534674186240.0000 - val_loss: 4463461815812096.0000\n"
          ]
        },
        {
          "data": {
            "text/plain": [
              "<keras.callbacks.History at 0x7fd0202a3650>"
            ]
          },
          "execution_count": 25,
          "metadata": {},
          "output_type": "execute_result"
        }
      ],
      "source": [
        "model1.fit(x=X_train, y=np.array(train_y, dtype='float32'), batch_size=64, epochs=50, verbose=1, validation_data=(X_test, np.array(test_y, dtype='float32')))\n"
      ]
    },
    {
      "cell_type": "code",
      "execution_count": null,
      "metadata": {
        "id": "UdXhATTpyClN"
      },
      "outputs": [],
      "source": [
        "model1.predict(train_X)"
      ]
    },
    {
      "cell_type": "code",
      "execution_count": null,
      "metadata": {
        "id": "kdXFuVp1b4tZ"
      },
      "outputs": [],
      "source": []
    }
  ],
  "metadata": {
    "accelerator": "GPU",
    "colab": {
      "collapsed_sections": [],
      "name": "Q1_Q.ipynb",
      "provenance": []
    },
    "kernelspec": {
      "display_name": "Python 3",
      "name": "python3"
    },
    "language_info": {
      "codemirror_mode": {
        "name": "ipython",
        "version": 3
      },
      "file_extension": ".py",
      "mimetype": "text/x-python",
      "name": "python",
      "nbconvert_exporter": "python",
      "pygments_lexer": "ipython3",
      "version": "3.9.7"
    }
  },
  "nbformat": 4,
  "nbformat_minor": 0
}
