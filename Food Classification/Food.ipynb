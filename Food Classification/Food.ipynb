{
  "nbformat": 4,
  "nbformat_minor": 0,
  "metadata": {
    "colab": {
      "name": "Q4_C.ipynb",
      "provenance": [],
      "collapsed_sections": []
    },
    "kernelspec": {
      "name": "python3",
      "display_name": "Python 3"
    },
    "language_info": {
      "name": "python"
    },
    "accelerator": "GPU",
    "widgets": {
      "application/vnd.jupyter.widget-state+json": {
        "25bf89c96c0c45afb66a9ea2d31235d2": {
          "model_module": "@jupyter-widgets/controls",
          "model_name": "HBoxModel",
          "model_module_version": "1.5.0",
          "state": {
            "_view_name": "HBoxView",
            "_dom_classes": [],
            "_model_name": "HBoxModel",
            "_view_module": "@jupyter-widgets/controls",
            "_model_module_version": "1.5.0",
            "_view_count": null,
            "_view_module_version": "1.5.0",
            "box_style": "",
            "layout": "IPY_MODEL_83ad50d410244fceac7b02248a6e9f60",
            "_model_module": "@jupyter-widgets/controls",
            "children": [
              "IPY_MODEL_8974ee7defd14101970b203343dfafc6",
              "IPY_MODEL_c5cce5840af24629bacf43aeb1708780",
              "IPY_MODEL_c6b4f991cf514da397d09aa3164826a1"
            ]
          }
        },
        "83ad50d410244fceac7b02248a6e9f60": {
          "model_module": "@jupyter-widgets/base",
          "model_name": "LayoutModel",
          "model_module_version": "1.2.0",
          "state": {
            "_view_name": "LayoutView",
            "grid_template_rows": null,
            "right": null,
            "justify_content": null,
            "_view_module": "@jupyter-widgets/base",
            "overflow": null,
            "_model_module_version": "1.2.0",
            "_view_count": null,
            "flex_flow": null,
            "width": null,
            "min_width": null,
            "border": null,
            "align_items": null,
            "bottom": null,
            "_model_module": "@jupyter-widgets/base",
            "top": null,
            "grid_column": null,
            "overflow_y": null,
            "overflow_x": null,
            "grid_auto_flow": null,
            "grid_area": null,
            "grid_template_columns": null,
            "flex": null,
            "_model_name": "LayoutModel",
            "justify_items": null,
            "grid_row": null,
            "max_height": null,
            "align_content": null,
            "visibility": null,
            "align_self": null,
            "height": null,
            "min_height": null,
            "padding": null,
            "grid_auto_rows": null,
            "grid_gap": null,
            "max_width": null,
            "order": null,
            "_view_module_version": "1.2.0",
            "grid_template_areas": null,
            "object_position": null,
            "object_fit": null,
            "grid_auto_columns": null,
            "margin": null,
            "display": null,
            "left": null
          }
        },
        "8974ee7defd14101970b203343dfafc6": {
          "model_module": "@jupyter-widgets/controls",
          "model_name": "HTMLModel",
          "model_module_version": "1.5.0",
          "state": {
            "_view_name": "HTMLView",
            "style": "IPY_MODEL_358975289916433d8a71f598f0963c7e",
            "_dom_classes": [],
            "description": "",
            "_model_name": "HTMLModel",
            "placeholder": "​",
            "_view_module": "@jupyter-widgets/controls",
            "_model_module_version": "1.5.0",
            "value": "100%",
            "_view_count": null,
            "_view_module_version": "1.5.0",
            "description_tooltip": null,
            "_model_module": "@jupyter-widgets/controls",
            "layout": "IPY_MODEL_742bd1a0a22d4508ae7670947c2f003a"
          }
        },
        "c5cce5840af24629bacf43aeb1708780": {
          "model_module": "@jupyter-widgets/controls",
          "model_name": "FloatProgressModel",
          "model_module_version": "1.5.0",
          "state": {
            "_view_name": "ProgressView",
            "style": "IPY_MODEL_4131bea0550c405ab5e90873f72cee0f",
            "_dom_classes": [],
            "description": "",
            "_model_name": "FloatProgressModel",
            "bar_style": "success",
            "max": 266860719,
            "_view_module": "@jupyter-widgets/controls",
            "_model_module_version": "1.5.0",
            "value": 266860719,
            "_view_count": null,
            "_view_module_version": "1.5.0",
            "orientation": "horizontal",
            "min": 0,
            "description_tooltip": null,
            "_model_module": "@jupyter-widgets/controls",
            "layout": "IPY_MODEL_d925e56034094fdba2a6059871de3cb3"
          }
        },
        "c6b4f991cf514da397d09aa3164826a1": {
          "model_module": "@jupyter-widgets/controls",
          "model_name": "HTMLModel",
          "model_module_version": "1.5.0",
          "state": {
            "_view_name": "HTMLView",
            "style": "IPY_MODEL_8b06ef8b4aac4feab40c25e26b6a76c5",
            "_dom_classes": [],
            "description": "",
            "_model_name": "HTMLModel",
            "placeholder": "​",
            "_view_module": "@jupyter-widgets/controls",
            "_model_module_version": "1.5.0",
            "value": " 254M/254M [00:04&lt;00:00, 38.1MB/s]",
            "_view_count": null,
            "_view_module_version": "1.5.0",
            "description_tooltip": null,
            "_model_module": "@jupyter-widgets/controls",
            "layout": "IPY_MODEL_a873e10fcb9f41cbbf03e35a814af8b6"
          }
        },
        "358975289916433d8a71f598f0963c7e": {
          "model_module": "@jupyter-widgets/controls",
          "model_name": "DescriptionStyleModel",
          "model_module_version": "1.5.0",
          "state": {
            "_view_name": "StyleView",
            "_model_name": "DescriptionStyleModel",
            "description_width": "",
            "_view_module": "@jupyter-widgets/base",
            "_model_module_version": "1.5.0",
            "_view_count": null,
            "_view_module_version": "1.2.0",
            "_model_module": "@jupyter-widgets/controls"
          }
        },
        "742bd1a0a22d4508ae7670947c2f003a": {
          "model_module": "@jupyter-widgets/base",
          "model_name": "LayoutModel",
          "model_module_version": "1.2.0",
          "state": {
            "_view_name": "LayoutView",
            "grid_template_rows": null,
            "right": null,
            "justify_content": null,
            "_view_module": "@jupyter-widgets/base",
            "overflow": null,
            "_model_module_version": "1.2.0",
            "_view_count": null,
            "flex_flow": null,
            "width": null,
            "min_width": null,
            "border": null,
            "align_items": null,
            "bottom": null,
            "_model_module": "@jupyter-widgets/base",
            "top": null,
            "grid_column": null,
            "overflow_y": null,
            "overflow_x": null,
            "grid_auto_flow": null,
            "grid_area": null,
            "grid_template_columns": null,
            "flex": null,
            "_model_name": "LayoutModel",
            "justify_items": null,
            "grid_row": null,
            "max_height": null,
            "align_content": null,
            "visibility": null,
            "align_self": null,
            "height": null,
            "min_height": null,
            "padding": null,
            "grid_auto_rows": null,
            "grid_gap": null,
            "max_width": null,
            "order": null,
            "_view_module_version": "1.2.0",
            "grid_template_areas": null,
            "object_position": null,
            "object_fit": null,
            "grid_auto_columns": null,
            "margin": null,
            "display": null,
            "left": null
          }
        },
        "4131bea0550c405ab5e90873f72cee0f": {
          "model_module": "@jupyter-widgets/controls",
          "model_name": "ProgressStyleModel",
          "model_module_version": "1.5.0",
          "state": {
            "_view_name": "StyleView",
            "_model_name": "ProgressStyleModel",
            "description_width": "",
            "_view_module": "@jupyter-widgets/base",
            "_model_module_version": "1.5.0",
            "_view_count": null,
            "_view_module_version": "1.2.0",
            "bar_color": null,
            "_model_module": "@jupyter-widgets/controls"
          }
        },
        "d925e56034094fdba2a6059871de3cb3": {
          "model_module": "@jupyter-widgets/base",
          "model_name": "LayoutModel",
          "model_module_version": "1.2.0",
          "state": {
            "_view_name": "LayoutView",
            "grid_template_rows": null,
            "right": null,
            "justify_content": null,
            "_view_module": "@jupyter-widgets/base",
            "overflow": null,
            "_model_module_version": "1.2.0",
            "_view_count": null,
            "flex_flow": null,
            "width": null,
            "min_width": null,
            "border": null,
            "align_items": null,
            "bottom": null,
            "_model_module": "@jupyter-widgets/base",
            "top": null,
            "grid_column": null,
            "overflow_y": null,
            "overflow_x": null,
            "grid_auto_flow": null,
            "grid_area": null,
            "grid_template_columns": null,
            "flex": null,
            "_model_name": "LayoutModel",
            "justify_items": null,
            "grid_row": null,
            "max_height": null,
            "align_content": null,
            "visibility": null,
            "align_self": null,
            "height": null,
            "min_height": null,
            "padding": null,
            "grid_auto_rows": null,
            "grid_gap": null,
            "max_width": null,
            "order": null,
            "_view_module_version": "1.2.0",
            "grid_template_areas": null,
            "object_position": null,
            "object_fit": null,
            "grid_auto_columns": null,
            "margin": null,
            "display": null,
            "left": null
          }
        },
        "8b06ef8b4aac4feab40c25e26b6a76c5": {
          "model_module": "@jupyter-widgets/controls",
          "model_name": "DescriptionStyleModel",
          "model_module_version": "1.5.0",
          "state": {
            "_view_name": "StyleView",
            "_model_name": "DescriptionStyleModel",
            "description_width": "",
            "_view_module": "@jupyter-widgets/base",
            "_model_module_version": "1.5.0",
            "_view_count": null,
            "_view_module_version": "1.2.0",
            "_model_module": "@jupyter-widgets/controls"
          }
        },
        "a873e10fcb9f41cbbf03e35a814af8b6": {
          "model_module": "@jupyter-widgets/base",
          "model_name": "LayoutModel",
          "model_module_version": "1.2.0",
          "state": {
            "_view_name": "LayoutView",
            "grid_template_rows": null,
            "right": null,
            "justify_content": null,
            "_view_module": "@jupyter-widgets/base",
            "overflow": null,
            "_model_module_version": "1.2.0",
            "_view_count": null,
            "flex_flow": null,
            "width": null,
            "min_width": null,
            "border": null,
            "align_items": null,
            "bottom": null,
            "_model_module": "@jupyter-widgets/base",
            "top": null,
            "grid_column": null,
            "overflow_y": null,
            "overflow_x": null,
            "grid_auto_flow": null,
            "grid_area": null,
            "grid_template_columns": null,
            "flex": null,
            "_model_name": "LayoutModel",
            "justify_items": null,
            "grid_row": null,
            "max_height": null,
            "align_content": null,
            "visibility": null,
            "align_self": null,
            "height": null,
            "min_height": null,
            "padding": null,
            "grid_auto_rows": null,
            "grid_gap": null,
            "max_width": null,
            "order": null,
            "_view_module_version": "1.2.0",
            "grid_template_areas": null,
            "object_position": null,
            "object_fit": null,
            "grid_auto_columns": null,
            "margin": null,
            "display": null,
            "left": null
          }
        }
      }
    }
  },
  "cells": [
    {
      "cell_type": "code",
      "execution_count": null,
      "metadata": {
        "id": "9G8zeoyAg6Uk"
      },
      "outputs": [],
      "source": [
        "## import libraries\n",
        "import torch\n",
        "import torch.nn as nn\n",
        "import torch.nn.functional as F\n",
        "import torchvision\n",
        "from torchvision import models\n",
        "import torchvision.transforms as transforms"
      ]
    },
    {
      "cell_type": "code",
      "source": [
        "!pip install -U -q PyDrive \n",
        "  \n",
        "from pydrive.auth import GoogleAuth \n",
        "from pydrive.drive import GoogleDrive \n",
        "from google.colab import auth \n",
        "from oauth2client.client import GoogleCredentials \n",
        "  \n",
        "  \n",
        "# Authenticate and create the PyDrive client. \n",
        "auth.authenticate_user() \n",
        "gauth = GoogleAuth() \n",
        "gauth.credentials = GoogleCredentials.get_application_default() \n",
        "drive = GoogleDrive(gauth)"
      ],
      "metadata": {
        "id": "G8Z-80PNyhVl"
      },
      "execution_count": null,
      "outputs": []
    },
    {
      "cell_type": "code",
      "source": [
        "\n",
        "from os import path\n",
        "url = 'https://drive.google.com/file/d/1WtrFwCpNThjoQPM4U_iuE7KNg-IDpKGS/view'\n",
        "id = url.split(\"/\")[-2] \n",
        "  \n",
        "downloaded = drive.CreateFile({'id':id})  \n",
        "downloaded.GetContentFile('Food-Data.zip')  \n"
      ],
      "metadata": {
        "id": "zdweVbN0yutc"
      },
      "execution_count": null,
      "outputs": []
    },
    {
      "cell_type": "code",
      "source": [
        "!unzip Food-Data.zip"
      ],
      "metadata": {
        "id": "DFG9IS-2yekS"
      },
      "execution_count": null,
      "outputs": []
    },
    {
      "cell_type": "code",
      "source": [
        "from google.colab import drive\n",
        "drive.mount('/content/drive')"
      ],
      "metadata": {
        "colab": {
          "base_uri": "https://localhost:8080/"
        },
        "id": "MIvtPLBAg9FM",
        "outputId": "016322e0-0535-42f0-ce4b-04297650f8c0"
      },
      "execution_count": null,
      "outputs": [
        {
          "output_type": "stream",
          "name": "stdout",
          "text": [
            "Mounted at /content/drive\n"
          ]
        }
      ]
    },
    {
      "cell_type": "code",
      "source": [
        "!mv dataset/train/positive dataset/train/1"
      ],
      "metadata": {
        "id": "rb540jxzhTE9"
      },
      "execution_count": null,
      "outputs": []
    },
    {
      "cell_type": "code",
      "source": [
        "!mv dataset/train/negative dataset/train/0"
      ],
      "metadata": {
        "id": "ttiBG6_0hW5v"
      },
      "execution_count": null,
      "outputs": []
    },
    {
      "cell_type": "code",
      "source": [
        "!mkdir Food-Data/test/Egg"
      ],
      "metadata": {
        "id": "R-Yf0b-C5NFX"
      },
      "execution_count": null,
      "outputs": []
    },
    {
      "cell_type": "code",
      "source": [
        "!mv Food-Data/test/* Food-Data/test/Egg"
      ],
      "metadata": {
        "colab": {
          "base_uri": "https://localhost:8080/"
        },
        "id": "a3L9J7aG5Ph2",
        "outputId": "f1c0d14a-18d5-4cf8-a142-30281020e1d7"
      },
      "execution_count": null,
      "outputs": [
        {
          "output_type": "stream",
          "name": "stdout",
          "text": [
            "mv: cannot move 'Food-Data/test/Egg' to a subdirectory of itself, 'Food-Data/test/Egg/Egg'\n"
          ]
        }
      ]
    },
    {
      "cell_type": "code",
      "source": [
        "len(train_data)"
      ],
      "metadata": {
        "colab": {
          "base_uri": "https://localhost:8080/"
        },
        "id": "5GOk5PC15MCI",
        "outputId": "97406d8c-470e-4322-e695-ceb871aa8334"
      },
      "execution_count": null,
      "outputs": [
        {
          "output_type": "execute_result",
          "data": {
            "text/plain": [
              "8582"
            ]
          },
          "metadata": {},
          "execution_count": 21
        }
      ]
    },
    {
      "cell_type": "code",
      "source": [
        "import os\n",
        "from PIL import Image \n",
        "\n",
        "folder_images = \"Food-Data/training/\"\n",
        "size_images = dict()\n",
        "\n",
        "for dirpath, _, filenames in os.walk(folder_images):\n",
        "    for path_image in filenames:\n",
        "      #print(path_image)\n",
        "      image = os.path.abspath(os.path.join(dirpath, path_image))\n",
        "      with Image.open(image) as img:\n",
        "          width, heigth = img.size\n",
        "          size_images[path_image] = {'width': width, 'heigth': heigth}\n",
        "print(size_images)"
      ],
      "metadata": {
        "id": "njTqszBR6U32"
      },
      "execution_count": null,
      "outputs": []
    },
    {
      "cell_type": "code",
      "source": [
        "%%capture\n",
        "BATCH_SIZE = 8\n",
        "\n",
        "transform = transforms.Compose(\n",
        "    [transforms.ToTensor(),\n",
        "     transforms.Resize((289,289))])\n",
        "\n",
        "\n",
        "## transformations\n",
        "\n",
        "## download and load training dataset\n",
        "train_data = torchvision.datasets.ImageFolder(root ='Food-Data/training', transform = transform)\n",
        "trainloader = torch.utils.data.DataLoader(dataset=train_data, batch_size=BATCH_SIZE,\n",
        "                                          shuffle=True, num_workers=2)\n",
        "\n",
        "## download and load testing dataset\n",
        "test_data = torchvision.datasets.ImageFolder(root ='Food-Data/test', transform = transform)\n",
        "testloader = torch.utils.data.DataLoader(dataset=test_data, batch_size=BATCH_SIZE,\n",
        "                                         shuffle=False, num_workers=2)"
      ],
      "metadata": {
        "id": "voNpJ5w2hY1n"
      },
      "execution_count": null,
      "outputs": []
    },
    {
      "cell_type": "code",
      "source": [
        "test_data = torchvision.datasets.ImageFolder(root ='Food-Data/test', transform = transform)\n",
        "testloader = torch.utils.data.DataLoader(dataset=test_data, batch_size=BATCH_SIZE,\n",
        "                                         shuffle=False, num_workers=2)"
      ],
      "metadata": {
        "id": "tOQXsc7p4-mp"
      },
      "execution_count": null,
      "outputs": []
    },
    {
      "cell_type": "code",
      "source": [
        "import numpy as np\n",
        "import matplotlib.pyplot as plt\n",
        "def imshow(inp, title=None):\n",
        "    \"\"\"Imshow for Tensor.\"\"\"\n",
        "    inp = inp.numpy().transpose((1, 2, 0))\n",
        "    mean = np.array([0.485, 0.456, 0.406])\n",
        "    std = np.array([0.229, 0.224, 0.225])\n",
        "    inp = std * inp + mean\n",
        "    inp = np.clip(inp, 0, 1)\n",
        "    plt.imshow(inp)\n",
        "    if title is not None:\n",
        "        plt.title(title)\n",
        "    plt.pause(0.001)  # pause a bit so that plots are updated\n",
        "\n",
        "\n",
        "# Get a batch of training data\n",
        "inputs, classes = next(iter(trainloader))\n",
        "\n",
        "# Make a grid from batch\n",
        "out = torchvision.utils.make_grid(inputs)\n",
        "\n",
        "imshow(out, title=[x for x in classes])"
      ],
      "metadata": {
        "colab": {
          "base_uri": "https://localhost:8080/",
          "height": 105
        },
        "id": "zNj2spu_irap",
        "outputId": "e10bffa7-a5d7-4e17-e3c8-cfb7d6837134"
      },
      "execution_count": null,
      "outputs": [
        {
          "output_type": "display_data",
          "data": {
            "image/png": "[encoded data removed]",
            "text/plain": [
              "<Figure size 432x288 with 1 Axes>"
            ]
          },
          "metadata": {
            "needs_background": "light"
          }
        }
      ]
    },
    {
      "cell_type": "code",
      "source": [
        "for images, labels in trainloader:\n",
        "    print(\"Image batch dimensions:\", images.shape)\n",
        "    print(\"Image label dimensions:\", labels.shape)\n",
        "    break"
      ],
      "metadata": {
        "colab": {
          "base_uri": "https://localhost:8080/"
        },
        "id": "-JRtRzW0oWbv",
        "outputId": "4b8c4441-adcb-4a62-e482-1708c402b64e"
      },
      "execution_count": null,
      "outputs": [
        {
          "output_type": "stream",
          "name": "stdout",
          "text": [
            "Image batch dimensions: torch.Size([4, 3, 100, 100])\n",
            "Image label dimensions: torch.Size([4])\n"
          ]
        }
      ]
    },
    {
      "cell_type": "code",
      "source": [
        "!pip install efficientnet_pytorch"
      ],
      "metadata": {
        "colab": {
          "base_uri": "https://localhost:8080/"
        },
        "id": "L3RmwSIctYEg",
        "outputId": "a85f84d4-54ab-4502-dad2-f59840acf783"
      },
      "execution_count": null,
      "outputs": [
        {
          "output_type": "stream",
          "name": "stdout",
          "text": [
            "Collecting efficientnet_pytorch\n",
            "  Downloading efficientnet_pytorch-0.7.1.tar.gz (21 kB)\n",
            "Requirement already satisfied: torch in /usr/local/lib/python3.7/dist-packages (from efficientnet_pytorch) (1.10.0+cu111)\n",
            "Requirement already satisfied: typing-extensions in /usr/local/lib/python3.7/dist-packages (from torch->efficientnet_pytorch) (3.10.0.2)\n",
            "Building wheels for collected packages: efficientnet-pytorch\n",
            "  Building wheel for efficientnet-pytorch (setup.py) ... \u001b[?25l\u001b[?25hdone\n",
            "  Created wheel for efficientnet-pytorch: filename=efficientnet_pytorch-0.7.1-py3-none-any.whl size=16446 sha256=d1650cf4629bcbde1afab899d7f77c5df3ef64946a2971cc2b3d49129b86910f\n",
            "  Stored in directory: /root/.cache/pip/wheels/0e/cc/b2/49e74588263573ff778da58cc99b9c6349b496636a7e165be6\n",
            "Successfully built efficientnet-pytorch\n",
            "Installing collected packages: efficientnet-pytorch\n",
            "Successfully installed efficientnet-pytorch-0.7.1\n"
          ]
        }
      ]
    },
    {
      "cell_type": "code",
      "source": [
        "#using efficientnet model based transfer learning\n",
        "from efficientnet_pytorch import EfficientNet\n",
        "class MyModel(nn.Module):\n",
        "    def __init__(self):\n",
        "        super(MyModel, self).__init__()\n",
        "        #self.resnet =  EfficientNet.from_pretrained('efficientnet-b7')\n",
        "        self.resnet = models.resnet50(pretrained=True)\n",
        "        self.l1 = nn.Linear(1000 , 128)\n",
        "        self.dropout = nn.Dropout(0.5)\n",
        "        self.l2 = nn.Linear(128,5)\n",
        "        self.relu = nn.ReLU()\n",
        "\n",
        "    def forward(self, input):\n",
        "        x = self.resnet(input)\n",
        "        x = x.view(x.size(0),-1)\n",
        "        x = self.dropout(self.relu(self.l1(x)))\n",
        "        x = self.l2(x)\n",
        "        return x\n",
        "\n",
        "#device = torch.device(\"cuda\" if torch.cuda.is_available() else \"cpu\")\n",
        "#classifier = Classifier().to(device)"
      ],
      "metadata": {
        "id": "tfA-Io8MohQY"
      },
      "execution_count": null,
      "outputs": []
    },
    {
      "cell_type": "code",
      "source": [
        "model = models.resnet50(pretrained=True)\n",
        "\n",
        "model = model.cuda() \n",
        "    \n",
        "num_ftrs = model.fc.in_features\n",
        "model.fc = torch.nn.Linear(num_ftrs, 1024)\n",
        "model.fc = nn.Sequential(\n",
        "    torch.nn.Dropout(0.5),\n",
        "    torch.nn.Linear(num_ftrs, 1024),\n",
        "    torch.nn.Dropout(0.2),\n",
        "    torch.nn.Linear(1024, 512),\n",
        "    torch.nn.Dropout(0.2),\n",
        "    torch.nn.Linear(512, 256),\n",
        "    torch.nn.Dropout(0.2),\n",
        "    torch.nn.Linear(256, 128),\n",
        "    torch.nn.Dropout(0.2),\n",
        "    torch.nn.Linear(128, 5)\n",
        ")\n",
        "\n",
        "model.fc = model.fc.cuda()"
      ],
      "metadata": {
        "id": "0pCB0Psq3Q0e"
      },
      "execution_count": null,
      "outputs": []
    },
    {
      "cell_type": "code",
      "source": [
        "batch_size = 8\n",
        "learning_rate = 3e-3\n",
        "num_epochs = 30"
      ],
      "metadata": {
        "id": "nMCYpGtM3iq-"
      },
      "execution_count": null,
      "outputs": []
    },
    {
      "cell_type": "code",
      "source": [
        "criterion = nn.CrossEntropyLoss()\n",
        "optimizer = torch.optim.SGD(model.parameters(), lr=learning_rate, momentum=0.9, weight_decay=5e-4)\n",
        "scheduler = torch.optim.lr_scheduler.StepLR(optimizer, step_size=10, gamma=0.1)"
      ],
      "metadata": {
        "id": "O-raJ4wr3dIl"
      },
      "execution_count": null,
      "outputs": []
    },
    {
      "cell_type": "code",
      "source": [
        "from torch.autograd import Variable\n"
      ],
      "metadata": {
        "id": "rul7yKwZ4OyZ"
      },
      "execution_count": null,
      "outputs": []
    },
    {
      "cell_type": "code",
      "source": [
        "dataloaders = {\n",
        "    'train':\n",
        "    torch.utils.data.DataLoader(train_data,\n",
        "                                batch_size=batch_size,\n",
        "                                shuffle=True,\n",
        "                                num_workers=2),\n",
        "    'test':\n",
        "    torch.utils.data.DataLoader(test_data,\n",
        "                                batch_size=batch_size,\n",
        "                                shuffle=False,\n",
        "                                num_workers=2)\n",
        "}"
      ],
      "metadata": {
        "id": "RaKOSPsv4mle"
      },
      "execution_count": null,
      "outputs": []
    },
    {
      "cell_type": "code",
      "source": [
        "train_acces, test_acces = [], []\n",
        "train_losses, test_losses = [], []\n",
        "total_step = len(dataloaders['train'])\n",
        "test_loss_min = np.Inf\n",
        "for epoch in range(num_epochs):\n",
        "    print(f'Epoch {epoch}\\n')\n",
        "\n",
        "    network_learned = False\n",
        "\n",
        "    for phase in ['train']:\n",
        "\n",
        "        running_loss = 0.0\n",
        "        running_corrects = 0\n",
        "\n",
        "        if phase == 'train':\n",
        "            model.train()\n",
        "\n",
        "            for batch_idx, (inputs, labels) in enumerate(dataloaders[phase]):\n",
        "\n",
        "                \n",
        "                inputs = Variable(inputs.cuda())\n",
        "                labels = Variable(labels.cuda())\n",
        "                \n",
        "  \n",
        "                inputs = inputs.float()\n",
        "                optimizer.zero_grad()\n",
        "                outputs = model(inputs)\n",
        "                loss = criterion(outputs, labels)\n",
        "                loss.backward()\n",
        "                optimizer.step()\n",
        "\n",
        "                _, preds = torch.max(outputs, 1)\n",
        "                running_loss += loss.item()\n",
        "                running_corrects += torch.sum(preds == labels.data)\n",
        "                if (batch_idx) % 20 == 0:\n",
        "                    print ('Epoch [{}/{}], Step [{}/{}], Loss: {:.4f}'.format(epoch, num_epochs-1, batch_idx, total_step, loss.item()))\n",
        "            scheduler.step()\n",
        "        else:\n",
        "            with torch.no_grad():\n",
        "                model.eval()\n",
        "                for inputs, labels in dataloaders[phase]:\n",
        "                    \n",
        "                    inputs = Variable(inputs.cuda())\n",
        "                    labels = Variable(labels.cuda())\n",
        "                  \n",
        "                    \n",
        "                    inputs = inputs.float()\n",
        "                    outputs = model(inputs)\n",
        "                    loss = criterion(outputs, labels)\n",
        "\n",
        "                    _, preds = torch.max(outputs, 1)\n",
        "                    running_loss += loss.item()\n",
        "                    running_corrects += torch.sum(preds == labels.data)\n",
        "            network_learned = running_loss < test_loss_min\n",
        "            test_loss_min = running_loss if network_learned else test_loss_min\n",
        "\n",
        "\n",
        "        epoch_loss = running_loss / len(train_data)\n",
        "        epoch_acc = running_corrects.double() / len(train_data)\n",
        "        \n",
        "        if phase == 'train':\n",
        "            train_acces.append(epoch_acc * 100)\n",
        "            train_losses.append(epoch_loss)\n",
        "        else:\n",
        "            test_acces.append(epoch_acc * 100)\n",
        "            test_losses.append(epoch_loss)\n",
        "    print(f'\\ntrain-loss: {np.mean(train_losses):.4f}, train-acc: {train_acces[-1]:.4f}')\n",
        "    #print(f'test loss: {np.mean(test_losses):.4f}, test acc: {test_acces[-1]:.4f}\\n')\n",
        "\n",
        "    if network_learned:\n",
        "        torch.save(model.state_dict(), 'models/weights.h5')\n",
        "        print('Improvement-Detected, save-model')"
      ],
      "metadata": {
        "colab": {
          "base_uri": "https://localhost:8080/",
          "height": 1000
        },
        "id": "n-o5c9j53tUS",
        "outputId": "1a7ac4b2-be17-4d62-915f-fd4bb00a4086"
      },
      "execution_count": null,
      "outputs": [
        {
          "output_type": "stream",
          "name": "stdout",
          "text": [
            "Epoch 0\n",
            "\n",
            "Epoch [0/29], Step [0/537], Loss: 1.5736\n",
            "Epoch [0/29], Step [20/537], Loss: 1.5000\n",
            "Epoch [0/29], Step [40/537], Loss: 1.4610\n",
            "Epoch [0/29], Step [60/537], Loss: 1.4011\n",
            "Epoch [0/29], Step [80/537], Loss: 1.2571\n",
            "Epoch [0/29], Step [100/537], Loss: 1.1633\n",
            "Epoch [0/29], Step [120/537], Loss: 0.9073\n",
            "Epoch [0/29], Step [140/537], Loss: 1.1361\n",
            "Epoch [0/29], Step [160/537], Loss: 0.8121\n",
            "Epoch [0/29], Step [180/537], Loss: 0.5864\n",
            "Epoch [0/29], Step [200/537], Loss: 0.5801\n",
            "Epoch [0/29], Step [220/537], Loss: 0.5279\n",
            "Epoch [0/29], Step [240/537], Loss: 0.3820\n",
            "Epoch [0/29], Step [260/537], Loss: 0.7511\n",
            "Epoch [0/29], Step [280/537], Loss: 1.1259\n",
            "Epoch [0/29], Step [300/537], Loss: 0.7450\n",
            "Epoch [0/29], Step [320/537], Loss: 0.8625\n",
            "Epoch [0/29], Step [340/537], Loss: 0.6485\n",
            "Epoch [0/29], Step [360/537], Loss: 0.8626\n",
            "Epoch [0/29], Step [380/537], Loss: 0.2893\n",
            "Epoch [0/29], Step [400/537], Loss: 0.9180\n",
            "Epoch [0/29], Step [420/537], Loss: 0.3382\n",
            "Epoch [0/29], Step [440/537], Loss: 1.1487\n",
            "Epoch [0/29], Step [460/537], Loss: 0.1533\n",
            "Epoch [0/29], Step [480/537], Loss: 0.4020\n",
            "Epoch [0/29], Step [500/537], Loss: 0.8122\n",
            "Epoch [0/29], Step [520/537], Loss: 0.4691\n",
            "\n",
            "train-loss: 0.1075, train-acc: 67.8621\n",
            "Epoch 1\n",
            "\n",
            "Epoch [1/29], Step [0/537], Loss: 0.4212\n",
            "Epoch [1/29], Step [20/537], Loss: 0.2037\n",
            "Epoch [1/29], Step [40/537], Loss: 0.2339\n",
            "Epoch [1/29], Step [60/537], Loss: 0.2284\n",
            "Epoch [1/29], Step [80/537], Loss: 0.5213\n",
            "Epoch [1/29], Step [100/537], Loss: 0.3828\n",
            "Epoch [1/29], Step [120/537], Loss: 0.1750\n",
            "Epoch [1/29], Step [140/537], Loss: 0.5288\n",
            "Epoch [1/29], Step [160/537], Loss: 0.4533\n",
            "Epoch [1/29], Step [180/537], Loss: 0.5658\n",
            "Epoch [1/29], Step [200/537], Loss: 0.3882\n",
            "Epoch [1/29], Step [220/537], Loss: 0.7534\n",
            "Epoch [1/29], Step [240/537], Loss: 0.4518\n",
            "Epoch [1/29], Step [260/537], Loss: 0.9345\n",
            "Epoch [1/29], Step [280/537], Loss: 1.7935\n",
            "Epoch [1/29], Step [300/537], Loss: 0.2618\n",
            "Epoch [1/29], Step [320/537], Loss: 0.2509\n",
            "Epoch [1/29], Step [340/537], Loss: 0.2942\n",
            "Epoch [1/29], Step [360/537], Loss: 0.1745\n",
            "Epoch [1/29], Step [380/537], Loss: 0.5128\n",
            "Epoch [1/29], Step [400/537], Loss: 0.4720\n",
            "Epoch [1/29], Step [420/537], Loss: 0.6080\n",
            "Epoch [1/29], Step [440/537], Loss: 0.5398\n",
            "Epoch [1/29], Step [460/537], Loss: 2.4351\n",
            "Epoch [1/29], Step [480/537], Loss: 0.5244\n",
            "Epoch [1/29], Step [500/537], Loss: 0.3539\n",
            "Epoch [1/29], Step [520/537], Loss: 0.3577\n",
            "\n",
            "train-loss: 0.0860, train-acc: 82.5571\n",
            "Epoch 2\n",
            "\n",
            "Epoch [2/29], Step [0/537], Loss: 0.2122\n",
            "Epoch [2/29], Step [20/537], Loss: 0.1475\n",
            "Epoch [2/29], Step [40/537], Loss: 0.2226\n",
            "Epoch [2/29], Step [60/537], Loss: 0.6074\n",
            "Epoch [2/29], Step [80/537], Loss: 0.0350\n",
            "Epoch [2/29], Step [100/537], Loss: 0.3363\n",
            "Epoch [2/29], Step [120/537], Loss: 0.1509\n",
            "Epoch [2/29], Step [140/537], Loss: 0.2086\n",
            "Epoch [2/29], Step [160/537], Loss: 0.0363\n",
            "Epoch [2/29], Step [180/537], Loss: 0.0204\n",
            "Epoch [2/29], Step [200/537], Loss: 0.3985\n",
            "Epoch [2/29], Step [220/537], Loss: 0.2520\n",
            "Epoch [2/29], Step [240/537], Loss: 0.0870\n",
            "Epoch [2/29], Step [260/537], Loss: 1.3038\n",
            "Epoch [2/29], Step [280/537], Loss: 0.2532\n",
            "Epoch [2/29], Step [300/537], Loss: 0.1497\n",
            "Epoch [2/29], Step [320/537], Loss: 0.4758\n",
            "Epoch [2/29], Step [340/537], Loss: 1.1107\n",
            "Epoch [2/29], Step [360/537], Loss: 0.2134\n",
            "Epoch [2/29], Step [380/537], Loss: 1.2661\n",
            "Epoch [2/29], Step [400/537], Loss: 0.1455\n",
            "Epoch [2/29], Step [420/537], Loss: 0.1416\n",
            "Epoch [2/29], Step [440/537], Loss: 0.2165\n",
            "Epoch [2/29], Step [460/537], Loss: 0.0576\n",
            "Epoch [2/29], Step [480/537], Loss: 0.1915\n",
            "Epoch [2/29], Step [500/537], Loss: 0.8335\n",
            "Epoch [2/29], Step [520/537], Loss: 0.2625\n",
            "\n",
            "train-loss: 0.0739, train-acc: 86.4229\n",
            "Epoch 3\n",
            "\n",
            "Epoch [3/29], Step [0/537], Loss: 0.1033\n",
            "Epoch [3/29], Step [20/537], Loss: 0.0961\n",
            "Epoch [3/29], Step [40/537], Loss: 0.0337\n",
            "Epoch [3/29], Step [60/537], Loss: 0.9942\n",
            "Epoch [3/29], Step [80/537], Loss: 0.2354\n",
            "Epoch [3/29], Step [100/537], Loss: 0.0887\n",
            "Epoch [3/29], Step [120/537], Loss: 0.7607\n",
            "Epoch [3/29], Step [140/537], Loss: 0.0823\n",
            "Epoch [3/29], Step [160/537], Loss: 0.0415\n",
            "Epoch [3/29], Step [180/537], Loss: 0.0714\n",
            "Epoch [3/29], Step [200/537], Loss: 0.6506\n",
            "Epoch [3/29], Step [220/537], Loss: 0.4959\n",
            "Epoch [3/29], Step [240/537], Loss: 0.0602\n",
            "Epoch [3/29], Step [260/537], Loss: 0.4379\n",
            "Epoch [3/29], Step [280/537], Loss: 0.3608\n",
            "Epoch [3/29], Step [300/537], Loss: 0.2959\n",
            "Epoch [3/29], Step [320/537], Loss: 0.1499\n",
            "Epoch [3/29], Step [340/537], Loss: 1.0487\n",
            "Epoch [3/29], Step [360/537], Loss: 0.3329\n",
            "Epoch [3/29], Step [380/537], Loss: 0.2638\n",
            "Epoch [3/29], Step [400/537], Loss: 0.6981\n",
            "Epoch [3/29], Step [420/537], Loss: 0.2700\n",
            "Epoch [3/29], Step [440/537], Loss: 0.1343\n",
            "Epoch [3/29], Step [460/537], Loss: 0.2026\n",
            "Epoch [3/29], Step [480/537], Loss: 0.3293\n",
            "Epoch [3/29], Step [500/537], Loss: 0.3171\n",
            "Epoch [3/29], Step [520/537], Loss: 0.0118\n",
            "\n",
            "train-loss: 0.0667, train-acc: 88.1928\n",
            "Epoch 4\n",
            "\n",
            "Epoch [4/29], Step [0/537], Loss: 0.1911\n",
            "Epoch [4/29], Step [20/537], Loss: 0.6620\n",
            "Epoch [4/29], Step [40/537], Loss: 0.0409\n",
            "Epoch [4/29], Step [60/537], Loss: 0.3146\n",
            "Epoch [4/29], Step [80/537], Loss: 0.1753\n",
            "Epoch [4/29], Step [100/537], Loss: 0.1439\n",
            "Epoch [4/29], Step [120/537], Loss: 0.0132\n",
            "Epoch [4/29], Step [140/537], Loss: 0.2598\n",
            "Epoch [4/29], Step [160/537], Loss: 0.1062\n",
            "Epoch [4/29], Step [180/537], Loss: 0.1227\n",
            "Epoch [4/29], Step [200/537], Loss: 0.1978\n",
            "Epoch [4/29], Step [220/537], Loss: 0.1334\n",
            "Epoch [4/29], Step [240/537], Loss: 0.2588\n",
            "Epoch [4/29], Step [260/537], Loss: 0.1760\n",
            "Epoch [4/29], Step [280/537], Loss: 0.0608\n",
            "Epoch [4/29], Step [300/537], Loss: 0.8464\n",
            "Epoch [4/29], Step [320/537], Loss: 0.1326\n",
            "Epoch [4/29], Step [340/537], Loss: 0.0020\n",
            "Epoch [4/29], Step [360/537], Loss: 0.0275\n",
            "Epoch [4/29], Step [380/537], Loss: 0.2128\n",
            "Epoch [4/29], Step [400/537], Loss: 0.0729\n",
            "Epoch [4/29], Step [420/537], Loss: 0.0225\n",
            "Epoch [4/29], Step [440/537], Loss: 0.1317\n",
            "Epoch [4/29], Step [460/537], Loss: 0.5566\n",
            "Epoch [4/29], Step [480/537], Loss: 0.2425\n",
            "Epoch [4/29], Step [500/537], Loss: 0.1782\n",
            "Epoch [4/29], Step [520/537], Loss: 0.0195\n",
            "\n",
            "train-loss: 0.0608, train-acc: 90.3354\n",
            "Epoch 5\n",
            "\n",
            "Epoch [5/29], Step [0/537], Loss: 1.7162\n",
            "Epoch [5/29], Step [20/537], Loss: 0.2380\n",
            "Epoch [5/29], Step [40/537], Loss: 0.0600\n",
            "Epoch [5/29], Step [60/537], Loss: 0.2998\n",
            "Epoch [5/29], Step [80/537], Loss: 0.0738\n",
            "Epoch [5/29], Step [100/537], Loss: 0.8891\n",
            "Epoch [5/29], Step [120/537], Loss: 0.0198\n",
            "Epoch [5/29], Step [140/537], Loss: 0.0797\n",
            "Epoch [5/29], Step [160/537], Loss: 0.4092\n",
            "Epoch [5/29], Step [180/537], Loss: 0.1213\n",
            "Epoch [5/29], Step [200/537], Loss: 0.5137\n",
            "Epoch [5/29], Step [220/537], Loss: 0.3352\n",
            "Epoch [5/29], Step [240/537], Loss: 0.0274\n",
            "Epoch [5/29], Step [260/537], Loss: 1.2202\n",
            "Epoch [5/29], Step [280/537], Loss: 0.0446\n",
            "Epoch [5/29], Step [300/537], Loss: 0.7985\n",
            "Epoch [5/29], Step [320/537], Loss: 0.1577\n",
            "Epoch [5/29], Step [340/537], Loss: 0.8651\n",
            "Epoch [5/29], Step [360/537], Loss: 0.1662\n",
            "Epoch [5/29], Step [380/537], Loss: 0.2108\n",
            "Epoch [5/29], Step [400/537], Loss: 0.0049\n",
            "Epoch [5/29], Step [420/537], Loss: 0.6821\n",
            "Epoch [5/29], Step [440/537], Loss: 0.1072\n",
            "Epoch [5/29], Step [460/537], Loss: 0.0797\n",
            "Epoch [5/29], Step [480/537], Loss: 0.0043\n",
            "Epoch [5/29], Step [500/537], Loss: 0.0888\n",
            "Epoch [5/29], Step [520/537], Loss: 0.0403\n",
            "\n",
            "train-loss: 0.0564, train-acc: 91.2669\n",
            "Epoch 6\n",
            "\n",
            "Epoch [6/29], Step [0/537], Loss: 0.0478\n",
            "Epoch [6/29], Step [20/537], Loss: 0.2448\n",
            "Epoch [6/29], Step [40/537], Loss: 0.0626\n",
            "Epoch [6/29], Step [60/537], Loss: 0.0105\n",
            "Epoch [6/29], Step [80/537], Loss: 0.0353\n",
            "Epoch [6/29], Step [100/537], Loss: 0.0198\n",
            "Epoch [6/29], Step [120/537], Loss: 0.0156\n",
            "Epoch [6/29], Step [140/537], Loss: 0.0309\n",
            "Epoch [6/29], Step [160/537], Loss: 0.0472\n",
            "Epoch [6/29], Step [180/537], Loss: 0.3604\n",
            "Epoch [6/29], Step [200/537], Loss: 0.0611\n",
            "Epoch [6/29], Step [220/537], Loss: 0.6177\n",
            "Epoch [6/29], Step [240/537], Loss: 0.1619\n",
            "Epoch [6/29], Step [260/537], Loss: 0.5850\n",
            "Epoch [6/29], Step [280/537], Loss: 0.0012\n",
            "Epoch [6/29], Step [300/537], Loss: 0.0662\n",
            "Epoch [6/29], Step [320/537], Loss: 0.1716\n",
            "Epoch [6/29], Step [340/537], Loss: 1.0348\n",
            "Epoch [6/29], Step [360/537], Loss: 0.3729\n",
            "Epoch [6/29], Step [380/537], Loss: 0.0595\n",
            "Epoch [6/29], Step [400/537], Loss: 0.0616\n",
            "Epoch [6/29], Step [420/537], Loss: 0.5888\n",
            "Epoch [6/29], Step [440/537], Loss: 0.1948\n",
            "Epoch [6/29], Step [460/537], Loss: 0.2270\n",
            "Epoch [6/29], Step [480/537], Loss: 0.0286\n",
            "Epoch [6/29], Step [500/537], Loss: 0.4140\n",
            "Epoch [6/29], Step [520/537], Loss: 1.1425\n",
            "\n",
            "train-loss: 0.0528, train-acc: 92.1518\n",
            "Epoch 7\n",
            "\n",
            "Epoch [7/29], Step [0/537], Loss: 0.0775\n",
            "Epoch [7/29], Step [20/537], Loss: 0.0182\n",
            "Epoch [7/29], Step [40/537], Loss: 0.3198\n",
            "Epoch [7/29], Step [60/537], Loss: 0.0518\n",
            "Epoch [7/29], Step [80/537], Loss: 0.1462\n",
            "Epoch [7/29], Step [100/537], Loss: 0.5251\n",
            "Epoch [7/29], Step [120/537], Loss: 0.1687\n",
            "Epoch [7/29], Step [140/537], Loss: 0.0620\n",
            "Epoch [7/29], Step [160/537], Loss: 0.2404\n",
            "Epoch [7/29], Step [180/537], Loss: 0.0918\n",
            "Epoch [7/29], Step [200/537], Loss: 0.2740\n",
            "Epoch [7/29], Step [220/537], Loss: 0.1400\n",
            "Epoch [7/29], Step [240/537], Loss: 0.2372\n",
            "Epoch [7/29], Step [260/537], Loss: 0.0112\n",
            "Epoch [7/29], Step [280/537], Loss: 0.0212\n",
            "Epoch [7/29], Step [300/537], Loss: 0.1062\n",
            "Epoch [7/29], Step [320/537], Loss: 0.0139\n",
            "Epoch [7/29], Step [340/537], Loss: 0.7717\n",
            "Epoch [7/29], Step [360/537], Loss: 0.0093\n",
            "Epoch [7/29], Step [380/537], Loss: 0.0844\n",
            "Epoch [7/29], Step [400/537], Loss: 0.4299\n",
            "Epoch [7/29], Step [420/537], Loss: 1.2622\n",
            "Epoch [7/29], Step [440/537], Loss: 1.0810\n",
            "Epoch [7/29], Step [460/537], Loss: 0.2863\n",
            "Epoch [7/29], Step [480/537], Loss: 0.0209\n",
            "Epoch [7/29], Step [500/537], Loss: 0.0914\n",
            "Epoch [7/29], Step [520/537], Loss: 0.9357\n",
            "\n",
            "train-loss: 0.0495, train-acc: 93.1532\n",
            "Epoch 8\n",
            "\n",
            "Epoch [8/29], Step [0/537], Loss: 0.5820\n",
            "Epoch [8/29], Step [20/537], Loss: 1.4231\n",
            "Epoch [8/29], Step [40/537], Loss: 0.5036\n",
            "Epoch [8/29], Step [60/537], Loss: 0.1154\n",
            "Epoch [8/29], Step [80/537], Loss: 0.0997\n",
            "Epoch [8/29], Step [100/537], Loss: 0.1460\n",
            "Epoch [8/29], Step [120/537], Loss: 0.7091\n",
            "Epoch [8/29], Step [140/537], Loss: 0.0255\n",
            "Epoch [8/29], Step [160/537], Loss: 0.0133\n",
            "Epoch [8/29], Step [180/537], Loss: 0.0600\n",
            "Epoch [8/29], Step [200/537], Loss: 0.0024\n",
            "Epoch [8/29], Step [220/537], Loss: 0.0552\n",
            "Epoch [8/29], Step [240/537], Loss: 0.4838\n",
            "Epoch [8/29], Step [260/537], Loss: 0.0194\n",
            "Epoch [8/29], Step [280/537], Loss: 2.3332\n",
            "Epoch [8/29], Step [300/537], Loss: 0.0432\n",
            "Epoch [8/29], Step [320/537], Loss: 0.3362\n",
            "Epoch [8/29], Step [340/537], Loss: 0.3504\n",
            "Epoch [8/29], Step [360/537], Loss: 0.7044\n",
            "Epoch [8/29], Step [380/537], Loss: 0.0115\n",
            "Epoch [8/29], Step [400/537], Loss: 0.0249\n",
            "Epoch [8/29], Step [420/537], Loss: 0.0156\n",
            "Epoch [8/29], Step [440/537], Loss: 0.0758\n",
            "Epoch [8/29], Step [460/537], Loss: 0.1427\n",
            "Epoch [8/29], Step [480/537], Loss: 0.5214\n",
            "Epoch [8/29], Step [500/537], Loss: 0.1301\n",
            "Epoch [8/29], Step [520/537], Loss: 0.0141\n",
            "\n",
            "train-loss: 0.0469, train-acc: 93.3395\n",
            "Epoch 9\n",
            "\n",
            "Epoch [9/29], Step [0/537], Loss: 0.0670\n",
            "Epoch [9/29], Step [20/537], Loss: 0.0261\n",
            "Epoch [9/29], Step [40/537], Loss: 0.2833\n",
            "Epoch [9/29], Step [60/537], Loss: 0.2688\n",
            "Epoch [9/29], Step [80/537], Loss: 0.0020\n",
            "Epoch [9/29], Step [100/537], Loss: 0.3260\n",
            "Epoch [9/29], Step [120/537], Loss: 0.3283\n",
            "Epoch [9/29], Step [140/537], Loss: 0.3939\n",
            "Epoch [9/29], Step [160/537], Loss: 0.3610\n",
            "Epoch [9/29], Step [180/537], Loss: 0.1274\n",
            "Epoch [9/29], Step [200/537], Loss: 0.0167\n",
            "Epoch [9/29], Step [220/537], Loss: 0.2156\n",
            "Epoch [9/29], Step [240/537], Loss: 0.0285\n",
            "Epoch [9/29], Step [260/537], Loss: 0.9070\n",
            "Epoch [9/29], Step [280/537], Loss: 0.2006\n",
            "Epoch [9/29], Step [300/537], Loss: 0.2150\n",
            "Epoch [9/29], Step [320/537], Loss: 0.5460\n",
            "Epoch [9/29], Step [340/537], Loss: 0.1105\n",
            "Epoch [9/29], Step [360/537], Loss: 0.0133\n",
            "Epoch [9/29], Step [380/537], Loss: 1.4678\n",
            "Epoch [9/29], Step [400/537], Loss: 0.0585\n",
            "Epoch [9/29], Step [420/537], Loss: 0.0157\n",
            "Epoch [9/29], Step [440/537], Loss: 0.0077\n",
            "Epoch [9/29], Step [460/537], Loss: 0.0665\n",
            "Epoch [9/29], Step [480/537], Loss: 0.0344\n",
            "Epoch [9/29], Step [500/537], Loss: 0.3077\n",
            "Epoch [9/29], Step [520/537], Loss: 0.3664\n",
            "\n",
            "train-loss: 0.0449, train-acc: 92.6642\n",
            "Epoch 10\n",
            "\n",
            "Epoch [10/29], Step [0/537], Loss: 0.0018\n",
            "Epoch [10/29], Step [20/537], Loss: 0.0212\n",
            "Epoch [10/29], Step [40/537], Loss: 0.0484\n",
            "Epoch [10/29], Step [60/537], Loss: 0.0093\n",
            "Epoch [10/29], Step [80/537], Loss: 0.0378\n",
            "Epoch [10/29], Step [100/537], Loss: 0.0701\n",
            "Epoch [10/29], Step [120/537], Loss: 0.0016\n",
            "Epoch [10/29], Step [140/537], Loss: 0.0136\n",
            "Epoch [10/29], Step [160/537], Loss: 0.5894\n",
            "Epoch [10/29], Step [180/537], Loss: 0.0407\n",
            "Epoch [10/29], Step [200/537], Loss: 0.4349\n",
            "Epoch [10/29], Step [220/537], Loss: 0.0035\n",
            "Epoch [10/29], Step [240/537], Loss: 0.2972\n",
            "Epoch [10/29], Step [260/537], Loss: 0.0082\n",
            "Epoch [10/29], Step [280/537], Loss: 0.0005\n",
            "Epoch [10/29], Step [300/537], Loss: 0.0186\n",
            "Epoch [10/29], Step [320/537], Loss: 0.0702\n",
            "Epoch [10/29], Step [340/537], Loss: 0.0341\n",
            "Epoch [10/29], Step [360/537], Loss: 0.0389\n",
            "Epoch [10/29], Step [380/537], Loss: 0.0028\n",
            "Epoch [10/29], Step [400/537], Loss: 0.2122\n",
            "Epoch [10/29], Step [420/537], Loss: 0.0334\n",
            "Epoch [10/29], Step [440/537], Loss: 0.0030\n",
            "Epoch [10/29], Step [460/537], Loss: 0.0972\n",
            "Epoch [10/29], Step [480/537], Loss: 0.0019\n",
            "Epoch [10/29], Step [500/537], Loss: 0.0130\n",
            "Epoch [10/29], Step [520/537], Loss: 0.0051\n",
            "\n",
            "train-loss: 0.0416, train-acc: 97.9739\n",
            "Epoch 11\n",
            "\n",
            "Epoch [11/29], Step [0/537], Loss: 0.0069\n",
            "Epoch [11/29], Step [20/537], Loss: 0.0077\n",
            "Epoch [11/29], Step [40/537], Loss: 0.0094\n",
            "Epoch [11/29], Step [60/537], Loss: 0.0019\n",
            "Epoch [11/29], Step [80/537], Loss: 0.0391\n",
            "Epoch [11/29], Step [100/537], Loss: 0.0164\n",
            "Epoch [11/29], Step [120/537], Loss: 0.0045\n",
            "Epoch [11/29], Step [140/537], Loss: 0.0312\n",
            "Epoch [11/29], Step [160/537], Loss: 0.0020\n",
            "Epoch [11/29], Step [180/537], Loss: 0.0197\n",
            "Epoch [11/29], Step [200/537], Loss: 0.0094\n",
            "Epoch [11/29], Step [220/537], Loss: 0.0199\n",
            "Epoch [11/29], Step [240/537], Loss: 0.0051\n",
            "Epoch [11/29], Step [260/537], Loss: 0.0004\n",
            "Epoch [11/29], Step [280/537], Loss: 0.0017\n",
            "Epoch [11/29], Step [300/537], Loss: 0.0395\n",
            "Epoch [11/29], Step [320/537], Loss: 0.0013\n",
            "Epoch [11/29], Step [340/537], Loss: 0.1093\n",
            "Epoch [11/29], Step [360/537], Loss: 0.0045\n",
            "Epoch [11/29], Step [380/537], Loss: 0.0260\n",
            "Epoch [11/29], Step [400/537], Loss: 0.0098\n",
            "Epoch [11/29], Step [420/537], Loss: 0.0010\n",
            "Epoch [11/29], Step [440/537], Loss: 0.0129\n",
            "Epoch [11/29], Step [460/537], Loss: 0.0050\n",
            "Epoch [11/29], Step [480/537], Loss: 0.0024\n",
            "Epoch [11/29], Step [500/537], Loss: 0.0028\n",
            "Epoch [11/29], Step [520/537], Loss: 0.0036\n",
            "\n",
            "train-loss: 0.0386, train-acc: 98.7890\n",
            "Epoch 12\n",
            "\n",
            "Epoch [12/29], Step [0/537], Loss: 0.0085\n",
            "Epoch [12/29], Step [20/537], Loss: 0.0177\n",
            "Epoch [12/29], Step [40/537], Loss: 0.0008\n",
            "Epoch [12/29], Step [60/537], Loss: 0.0002\n",
            "Epoch [12/29], Step [80/537], Loss: 0.0438\n",
            "Epoch [12/29], Step [100/537], Loss: 0.0100\n",
            "Epoch [12/29], Step [120/537], Loss: 0.0117\n",
            "Epoch [12/29], Step [140/537], Loss: 0.0059\n",
            "Epoch [12/29], Step [160/537], Loss: 0.0044\n",
            "Epoch [12/29], Step [180/537], Loss: 0.0172\n",
            "Epoch [12/29], Step [200/537], Loss: 0.0011\n",
            "Epoch [12/29], Step [220/537], Loss: 0.0196\n",
            "Epoch [12/29], Step [240/537], Loss: 0.0007\n",
            "Epoch [12/29], Step [260/537], Loss: 0.0004\n",
            "Epoch [12/29], Step [280/537], Loss: 0.0015\n",
            "Epoch [12/29], Step [300/537], Loss: 0.0024\n",
            "Epoch [12/29], Step [320/537], Loss: 0.0041\n",
            "Epoch [12/29], Step [340/537], Loss: 0.0053\n",
            "Epoch [12/29], Step [360/537], Loss: 0.0132\n",
            "Epoch [12/29], Step [380/537], Loss: 0.0040\n",
            "Epoch [12/29], Step [400/537], Loss: 0.0001\n",
            "Epoch [12/29], Step [420/537], Loss: 0.0039\n",
            "Epoch [12/29], Step [440/537], Loss: 0.0050\n",
            "Epoch [12/29], Step [460/537], Loss: 0.0015\n",
            "Epoch [12/29], Step [480/537], Loss: 0.0020\n",
            "Epoch [12/29], Step [500/537], Loss: 0.2728\n",
            "Epoch [12/29], Step [520/537], Loss: 0.0011\n",
            "\n",
            "train-loss: 0.0359, train-acc: 99.2082\n",
            "Epoch 13\n",
            "\n",
            "Epoch [13/29], Step [0/537], Loss: 0.0085\n",
            "Epoch [13/29], Step [20/537], Loss: 0.0014\n",
            "Epoch [13/29], Step [40/537], Loss: 0.0024\n",
            "Epoch [13/29], Step [60/537], Loss: 0.0136\n",
            "Epoch [13/29], Step [80/537], Loss: 0.0012\n",
            "Epoch [13/29], Step [100/537], Loss: 0.0054\n",
            "Epoch [13/29], Step [120/537], Loss: 0.0030\n",
            "Epoch [13/29], Step [140/537], Loss: 0.0011\n",
            "Epoch [13/29], Step [160/537], Loss: 0.0037\n",
            "Epoch [13/29], Step [180/537], Loss: 0.0006\n",
            "Epoch [13/29], Step [200/537], Loss: 0.0007\n",
            "Epoch [13/29], Step [220/537], Loss: 0.0012\n",
            "Epoch [13/29], Step [240/537], Loss: 0.0032\n",
            "Epoch [13/29], Step [260/537], Loss: 0.0002\n",
            "Epoch [13/29], Step [280/537], Loss: 0.0023\n",
            "Epoch [13/29], Step [300/537], Loss: 0.0021\n",
            "Epoch [13/29], Step [320/537], Loss: 0.0121\n",
            "Epoch [13/29], Step [340/537], Loss: 0.0704\n",
            "Epoch [13/29], Step [360/537], Loss: 0.0052\n"
          ]
        },
        {
          "output_type": "error",
          "ename": "KeyboardInterrupt",
          "evalue": "ignored",
          "traceback": [
            "\u001b[0;31m---------------------------------------------------------------------------\u001b[0m",
            "\u001b[0;31mKeyboardInterrupt\u001b[0m                         Traceback (most recent call last)",
            "\u001b[0;32m<ipython-input-44-9b387cc19e74>\u001b[0m in \u001b[0;36m<module>\u001b[0;34m()\u001b[0m\n\u001b[1;32m     31\u001b[0m \u001b[0;34m\u001b[0m\u001b[0m\n\u001b[1;32m     32\u001b[0m                 \u001b[0m_\u001b[0m\u001b[0;34m,\u001b[0m \u001b[0mpreds\u001b[0m \u001b[0;34m=\u001b[0m \u001b[0mtorch\u001b[0m\u001b[0;34m.\u001b[0m\u001b[0mmax\u001b[0m\u001b[0;34m(\u001b[0m\u001b[0moutputs\u001b[0m\u001b[0;34m,\u001b[0m \u001b[0;36m1\u001b[0m\u001b[0;34m)\u001b[0m\u001b[0;34m\u001b[0m\u001b[0;34m\u001b[0m\u001b[0m\n\u001b[0;32m---> 33\u001b[0;31m                 \u001b[0mrunning_loss\u001b[0m \u001b[0;34m+=\u001b[0m \u001b[0mloss\u001b[0m\u001b[0;34m.\u001b[0m\u001b[0mitem\u001b[0m\u001b[0;34m(\u001b[0m\u001b[0;34m)\u001b[0m\u001b[0;34m\u001b[0m\u001b[0;34m\u001b[0m\u001b[0m\n\u001b[0m\u001b[1;32m     34\u001b[0m                 \u001b[0mrunning_corrects\u001b[0m \u001b[0;34m+=\u001b[0m \u001b[0mtorch\u001b[0m\u001b[0;34m.\u001b[0m\u001b[0msum\u001b[0m\u001b[0;34m(\u001b[0m\u001b[0mpreds\u001b[0m \u001b[0;34m==\u001b[0m \u001b[0mlabels\u001b[0m\u001b[0;34m.\u001b[0m\u001b[0mdata\u001b[0m\u001b[0;34m)\u001b[0m\u001b[0;34m\u001b[0m\u001b[0;34m\u001b[0m\u001b[0m\n\u001b[1;32m     35\u001b[0m                 \u001b[0;32mif\u001b[0m \u001b[0;34m(\u001b[0m\u001b[0mbatch_idx\u001b[0m\u001b[0;34m)\u001b[0m \u001b[0;34m%\u001b[0m \u001b[0;36m20\u001b[0m \u001b[0;34m==\u001b[0m \u001b[0;36m0\u001b[0m\u001b[0;34m:\u001b[0m\u001b[0;34m\u001b[0m\u001b[0;34m\u001b[0m\u001b[0m\n",
            "\u001b[0;31mKeyboardInterrupt\u001b[0m: "
          ]
        }
      ]
    },
    {
      "cell_type": "code",
      "source": [
        "!mkdir models"
      ],
      "metadata": {
        "id": "g_YveI67-XB4"
      },
      "execution_count": null,
      "outputs": []
    },
    {
      "cell_type": "code",
      "source": [
        "torch.save(model.state_dict(), 'models/weights1.h5')"
      ],
      "metadata": {
        "id": "4Ox_2Giy-Tvg"
      },
      "execution_count": null,
      "outputs": []
    },
    {
      "cell_type": "code",
      "source": [
        "!cp -r models/weights1.h5 drive/MyDrive/"
      ],
      "metadata": {
        "id": "rx9IvfSG6GuP"
      },
      "execution_count": null,
      "outputs": []
    },
    {
      "cell_type": "code",
      "source": [
        ""
      ],
      "metadata": {
        "id": "8a0PVfQo-TV2"
      },
      "execution_count": null,
      "outputs": []
    },
    {
      "cell_type": "code",
      "source": [
        "output_pred = []\n",
        "with torch.no_grad():\n",
        "  model.eval()\n",
        "  for (inputs, labels) in dataloaders['test']:\n",
        "      \n",
        "      inputs = Variable(inputs.cuda())\n",
        "      \n",
        "      inputs = inputs.float()\n",
        "      outputs = model(inputs)\n",
        "      _, preds = torch.max(outputs, 1)\n",
        "      for x in preds.tolist():\n",
        "        output_pred.append(x)"
      ],
      "metadata": {
        "id": "JoEe11Gp3eSs"
      },
      "execution_count": null,
      "outputs": []
    },
    {
      "cell_type": "code",
      "source": [
        "class_mapping ={0:'Egg', 1:'Fried food', 2:'Meat', 3:'Rice', 4:'Seafood'}"
      ],
      "metadata": {
        "id": "EAlRdpGs5ihp"
      },
      "execution_count": null,
      "outputs": []
    },
    {
      "cell_type": "code",
      "source": [
        "output_pred = [class_mapping[x] for x in output_pred]"
      ],
      "metadata": {
        "id": "jxOfrD1m5D68"
      },
      "execution_count": null,
      "outputs": []
    },
    {
      "cell_type": "code",
      "source": [
        "image_names = [x[0].split(\"/\")[-1] for x in test_data.imgs]\n",
        "image_names[0:4]"
      ],
      "metadata": {
        "colab": {
          "base_uri": "https://localhost:8080/"
        },
        "id": "xIe8BoZv_o-z",
        "outputId": "056ff2d4-ee5c-4b9e-f1b4-2de9083bd167"
      },
      "execution_count": null,
      "outputs": [
        {
          "output_type": "execute_result",
          "data": {
            "text/plain": [
              "['01jlaz2fpwmd7rg4s6vk.jpg',\n",
              " '02mhsbp3ecxdv19q7uoa.jpg',\n",
              " '031pldkjum5yoir97tz4.jpg',\n",
              " '03eyf4n87qjpboxtkdw6.jpg']"
            ]
          },
          "metadata": {},
          "execution_count": 48
        }
      ]
    },
    {
      "cell_type": "code",
      "source": [
        "import pandas as pd\n",
        "\n",
        "data = { \"file\" : image_names, \"prediction\" : output_pred}\n",
        "df = pd.DataFrame(data)\n",
        "\n",
        "df.head()"
      ],
      "metadata": {
        "colab": {
          "base_uri": "https://localhost:8080/",
          "height": 206
        },
        "id": "g5EGyZsX_qSr",
        "outputId": "fb80aaed-2257-4808-9430-127ae3c58ad2"
      },
      "execution_count": null,
      "outputs": [
        {
          "output_type": "execute_result",
          "data": {
            "text/html": [
              "\n",
              "  <div id=\"df-9d34368b-b8cc-443c-8124-1655f7c5b0f5\">\n",
              "    <div class=\"colab-df-container\">\n",
              "      <div>\n",
              "<style scoped>\n",
              "    .dataframe tbody tr th:only-of-type {\n",
              "        vertical-align: middle;\n",
              "    }\n",
              "\n",
              "    .dataframe tbody tr th {\n",
              "        vertical-align: top;\n",
              "    }\n",
              "\n",
              "    .dataframe thead th {\n",
              "        text-align: right;\n",
              "    }\n",
              "</style>\n",
              "<table border=\"1\" class=\"dataframe\">\n",
              "  <thead>\n",
              "    <tr style=\"text-align: right;\">\n",
              "      <th></th>\n",
              "      <th>file</th>\n",
              "      <th>prediction</th>\n",
              "    </tr>\n",
              "  </thead>\n",
              "  <tbody>\n",
              "    <tr>\n",
              "      <th>0</th>\n",
              "      <td>01jlaz2fpwmd7rg4s6vk.jpg</td>\n",
              "      <td>Egg</td>\n",
              "    </tr>\n",
              "    <tr>\n",
              "      <th>1</th>\n",
              "      <td>02mhsbp3ecxdv19q7uoa.jpg</td>\n",
              "      <td>Seafood</td>\n",
              "    </tr>\n",
              "    <tr>\n",
              "      <th>2</th>\n",
              "      <td>031pldkjum5yoir97tz4.jpg</td>\n",
              "      <td>Meat</td>\n",
              "    </tr>\n",
              "    <tr>\n",
              "      <th>3</th>\n",
              "      <td>03eyf4n87qjpboxtkdw6.jpg</td>\n",
              "      <td>Meat</td>\n",
              "    </tr>\n",
              "    <tr>\n",
              "      <th>4</th>\n",
              "      <td>03mwp54etr2gikxcu81z.jpg</td>\n",
              "      <td>Meat</td>\n",
              "    </tr>\n",
              "  </tbody>\n",
              "</table>\n",
              "</div>\n",
              "      <button class=\"colab-df-convert\" onclick=\"convertToInteractive('df-9d34368b-b8cc-443c-8124-1655f7c5b0f5')\"\n",
              "              title=\"Convert this dataframe to an interactive table.\"\n",
              "              style=\"display:none;\">\n",
              "        \n",
              "  <svg xmlns=\"http://www.w3.org/2000/svg\" height=\"24px\"viewBox=\"0 0 24 24\"\n",
              "       width=\"24px\">\n",
              "    <path d=\"M0 0h24v24H0V0z\" fill=\"none\"/>\n",
              "    <path d=\"M18.56 5.44l.94 2.06.94-2.06 2.06-.94-2.06-.94-.94-2.06-.94 2.06-2.06.94zm-11 1L8.5 8.5l.94-2.06 2.06-.94-2.06-.94L8.5 2.5l-.94 2.06-2.06.94zm10 10l.94 2.06.94-2.06 2.06-.94-2.06-.94-.94-2.06-.94 2.06-2.06.94z\"/><path d=\"M17.41 7.96l-1.37-1.37c-.4-.4-.92-.59-1.43-.59-.52 0-1.04.2-1.43.59L10.3 9.45l-7.72 7.72c-.78.78-.78 2.05 0 2.83L4 21.41c.39.39.9.59 1.41.59.51 0 1.02-.2 1.41-.59l7.78-7.78 2.81-2.81c.8-.78.8-2.07 0-2.86zM5.41 20L4 18.59l7.72-7.72 1.47 1.35L5.41 20z\"/>\n",
              "  </svg>\n",
              "      </button>\n",
              "      \n",
              "  <style>\n",
              "    .colab-df-container {\n",
              "      display:flex;\n",
              "      flex-wrap:wrap;\n",
              "      gap: 12px;\n",
              "    }\n",
              "\n",
              "    .colab-df-convert {\n",
              "      background-color: #E8F0FE;\n",
              "      border: none;\n",
              "      border-radius: 50%;\n",
              "      cursor: pointer;\n",
              "      display: none;\n",
              "      fill: #1967D2;\n",
              "      height: 32px;\n",
              "      padding: 0 0 0 0;\n",
              "      width: 32px;\n",
              "    }\n",
              "\n",
              "    .colab-df-convert:hover {\n",
              "      background-color: #E2EBFA;\n",
              "      box-shadow: 0px 1px 2px rgba(60, 64, 67, 0.3), 0px 1px 3px 1px rgba(60, 64, 67, 0.15);\n",
              "      fill: #174EA6;\n",
              "    }\n",
              "\n",
              "    [theme=dark] .colab-df-convert {\n",
              "      background-color: #3B4455;\n",
              "      fill: #D2E3FC;\n",
              "    }\n",
              "\n",
              "    [theme=dark] .colab-df-convert:hover {\n",
              "      background-color: #434B5C;\n",
              "      box-shadow: 0px 1px 3px 1px rgba(0, 0, 0, 0.15);\n",
              "      filter: drop-shadow(0px 1px 2px rgba(0, 0, 0, 0.3));\n",
              "      fill: #FFFFFF;\n",
              "    }\n",
              "  </style>\n",
              "\n",
              "      <script>\n",
              "        const buttonEl =\n",
              "          document.querySelector('#df-9d34368b-b8cc-443c-8124-1655f7c5b0f5 button.colab-df-convert');\n",
              "        buttonEl.style.display =\n",
              "          google.colab.kernel.accessAllowed ? 'block' : 'none';\n",
              "\n",
              "        async function convertToInteractive(key) {\n",
              "          const element = document.querySelector('#df-9d34368b-b8cc-443c-8124-1655f7c5b0f5');\n",
              "          const dataTable =\n",
              "            await google.colab.kernel.invokeFunction('convertToInteractive',\n",
              "                                                     [key], {});\n",
              "          if (!dataTable) return;\n",
              "\n",
              "          const docLinkHtml = 'Like what you see? Visit the ' +\n",
              "            '<a target=\"_blank\" href=https://colab.research.google.com/notebooks/data_table.ipynb>data table notebook</a>'\n",
              "            + ' to learn more about interactive tables.';\n",
              "          element.innerHTML = '';\n",
              "          dataTable['output_type'] = 'display_data';\n",
              "          await google.colab.output.renderOutput(dataTable, element);\n",
              "          const docLink = document.createElement('div');\n",
              "          docLink.innerHTML = docLinkHtml;\n",
              "          element.appendChild(docLink);\n",
              "        }\n",
              "      </script>\n",
              "    </div>\n",
              "  </div>\n",
              "  "
            ],
            "text/plain": [
              "                       file prediction\n",
              "0  01jlaz2fpwmd7rg4s6vk.jpg        Egg\n",
              "1  02mhsbp3ecxdv19q7uoa.jpg    Seafood\n",
              "2  031pldkjum5yoir97tz4.jpg       Meat\n",
              "3  03eyf4n87qjpboxtkdw6.jpg       Meat\n",
              "4  03mwp54etr2gikxcu81z.jpg       Meat"
            ]
          },
          "metadata": {},
          "execution_count": 49
        }
      ]
    },
    {
      "cell_type": "code",
      "source": [
        "df.to_csv(\"output.csv\", index = False)"
      ],
      "metadata": {
        "id": "B4wnGZ3L_xuz"
      },
      "execution_count": null,
      "outputs": []
    },
    {
      "cell_type": "code",
      "source": [
        "!cp -r output.csv drive/MyDrive/output_last.csv"
      ],
      "metadata": {
        "id": "4cfOwkXdEvQr"
      },
      "execution_count": null,
      "outputs": []
    },
    {
      "cell_type": "code",
      "source": [
        "## test the model with 1 batch\n",
        "model = MyModel()\n",
        "for images, labels in trainloader:\n",
        "    print(\"batch size:\", images.shape)\n",
        "    out = model(images)\n",
        "    print(out.shape)\n",
        "    break"
      ],
      "metadata": {
        "colab": {
          "base_uri": "https://localhost:8080/"
        },
        "id": "5ht9sF5cozkq",
        "outputId": "4d700e61-bcc8-4756-ceaa-cb652460e16f"
      },
      "execution_count": null,
      "outputs": [
        {
          "output_type": "stream",
          "name": "stdout",
          "text": [
            "Loaded pretrained weights for efficientnet-b7\n",
            "batch size: torch.Size([4, 3, 128, 128])\n",
            "torch.Size([4, 2])\n"
          ]
        }
      ]
    },
    {
      "cell_type": "code",
      "source": [
        "learning_rate = 0.001\n",
        "num_epochs = 5\n",
        "\n",
        "device = torch.device(\"cuda:0\" if torch.cuda.is_available() else \"cpu\")\n",
        "model = MyModel()\n",
        "model = model.to(device)\n",
        "criterion = nn.CrossEntropyLoss()\n",
        "optimizer = torch.optim.Adam(model.parameters(), lr=learning_rate)"
      ],
      "metadata": {
        "colab": {
          "base_uri": "https://localhost:8080/",
          "height": 104,
          "referenced_widgets": [
            "25bf89c96c0c45afb66a9ea2d31235d2",
            "83ad50d410244fceac7b02248a6e9f60",
            "8974ee7defd14101970b203343dfafc6",
            "c5cce5840af24629bacf43aeb1708780",
            "c6b4f991cf514da397d09aa3164826a1",
            "358975289916433d8a71f598f0963c7e",
            "742bd1a0a22d4508ae7670947c2f003a",
            "4131bea0550c405ab5e90873f72cee0f",
            "d925e56034094fdba2a6059871de3cb3",
            "8b06ef8b4aac4feab40c25e26b6a76c5",
            "a873e10fcb9f41cbbf03e35a814af8b6"
          ]
        },
        "id": "hbZZwRmXpgT6",
        "outputId": "ede074b3-f62b-4264-e292-2a52039c84d7"
      },
      "execution_count": null,
      "outputs": [
        {
          "output_type": "stream",
          "name": "stderr",
          "text": [
            "Downloading: \"https://github.com/lukemelas/EfficientNet-PyTorch/releases/download/1.0/efficientnet-b7-dcc49843.pth\" to /root/.cache/torch/hub/checkpoints/efficientnet-b7-dcc49843.pth\n"
          ]
        },
        {
          "output_type": "display_data",
          "data": {
            "application/vnd.jupyter.widget-view+json": {
              "model_id": "25bf89c96c0c45afb66a9ea2d31235d2",
              "version_minor": 0,
              "version_major": 2
            },
            "text/plain": [
              "  0%|          | 0.00/254M [00:00<?, ?B/s]"
            ]
          },
          "metadata": {}
        },
        {
          "output_type": "stream",
          "name": "stdout",
          "text": [
            "Loaded pretrained weights for efficientnet-b7\n"
          ]
        }
      ]
    },
    {
      "cell_type": "code",
      "source": [
        "## compute accuracy\n",
        "def get_accuracy(logit, target, batch_size):\n",
        "    ''' Obtain accuracy for training round '''\n",
        "    corrects = (torch.max(logit, 1)[1].view(target.size()).data == target.data).sum()\n",
        "    accuracy = 100.0 * corrects/batch_size\n",
        "    return accuracy.item()"
      ],
      "metadata": {
        "id": "AndKpUQbo2dJ"
      },
      "execution_count": null,
      "outputs": []
    },
    {
      "cell_type": "code",
      "source": [
        "for epoch in range(num_epochs):\n",
        "    train_running_loss = 0.0\n",
        "    train_acc = 0.0\n",
        "\n",
        "    model = model.train()\n",
        "\n",
        "    ## training step\n",
        "    for i, (images, labels) in enumerate(trainloader):\n",
        "        \n",
        "        images = images.to(device)\n",
        "        labels = labels.to(device)\n",
        "\n",
        "        ## forward + backprop + loss\n",
        "        logits = model(images)\n",
        "        loss = criterion(logits, labels)\n",
        "        optimizer.zero_grad()\n",
        "        loss.backward()\n",
        "\n",
        "        ## update model params\n",
        "        optimizer.step()\n",
        "\n",
        "        train_running_loss += loss.detach().item()\n",
        "        train_acc += get_accuracy(logits, labels, BATCH_SIZE)\n",
        "    \n",
        "    model.eval()\n",
        "    print('Epoch: %d | Loss: %.4f | Train Accuracy: %.2f' \\\n",
        "          %(epoch, train_running_loss / i, train_acc/i))        "
      ],
      "metadata": {
        "id": "IBoynguqpbtf"
      },
      "execution_count": null,
      "outputs": []
    },
    {
      "cell_type": "code",
      "source": [
        "torch.save(model.state_dict(), \"check_model\")"
      ],
      "metadata": {
        "id": "KXmjdGhB5y7-"
      },
      "execution_count": null,
      "outputs": []
    },
    {
      "cell_type": "code",
      "source": [
        "test_acc = 0.0\n",
        "outputs = []\n",
        "for i, (images, labels) in enumerate(testloader, 0):\n",
        "    \n",
        "    images = images.to(device)\n",
        "    #labels = labels.to(device)\n",
        "    outputs.append(model(images))\n",
        "    "
      ],
      "metadata": {
        "id": "iX4EqzO4t1Or"
      },
      "execution_count": null,
      "outputs": []
    },
    {
      "cell_type": "code",
      "source": [
        ""
      ],
      "metadata": {
        "id": "nmXensMW4aX1"
      },
      "execution_count": null,
      "outputs": []
    }
  ]
}